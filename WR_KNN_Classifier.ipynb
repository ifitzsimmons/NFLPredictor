{
 "cells": [
  {
   "cell_type": "markdown",
   "metadata": {},
   "source": [
    "# Pseudo code for KNN classifier"
   ]
  },
  {
   "cell_type": "code",
   "execution_count": 33,
   "metadata": {},
   "outputs": [
    {
     "name": "stdout",
     "output_type": "stream",
     "text": [
      "\u001b[33mDEPRECATION: Configuring installation scheme with distutils config files is deprecated and will no longer work in the near future. If you are using a Homebrew or Linuxbrew Python, please see discussion at https://github.com/Homebrew/homebrew-core/issues/76621\u001b[0m\n",
      "Requirement already satisfied: pandas in /opt/homebrew/lib/python3.9/site-packages (1.4.1)\n",
      "Requirement already satisfied: sklearn in /opt/homebrew/lib/python3.9/site-packages (0.0)\n",
      "Requirement already satisfied: pytz>=2020.1 in /opt/homebrew/lib/python3.9/site-packages (from pandas) (2021.3)\n",
      "Requirement already satisfied: python-dateutil>=2.8.1 in /opt/homebrew/lib/python3.9/site-packages (from pandas) (2.8.2)\n",
      "Requirement already satisfied: numpy>=1.20.0 in /opt/homebrew/lib/python3.9/site-packages (from pandas) (1.22.2)\n",
      "Requirement already satisfied: scikit-learn in /opt/homebrew/lib/python3.9/site-packages (from sklearn) (1.0.2)\n",
      "Requirement already satisfied: six>=1.5 in /opt/homebrew/lib/python3.9/site-packages (from python-dateutil>=2.8.1->pandas) (1.16.0)\n",
      "Requirement already satisfied: joblib>=0.11 in /opt/homebrew/lib/python3.9/site-packages (from scikit-learn->sklearn) (1.1.0)\n",
      "Requirement already satisfied: scipy>=1.1.0 in /opt/homebrew/lib/python3.9/site-packages (from scikit-learn->sklearn) (1.8.0)\n",
      "Requirement already satisfied: threadpoolctl>=2.0.0 in /opt/homebrew/lib/python3.9/site-packages (from scikit-learn->sklearn) (3.1.0)\n",
      "\u001b[33mWARNING: You are using pip version 21.3.1; however, version 22.0.3 is available.\n",
      "You should consider upgrading via the '/opt/homebrew/opt/python@3.9/bin/python3.9 -m pip install --upgrade pip' command.\u001b[0m\n"
     ]
    }
   ],
   "source": [
    "!pip3 install pandas sklearn"
   ]
  },
  {
   "cell_type": "code",
   "execution_count": 34,
   "metadata": {},
   "outputs": [],
   "source": [
    "import json\n",
    "import pandas as pd\n",
    "from sklearn.metrics import confusion_matrix\n",
    "from sklearn.model_selection import train_test_split"
   ]
  },
  {
   "cell_type": "code",
   "execution_count": 35,
   "metadata": {},
   "outputs": [],
   "source": [
    "pro_wr_data_scores = pd.read_csv('../ProData/WR_career_stats_scored.csv')\n",
    "college_wr_data = pd.read_csv('../CollegeData/all_receiving.csv')"
   ]
  },
  {
   "cell_type": "markdown",
   "metadata": {},
   "source": [
    "## Iterate through list of matches and map college id to nfl id"
   ]
  },
  {
   "cell_type": "code",
   "execution_count": 36,
   "metadata": {},
   "outputs": [],
   "source": [
    "with open('./NFL EDA/matches.json', 'r') as match_file:\n",
    "  match_data = json.load(match_file)"
   ]
  },
  {
   "cell_type": "code",
   "execution_count": 37,
   "metadata": {},
   "outputs": [
    {
     "data": {
      "text/plain": [
       "3865"
      ]
     },
     "execution_count": 37,
     "metadata": {},
     "output_type": "execute_result"
    }
   ],
   "source": [
    "player_id_tuple = [(match['nfl_id'], match['college_id']) for match in match_data]\n",
    "\n",
    "nfl_id, college_id = list(zip(*player_id_tuple))\n",
    "player_ids = pd.DataFrame.from_dict({\n",
    "  'nfl_id': nfl_id,\n",
    "  'college_id': college_id\n",
    "}).set_index('nfl_id')\n",
    "\n",
    "len(player_ids)"
   ]
  },
  {
   "cell_type": "markdown",
   "metadata": {},
   "source": [
    "## Reset pro data index to college player id"
   ]
  },
  {
   "cell_type": "code",
   "execution_count": 54,
   "metadata": {},
   "outputs": [
    {
     "name": "stdout",
     "output_type": "stream",
     "text": [
      "578\n",
      "481\n"
     ]
    },
    {
     "data": {
      "text/html": [
       "<div>\n",
       "<style scoped>\n",
       "    .dataframe tbody tr th:only-of-type {\n",
       "        vertical-align: middle;\n",
       "    }\n",
       "\n",
       "    .dataframe tbody tr th {\n",
       "        vertical-align: top;\n",
       "    }\n",
       "\n",
       "    .dataframe thead th {\n",
       "        text-align: right;\n",
       "    }\n",
       "</style>\n",
       "<table border=\"1\" class=\"dataframe\">\n",
       "  <thead>\n",
       "    <tr style=\"text-align: right;\">\n",
       "      <th></th>\n",
       "      <th>season_count</th>\n",
       "      <th>career_score</th>\n",
       "      <th>college_id</th>\n",
       "    </tr>\n",
       "  </thead>\n",
       "  <tbody>\n",
       "    <tr>\n",
       "      <th>AbbrJa00</th>\n",
       "      <td>3</td>\n",
       "      <td>-0.637018</td>\n",
       "      <td>jared-abbrederis-1</td>\n",
       "    </tr>\n",
       "    <tr>\n",
       "      <th>AdamDa01</th>\n",
       "      <td>8</td>\n",
       "      <td>1.446112</td>\n",
       "      <td>davante-adams-1</td>\n",
       "    </tr>\n",
       "    <tr>\n",
       "      <th>AdamJo01</th>\n",
       "      <td>1</td>\n",
       "      <td>-0.749130</td>\n",
       "      <td>joe-adams-1</td>\n",
       "    </tr>\n",
       "    <tr>\n",
       "      <th>AghoNe00</th>\n",
       "      <td>7</td>\n",
       "      <td>0.439694</td>\n",
       "      <td>nelson-agholor-1</td>\n",
       "    </tr>\n",
       "    <tr>\n",
       "      <th>AikeSa00</th>\n",
       "      <td>8</td>\n",
       "      <td>-0.516724</td>\n",
       "      <td>sam-aiken-1</td>\n",
       "    </tr>\n",
       "  </tbody>\n",
       "</table>\n",
       "</div>"
      ],
      "text/plain": [
       "          season_count  career_score          college_id\n",
       "AbbrJa00             3     -0.637018  jared-abbrederis-1\n",
       "AdamDa01             8      1.446112     davante-adams-1\n",
       "AdamJo01             1     -0.749130         joe-adams-1\n",
       "AghoNe00             7      0.439694    nelson-agholor-1\n",
       "AikeSa00             8     -0.516724         sam-aiken-1"
      ]
     },
     "execution_count": 54,
     "metadata": {},
     "output_type": "execute_result"
    }
   ],
   "source": [
    "target = pro_wr_data_scores.set_index('player_id').join(player_ids, how='inner')#.set_index('college_id')\n",
    "print(len(pro_wr_data_scores))\n",
    "print(len(target))\n",
    "target.head()"
   ]
  },
  {
   "cell_type": "markdown",
   "metadata": {},
   "source": [
    "## Split Scored Pro data into tiers for model training / testing"
   ]
  },
  {
   "cell_type": "code",
   "execution_count": 53,
   "metadata": {},
   "outputs": [
    {
     "data": {
      "text/html": [
       "<div>\n",
       "<style scoped>\n",
       "    .dataframe tbody tr th:only-of-type {\n",
       "        vertical-align: middle;\n",
       "    }\n",
       "\n",
       "    .dataframe tbody tr th {\n",
       "        vertical-align: top;\n",
       "    }\n",
       "\n",
       "    .dataframe thead th {\n",
       "        text-align: right;\n",
       "    }\n",
       "</style>\n",
       "<table border=\"1\" class=\"dataframe\">\n",
       "  <thead>\n",
       "    <tr style=\"text-align: right;\">\n",
       "      <th></th>\n",
       "      <th>player_id</th>\n",
       "      <th>season_count</th>\n",
       "      <th>career_score</th>\n",
       "    </tr>\n",
       "  </thead>\n",
       "  <tbody>\n",
       "    <tr>\n",
       "      <th>0</th>\n",
       "      <td>AbbrJa00</td>\n",
       "      <td>3</td>\n",
       "      <td>-0.637018</td>\n",
       "    </tr>\n",
       "    <tr>\n",
       "      <th>1</th>\n",
       "      <td>AdamDa01</td>\n",
       "      <td>8</td>\n",
       "      <td>1.446112</td>\n",
       "    </tr>\n",
       "    <tr>\n",
       "      <th>2</th>\n",
       "      <td>AdamJo01</td>\n",
       "      <td>1</td>\n",
       "      <td>-0.749130</td>\n",
       "    </tr>\n",
       "    <tr>\n",
       "      <th>3</th>\n",
       "      <td>AghoNe00</td>\n",
       "      <td>7</td>\n",
       "      <td>0.439694</td>\n",
       "    </tr>\n",
       "    <tr>\n",
       "      <th>4</th>\n",
       "      <td>AikeSa00</td>\n",
       "      <td>8</td>\n",
       "      <td>-0.516724</td>\n",
       "    </tr>\n",
       "  </tbody>\n",
       "</table>\n",
       "</div>"
      ],
      "text/plain": [
       "  player_id  season_count  career_score\n",
       "0  AbbrJa00             3     -0.637018\n",
       "1  AdamDa01             8      1.446112\n",
       "2  AdamJo01             1     -0.749130\n",
       "3  AghoNe00             7      0.439694\n",
       "4  AikeSa00             8     -0.516724"
      ]
     },
     "execution_count": 53,
     "metadata": {},
     "output_type": "execute_result"
    }
   ],
   "source": [
    "pro_wr_data_scores.head()"
   ]
  },
  {
   "cell_type": "code",
   "execution_count": 55,
   "metadata": {
    "scrolled": true
   },
   "outputs": [
    {
     "name": "stdout",
     "output_type": "stream",
     "text": [
      "96\n",
      "481\n",
      "0\n",
      "getting players 0 - 96\n",
      "1\n",
      "getting players 96 - 192\n",
      "2\n",
      "getting players 192 - 288\n",
      "3\n",
      "getting players 288 - 384\n",
      "4\n",
      "creating last group\n",
      "5\n",
      "getting players 480 - 576\n"
     ]
    }
   ],
   "source": [
    "TIERS = 5\n",
    "\n",
    "sorted_scores = target.sort_values(by='career_score').reset_index()\n",
    "number_of_players = len(sorted_scores)\n",
    "increment = number_of_players // TIERS\n",
    "print(increment)\n",
    "print(number_of_players)\n",
    "\n",
    "\n",
    "prev_idx = 0\n",
    "for tier_num, i in enumerate(range(0, number_of_players, increment)):\n",
    "    print(tier_num)\n",
    "    increment_end = prev_idx + increment\n",
    "    if tier_num + 1 == TIERS:\n",
    "        print('creating last group')\n",
    "        sorted_scores.loc[prev_idx:, 'tier'] = tier_num\n",
    "    else:\n",
    "        print(f'getting players {prev_idx} - {increment_end}')\n",
    "        sorted_scores.loc[prev_idx:increment_end, 'tier'] = tier_num\n",
    "\n",
    "    prev_idx = i + increment\n",
    "  \n",
    "target = sorted_scores.set_index('college_id').drop(['season_count', 'career_score'], axis=1)"
   ]
  },
  {
   "cell_type": "code",
   "execution_count": 56,
   "metadata": {},
   "outputs": [
    {
     "data": {
      "text/plain": [
       "96"
      ]
     },
     "execution_count": 56,
     "metadata": {},
     "output_type": "execute_result"
    }
   ],
   "source": [
    "top_tier = target[target.tier == 4]\n",
    "len(top_tier)"
   ]
  },
  {
   "cell_type": "code",
   "execution_count": 57,
   "metadata": {},
   "outputs": [],
   "source": [
    "with open('../ProData/cleaned/draft_data/WR.json', 'r') as infile:\n",
    "    data = json.load(infile)"
   ]
  },
  {
   "cell_type": "code",
   "execution_count": 65,
   "metadata": {},
   "outputs": [],
   "source": [
    "top_tier_nfl_players = top_tier['index'].to_list()"
   ]
  },
  {
   "cell_type": "code",
   "execution_count": 66,
   "metadata": {},
   "outputs": [],
   "source": [
    "top_tier_draft = {player: draft_data for player, draft_data in data.items() if player in top_tier_nfl_players}"
   ]
  },
  {
   "cell_type": "code",
   "execution_count": 69,
   "metadata": {},
   "outputs": [
    {
     "data": {
      "text/plain": [
       "56.052083333333336"
      ]
     },
     "execution_count": 69,
     "metadata": {},
     "output_type": "execute_result"
    }
   ],
   "source": [
    "round_ = 0\n",
    "for _, draft_D in top_tier_draft.items():\n",
    "    round_ += draft_D['draft_pick']\n",
    "    \n",
    "round_ / 96"
   ]
  },
  {
   "cell_type": "markdown",
   "metadata": {},
   "source": [
    "## Clean College"
   ]
  },
  {
   "cell_type": "code",
   "execution_count": 40,
   "metadata": {},
   "outputs": [],
   "source": [
    "players_to_keep = set(target.index.values).intersection(set(college_wr_data.playerId.values))\n"
   ]
  },
  {
   "cell_type": "code",
   "execution_count": 41,
   "metadata": {},
   "outputs": [
    {
     "data": {
      "text/plain": [
       "455"
      ]
     },
     "execution_count": 41,
     "metadata": {},
     "output_type": "execute_result"
    }
   ],
   "source": [
    "len(players_to_keep)"
   ]
  },
  {
   "cell_type": "code",
   "execution_count": 42,
   "metadata": {},
   "outputs": [
    {
     "name": "stderr",
     "output_type": "stream",
     "text": [
      "/var/folders/ky/3trdlcm94d9dgq_70q3lbmjr0000gn/T/ipykernel_91694/3872761999.py:1: FutureWarning: Passing a set as an indexer is deprecated and will raise in a future version. Use a list instead.\n",
      "  grouped_data = college_wr_data.groupby('playerId').sum().loc[players_to_keep]\n"
     ]
    }
   ],
   "source": [
    "grouped_data = college_wr_data.groupby('playerId').sum().loc[players_to_keep]\n",
    "college_feature_data = grouped_data\n",
    "for feature in grouped_data:\n",
    "    if feature == 'g':\n",
    "        college_feature_data['g'] = grouped_data['g']\n",
    "        continue\n",
    "        \n",
    "    college_feature_data[feature] = grouped_data[feature] / grouped_data['g']"
   ]
  },
  {
   "cell_type": "code",
   "execution_count": 43,
   "metadata": {},
   "outputs": [
    {
     "name": "stderr",
     "output_type": "stream",
     "text": [
      "/var/folders/ky/3trdlcm94d9dgq_70q3lbmjr0000gn/T/ipykernel_91694/2461575306.py:1: FutureWarning: Passing a set as an indexer is deprecated and will raise in a future version. Use a list instead.\n",
      "  target = target.loc[players_to_keep]\n"
     ]
    },
    {
     "data": {
      "text/html": [
       "<div>\n",
       "<style scoped>\n",
       "    .dataframe tbody tr th:only-of-type {\n",
       "        vertical-align: middle;\n",
       "    }\n",
       "\n",
       "    .dataframe tbody tr th {\n",
       "        vertical-align: top;\n",
       "    }\n",
       "\n",
       "    .dataframe thead th {\n",
       "        text-align: right;\n",
       "    }\n",
       "</style>\n",
       "<table border=\"1\" class=\"dataframe\">\n",
       "  <thead>\n",
       "    <tr style=\"text-align: right;\">\n",
       "      <th></th>\n",
       "      <th>tier</th>\n",
       "    </tr>\n",
       "    <tr>\n",
       "      <th>college_id</th>\n",
       "      <th></th>\n",
       "    </tr>\n",
       "  </thead>\n",
       "  <tbody>\n",
       "    <tr>\n",
       "      <th>antonio-brown-1</th>\n",
       "      <td>5.0</td>\n",
       "    </tr>\n",
       "    <tr>\n",
       "      <th>nate-burleson-1</th>\n",
       "      <td>4.0</td>\n",
       "    </tr>\n",
       "    <tr>\n",
       "      <th>laviska-shenault-jr-1</th>\n",
       "      <td>4.0</td>\n",
       "    </tr>\n",
       "    <tr>\n",
       "      <th>terry-mclaurin-1</th>\n",
       "      <td>4.0</td>\n",
       "    </tr>\n",
       "    <tr>\n",
       "      <th>stefon-diggs-1</th>\n",
       "      <td>4.0</td>\n",
       "    </tr>\n",
       "    <tr>\n",
       "      <th>courtland-sutton-1</th>\n",
       "      <td>4.0</td>\n",
       "    </tr>\n",
       "    <tr>\n",
       "      <th>darren-waller-1</th>\n",
       "      <td>4.0</td>\n",
       "    </tr>\n",
       "    <tr>\n",
       "      <th>julio-jones-1</th>\n",
       "      <td>4.0</td>\n",
       "    </tr>\n",
       "    <tr>\n",
       "      <th>brandon-lafell-1</th>\n",
       "      <td>4.0</td>\n",
       "    </tr>\n",
       "    <tr>\n",
       "      <th>sammy-watkins-1</th>\n",
       "      <td>4.0</td>\n",
       "    </tr>\n",
       "    <tr>\n",
       "      <th>chad-johnson-1</th>\n",
       "      <td>4.0</td>\n",
       "    </tr>\n",
       "    <tr>\n",
       "      <th>golden-tate-1</th>\n",
       "      <td>4.0</td>\n",
       "    </tr>\n",
       "    <tr>\n",
       "      <th>sidney-rice-1</th>\n",
       "      <td>4.0</td>\n",
       "    </tr>\n",
       "    <tr>\n",
       "      <th>brandon-marshall-1</th>\n",
       "      <td>4.0</td>\n",
       "    </tr>\n",
       "    <tr>\n",
       "      <th>marvin-jones-1</th>\n",
       "      <td>4.0</td>\n",
       "    </tr>\n",
       "    <tr>\n",
       "      <th>andre-johnson-1</th>\n",
       "      <td>4.0</td>\n",
       "    </tr>\n",
       "    <tr>\n",
       "      <th>plaxico-burress-1</th>\n",
       "      <td>4.0</td>\n",
       "    </tr>\n",
       "    <tr>\n",
       "      <th>jeremy-maclin-1</th>\n",
       "      <td>4.0</td>\n",
       "    </tr>\n",
       "    <tr>\n",
       "      <th>mike-williams-4</th>\n",
       "      <td>4.0</td>\n",
       "    </tr>\n",
       "    <tr>\n",
       "      <th>jordy-nelson-1</th>\n",
       "      <td>4.0</td>\n",
       "    </tr>\n",
       "    <tr>\n",
       "      <th>aj-brown-3</th>\n",
       "      <td>4.0</td>\n",
       "    </tr>\n",
       "    <tr>\n",
       "      <th>antonio-bryant-1</th>\n",
       "      <td>4.0</td>\n",
       "    </tr>\n",
       "    <tr>\n",
       "      <th>darnell-mooney-1</th>\n",
       "      <td>4.0</td>\n",
       "    </tr>\n",
       "    <tr>\n",
       "      <th>steve-johnson-2</th>\n",
       "      <td>4.0</td>\n",
       "    </tr>\n",
       "    <tr>\n",
       "      <th>mike-williams-17</th>\n",
       "      <td>4.0</td>\n",
       "    </tr>\n",
       "    <tr>\n",
       "      <th>juju-smith-1</th>\n",
       "      <td>4.0</td>\n",
       "    </tr>\n",
       "    <tr>\n",
       "      <th>calvin-ridley-1</th>\n",
       "      <td>4.0</td>\n",
       "    </tr>\n",
       "    <tr>\n",
       "      <th>justin-jefferson-1</th>\n",
       "      <td>4.0</td>\n",
       "    </tr>\n",
       "    <tr>\n",
       "      <th>desean-jackson-1</th>\n",
       "      <td>4.0</td>\n",
       "    </tr>\n",
       "    <tr>\n",
       "      <th>eric-decker-1</th>\n",
       "      <td>4.0</td>\n",
       "    </tr>\n",
       "    <tr>\n",
       "      <th>amari-cooper-1</th>\n",
       "      <td>4.0</td>\n",
       "    </tr>\n",
       "    <tr>\n",
       "      <th>deion-branch-1</th>\n",
       "      <td>4.0</td>\n",
       "    </tr>\n",
       "    <tr>\n",
       "      <th>sterling-shepard-1</th>\n",
       "      <td>4.0</td>\n",
       "    </tr>\n",
       "    <tr>\n",
       "      <th>calvin-johnson-1</th>\n",
       "      <td>4.0</td>\n",
       "    </tr>\n",
       "    <tr>\n",
       "      <th>darrell-jackson-1</th>\n",
       "      <td>4.0</td>\n",
       "    </tr>\n",
       "    <tr>\n",
       "      <th>hakeem-nicks-1</th>\n",
       "      <td>4.0</td>\n",
       "    </tr>\n",
       "    <tr>\n",
       "      <th>kendall-wright-1</th>\n",
       "      <td>4.0</td>\n",
       "    </tr>\n",
       "    <tr>\n",
       "      <th>javon-walker-1</th>\n",
       "      <td>4.0</td>\n",
       "    </tr>\n",
       "    <tr>\n",
       "      <th>chris-godwin-1</th>\n",
       "      <td>4.0</td>\n",
       "    </tr>\n",
       "    <tr>\n",
       "      <th>steve-smith-3</th>\n",
       "      <td>4.0</td>\n",
       "    </tr>\n",
       "    <tr>\n",
       "      <th>allen-robinson-1</th>\n",
       "      <td>4.0</td>\n",
       "    </tr>\n",
       "    <tr>\n",
       "      <th>jarvis-landry-1</th>\n",
       "      <td>4.0</td>\n",
       "    </tr>\n",
       "    <tr>\n",
       "      <th>michael-gallup-1</th>\n",
       "      <td>4.0</td>\n",
       "    </tr>\n",
       "    <tr>\n",
       "      <th>mike-wallace-1</th>\n",
       "      <td>4.0</td>\n",
       "    </tr>\n",
       "    <tr>\n",
       "      <th>diontae-johnson-1</th>\n",
       "      <td>4.0</td>\n",
       "    </tr>\n",
       "    <tr>\n",
       "      <th>ty-hilton-1</th>\n",
       "      <td>4.0</td>\n",
       "    </tr>\n",
       "    <tr>\n",
       "      <th>kenny-golladay-1</th>\n",
       "      <td>4.0</td>\n",
       "    </tr>\n",
       "    <tr>\n",
       "      <th>ceedee-lamb-1</th>\n",
       "      <td>4.0</td>\n",
       "    </tr>\n",
       "    <tr>\n",
       "      <th>hunter-renfrow-1</th>\n",
       "      <td>4.0</td>\n",
       "    </tr>\n",
       "    <tr>\n",
       "      <th>corey-davis-3</th>\n",
       "      <td>4.0</td>\n",
       "    </tr>\n",
       "  </tbody>\n",
       "</table>\n",
       "</div>"
      ],
      "text/plain": [
       "                       tier\n",
       "college_id                 \n",
       "antonio-brown-1         5.0\n",
       "nate-burleson-1         4.0\n",
       "laviska-shenault-jr-1   4.0\n",
       "terry-mclaurin-1        4.0\n",
       "stefon-diggs-1          4.0\n",
       "courtland-sutton-1      4.0\n",
       "darren-waller-1         4.0\n",
       "julio-jones-1           4.0\n",
       "brandon-lafell-1        4.0\n",
       "sammy-watkins-1         4.0\n",
       "chad-johnson-1          4.0\n",
       "golden-tate-1           4.0\n",
       "sidney-rice-1           4.0\n",
       "brandon-marshall-1      4.0\n",
       "marvin-jones-1          4.0\n",
       "andre-johnson-1         4.0\n",
       "plaxico-burress-1       4.0\n",
       "jeremy-maclin-1         4.0\n",
       "mike-williams-4         4.0\n",
       "jordy-nelson-1          4.0\n",
       "aj-brown-3              4.0\n",
       "antonio-bryant-1        4.0\n",
       "darnell-mooney-1        4.0\n",
       "steve-johnson-2         4.0\n",
       "mike-williams-17        4.0\n",
       "juju-smith-1            4.0\n",
       "calvin-ridley-1         4.0\n",
       "justin-jefferson-1      4.0\n",
       "desean-jackson-1        4.0\n",
       "eric-decker-1           4.0\n",
       "amari-cooper-1          4.0\n",
       "deion-branch-1          4.0\n",
       "sterling-shepard-1      4.0\n",
       "calvin-johnson-1        4.0\n",
       "darrell-jackson-1       4.0\n",
       "hakeem-nicks-1          4.0\n",
       "kendall-wright-1        4.0\n",
       "javon-walker-1          4.0\n",
       "chris-godwin-1          4.0\n",
       "steve-smith-3           4.0\n",
       "allen-robinson-1        4.0\n",
       "jarvis-landry-1         4.0\n",
       "michael-gallup-1        4.0\n",
       "mike-wallace-1          4.0\n",
       "diontae-johnson-1       4.0\n",
       "ty-hilton-1             4.0\n",
       "kenny-golladay-1        4.0\n",
       "ceedee-lamb-1           4.0\n",
       "hunter-renfrow-1        4.0\n",
       "corey-davis-3           4.0"
      ]
     },
     "execution_count": 43,
     "metadata": {},
     "output_type": "execute_result"
    }
   ],
   "source": [
    "target = target.loc[players_to_keep]\n",
    "target.sort_values(by='tier', ascending=False).head(50)"
   ]
  },
  {
   "cell_type": "code",
   "execution_count": 44,
   "metadata": {},
   "outputs": [
    {
     "data": {
      "text/html": [
       "<div>\n",
       "<style scoped>\n",
       "    .dataframe tbody tr th:only-of-type {\n",
       "        vertical-align: middle;\n",
       "    }\n",
       "\n",
       "    .dataframe tbody tr th {\n",
       "        vertical-align: top;\n",
       "    }\n",
       "\n",
       "    .dataframe thead th {\n",
       "        text-align: right;\n",
       "    }\n",
       "</style>\n",
       "<table border=\"1\" class=\"dataframe\">\n",
       "  <thead>\n",
       "    <tr style=\"text-align: right;\">\n",
       "      <th></th>\n",
       "      <th>tier</th>\n",
       "    </tr>\n",
       "    <tr>\n",
       "      <th>college_id</th>\n",
       "      <th></th>\n",
       "    </tr>\n",
       "  </thead>\n",
       "  <tbody>\n",
       "  </tbody>\n",
       "</table>\n",
       "</div>"
      ],
      "text/plain": [
       "Empty DataFrame\n",
       "Columns: [tier]\n",
       "Index: []"
      ]
     },
     "execution_count": 44,
     "metadata": {},
     "output_type": "execute_result"
    }
   ],
   "source": [
    "target[target.isna().any(axis=1)]"
   ]
  },
  {
   "cell_type": "markdown",
   "metadata": {},
   "source": [
    "## Train Model"
   ]
  },
  {
   "cell_type": "markdown",
   "metadata": {},
   "source": [
    "### Split train and test data"
   ]
  },
  {
   "cell_type": "code",
   "execution_count": 45,
   "metadata": {},
   "outputs": [
    {
     "name": "stdout",
     "output_type": "stream",
     "text": [
      "455 455\n"
     ]
    }
   ],
   "source": [
    "features = college_feature_data.sort_index()\n",
    "target = target.sort_index()\n",
    "print(len(target), len(features))"
   ]
  },
  {
   "cell_type": "code",
   "execution_count": 46,
   "metadata": {},
   "outputs": [],
   "source": [
    "# X -> features, y -> label\n",
    "X = features\n",
    "y = target['tier']\n",
    " \n",
    "# dividing X, y into train and test data\n",
    "X_train, X_test, y_train, y_test = train_test_split(X, y, random_state = 0)"
   ]
  },
  {
   "cell_type": "markdown",
   "metadata": {},
   "source": [
    "### Train model"
   ]
  },
  {
   "cell_type": "code",
   "execution_count": 47,
   "metadata": {},
   "outputs": [
    {
     "name": "stdout",
     "output_type": "stream",
     "text": [
      "0.23684210526315788\n"
     ]
    }
   ],
   "source": [
    "from sklearn.neighbors import KNeighborsClassifier\n",
    "knn = KNeighborsClassifier(n_neighbors = 6).fit(X_train, y_train)\n",
    " \n",
    "# accuracy on X_test\n",
    "accuracy = knn.score(X_test, y_test)\n",
    "print(accuracy)\n",
    " \n",
    "# creating a confusion matrix\n",
    "knn_predictions = knn.predict(X_test)\n",
    "cm = confusion_matrix(y_test, knn_predictions)"
   ]
  },
  {
   "cell_type": "code",
   "execution_count": null,
   "metadata": {},
   "outputs": [],
   "source": []
  },
  {
   "cell_type": "code",
   "execution_count": null,
   "metadata": {},
   "outputs": [],
   "source": []
  }
 ],
 "metadata": {
  "interpreter": {
   "hash": "31f2aee4e71d21fbe5cf8b01ff0e069b9275f58929596ceb00d14d90e3e16cd6"
  },
  "kernelspec": {
   "display_name": "Python 3 (ipykernel)",
   "language": "python",
   "name": "python3"
  },
  "language_info": {
   "codemirror_mode": {
    "name": "ipython",
    "version": 3
   },
   "file_extension": ".py",
   "mimetype": "text/x-python",
   "name": "python",
   "nbconvert_exporter": "python",
   "pygments_lexer": "ipython3",
   "version": "3.9.10"
  }
 },
 "nbformat": 4,
 "nbformat_minor": 2
}
