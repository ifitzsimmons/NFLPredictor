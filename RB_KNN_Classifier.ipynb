{
 "cells": [
  {
   "cell_type": "markdown",
   "metadata": {},
   "source": [
    "# Pseudo code for KNN classifier"
   ]
  },
  {
   "cell_type": "code",
   "execution_count": 43,
   "metadata": {},
   "outputs": [
    {
     "name": "stdout",
     "output_type": "stream",
     "text": [
      "\u001b[33mDEPRECATION: Configuring installation scheme with distutils config files is deprecated and will no longer work in the near future. If you are using a Homebrew or Linuxbrew Python, please see discussion at https://github.com/Homebrew/homebrew-core/issues/76621\u001b[0m\n",
      "Requirement already satisfied: pandas in /opt/homebrew/lib/python3.9/site-packages (1.4.1)\n",
      "Requirement already satisfied: sklearn in /opt/homebrew/lib/python3.9/site-packages (0.0)\n",
      "Requirement already satisfied: pytz>=2020.1 in /opt/homebrew/lib/python3.9/site-packages (from pandas) (2021.3)\n",
      "Requirement already satisfied: numpy>=1.20.0 in /opt/homebrew/lib/python3.9/site-packages (from pandas) (1.22.2)\n",
      "Requirement already satisfied: python-dateutil>=2.8.1 in /opt/homebrew/lib/python3.9/site-packages (from pandas) (2.8.2)\n",
      "Requirement already satisfied: scikit-learn in /opt/homebrew/lib/python3.9/site-packages (from sklearn) (1.0.2)\n",
      "Requirement already satisfied: six>=1.5 in /opt/homebrew/lib/python3.9/site-packages (from python-dateutil>=2.8.1->pandas) (1.16.0)\n",
      "Requirement already satisfied: joblib>=0.11 in /opt/homebrew/lib/python3.9/site-packages (from scikit-learn->sklearn) (1.1.0)\n",
      "Requirement already satisfied: scipy>=1.1.0 in /opt/homebrew/lib/python3.9/site-packages (from scikit-learn->sklearn) (1.8.0)\n",
      "Requirement already satisfied: threadpoolctl>=2.0.0 in /opt/homebrew/lib/python3.9/site-packages (from scikit-learn->sklearn) (3.1.0)\n",
      "\u001b[33mWARNING: You are using pip version 21.3.1; however, version 22.0.3 is available.\n",
      "You should consider upgrading via the '/opt/homebrew/opt/python@3.9/bin/python3.9 -m pip install --upgrade pip' command.\u001b[0m\n"
     ]
    }
   ],
   "source": [
    "!pip3 install pandas sklearn"
   ]
  },
  {
   "cell_type": "code",
   "execution_count": 44,
   "metadata": {},
   "outputs": [],
   "source": [
    "import json\n",
    "import pandas as pd\n",
    "from sklearn.metrics import confusion_matrix\n",
    "from sklearn.model_selection import train_test_split"
   ]
  },
  {
   "cell_type": "code",
   "execution_count": 45,
   "metadata": {},
   "outputs": [],
   "source": [
    "pro_rb_data_scores = pd.read_csv('../ProData/RB_career_stats_scored.csv')\n",
    "college_rb_data = pd.read_csv('../CollegeData/all_rushing.csv')"
   ]
  },
  {
   "cell_type": "markdown",
   "metadata": {},
   "source": [
    "## Iterate through list of matches and map college id to nfl id"
   ]
  },
  {
   "cell_type": "code",
   "execution_count": 46,
   "metadata": {},
   "outputs": [],
   "source": [
    "with open('./NFL EDA/matches.json', 'r') as match_file:\n",
    "  match_data = json.load(match_file)"
   ]
  },
  {
   "cell_type": "code",
   "execution_count": 47,
   "metadata": {},
   "outputs": [
    {
     "data": {
      "text/plain": [
       "3865"
      ]
     },
     "execution_count": 47,
     "metadata": {},
     "output_type": "execute_result"
    }
   ],
   "source": [
    "player_id_tuple = [(match['nfl_id'], match['college_id']) for match in match_data]\n",
    "\n",
    "nfl_id, college_id = list(zip(*player_id_tuple))\n",
    "player_ids = pd.DataFrame.from_dict({\n",
    "  'nfl_id': nfl_id,\n",
    "  'college_id': college_id\n",
    "}).set_index('nfl_id')\n",
    "\n",
    "len(player_ids)"
   ]
  },
  {
   "cell_type": "markdown",
   "metadata": {},
   "source": [
    "## Reset pro data index to college player id"
   ]
  },
  {
   "cell_type": "code",
   "execution_count": 48,
   "metadata": {},
   "outputs": [
    {
     "name": "stdout",
     "output_type": "stream",
     "text": [
      "394\n",
      "340\n"
     ]
    },
    {
     "data": {
      "text/html": [
       "<div>\n",
       "<style scoped>\n",
       "    .dataframe tbody tr th:only-of-type {\n",
       "        vertical-align: middle;\n",
       "    }\n",
       "\n",
       "    .dataframe tbody tr th {\n",
       "        vertical-align: top;\n",
       "    }\n",
       "\n",
       "    .dataframe thead th {\n",
       "        text-align: right;\n",
       "    }\n",
       "</style>\n",
       "<table border=\"1\" class=\"dataframe\">\n",
       "  <thead>\n",
       "    <tr style=\"text-align: right;\">\n",
       "      <th></th>\n",
       "      <th>season_count</th>\n",
       "      <th>career_score</th>\n",
       "    </tr>\n",
       "    <tr>\n",
       "      <th>college_id</th>\n",
       "      <th></th>\n",
       "      <th></th>\n",
       "    </tr>\n",
       "  </thead>\n",
       "  <tbody>\n",
       "    <tr>\n",
       "      <th>ameer-abdullah-1</th>\n",
       "      <td>8</td>\n",
       "      <td>-0.155174</td>\n",
       "    </tr>\n",
       "    <tr>\n",
       "      <th>joseph-addai-1</th>\n",
       "      <td>6</td>\n",
       "      <td>0.962896</td>\n",
       "    </tr>\n",
       "    <tr>\n",
       "      <th>jay-ajayi-1</th>\n",
       "      <td>6</td>\n",
       "      <td>0.423211</td>\n",
       "    </tr>\n",
       "    <tr>\n",
       "      <th>cam-akers-1</th>\n",
       "      <td>1</td>\n",
       "      <td>0.296292</td>\n",
       "    </tr>\n",
       "    <tr>\n",
       "      <th>shaun-alexander-1</th>\n",
       "      <td>9</td>\n",
       "      <td>1.361225</td>\n",
       "    </tr>\n",
       "  </tbody>\n",
       "</table>\n",
       "</div>"
      ],
      "text/plain": [
       "                   season_count  career_score\n",
       "college_id                                   \n",
       "ameer-abdullah-1              8     -0.155174\n",
       "joseph-addai-1                6      0.962896\n",
       "jay-ajayi-1                   6      0.423211\n",
       "cam-akers-1                   1      0.296292\n",
       "shaun-alexander-1             9      1.361225"
      ]
     },
     "execution_count": 48,
     "metadata": {},
     "output_type": "execute_result"
    }
   ],
   "source": [
    "target = pro_rb_data_scores.set_index('player_id').join(player_ids, how='inner').set_index('college_id')\n",
    "print(len(pro_rb_data_scores))\n",
    "print(len(target))\n",
    "target.head()"
   ]
  },
  {
   "cell_type": "markdown",
   "metadata": {},
   "source": [
    "## Split Scored Pro data into tiers for model training / testing"
   ]
  },
  {
   "cell_type": "code",
   "execution_count": null,
   "metadata": {},
   "outputs": [],
   "source": []
  },
  {
   "cell_type": "code",
   "execution_count": 49,
   "metadata": {},
   "outputs": [
    {
     "name": "stdout",
     "output_type": "stream",
     "text": [
      "68\n",
      "340\n",
      "0\n",
      "getting players 0 - 68\n",
      "1\n",
      "getting players 68 - 136\n",
      "2\n",
      "getting players 136 - 204\n",
      "3\n",
      "getting players 204 - 272\n",
      "4\n",
      "creating last group\n"
     ]
    }
   ],
   "source": [
    "TIERS = 5\n",
    "\n",
    "sorted_scores = target.sort_values(by='career_score').reset_index()\n",
    "number_of_players = len(sorted_scores)\n",
    "increment = number_of_players // TIERS\n",
    "print(increment)\n",
    "print(number_of_players)\n",
    "\n",
    "\n",
    "prev_idx = 0\n",
    "for tier_num, i in enumerate(range(0, number_of_players, increment)):\n",
    "    print(tier_num)\n",
    "    increment_end = prev_idx + increment\n",
    "    if tier_num + 1 == TIERS:\n",
    "        print('creating last group')\n",
    "        sorted_scores.loc[prev_idx:, 'tier'] = tier_num\n",
    "    else:\n",
    "        print(f'getting players {prev_idx} - {increment_end}')\n",
    "        sorted_scores.loc[prev_idx:increment_end, 'tier'] = tier_num\n",
    "\n",
    "    prev_idx = i + increment\n",
    "  \n",
    "target = sorted_scores.set_index('college_id').drop(['season_count', 'career_score'], axis=1)"
   ]
  },
  {
   "cell_type": "markdown",
   "metadata": {},
   "source": [
    "## Clean College"
   ]
  },
  {
   "cell_type": "code",
   "execution_count": 50,
   "metadata": {},
   "outputs": [],
   "source": [
    "players_to_keep = set(target.index.values).intersection(set(college_rb_data.playerId.values))\n"
   ]
  },
  {
   "cell_type": "code",
   "execution_count": 51,
   "metadata": {},
   "outputs": [
    {
     "data": {
      "text/plain": [
       "327"
      ]
     },
     "execution_count": 51,
     "metadata": {},
     "output_type": "execute_result"
    }
   ],
   "source": [
    "len(players_to_keep)"
   ]
  },
  {
   "cell_type": "code",
   "execution_count": 52,
   "metadata": {},
   "outputs": [
    {
     "name": "stderr",
     "output_type": "stream",
     "text": [
      "/var/folders/ky/3trdlcm94d9dgq_70q3lbmjr0000gn/T/ipykernel_91689/3551830286.py:1: FutureWarning: Passing a set as an indexer is deprecated and will raise in a future version. Use a list instead.\n",
      "  grouped_data = college_rb_data.groupby('playerId').sum().loc[players_to_keep]\n"
     ]
    }
   ],
   "source": [
    "grouped_data = college_rb_data.groupby('playerId').sum().loc[players_to_keep]\n",
    "college_feature_data = grouped_data\n",
    "for feature in grouped_data:\n",
    "    if feature == 'g':\n",
    "        college_feature_data['g'] = grouped_data['g']\n",
    "        continue\n",
    "        \n",
    "    college_feature_data[feature] = grouped_data[feature] / grouped_data['g']"
   ]
  },
  {
   "cell_type": "code",
   "execution_count": 53,
   "metadata": {},
   "outputs": [
    {
     "name": "stderr",
     "output_type": "stream",
     "text": [
      "/var/folders/ky/3trdlcm94d9dgq_70q3lbmjr0000gn/T/ipykernel_91689/2461575306.py:1: FutureWarning: Passing a set as an indexer is deprecated and will raise in a future version. Use a list instead.\n",
      "  target = target.loc[players_to_keep]\n"
     ]
    },
    {
     "data": {
      "text/html": [
       "<div>\n",
       "<style scoped>\n",
       "    .dataframe tbody tr th:only-of-type {\n",
       "        vertical-align: middle;\n",
       "    }\n",
       "\n",
       "    .dataframe tbody tr th {\n",
       "        vertical-align: top;\n",
       "    }\n",
       "\n",
       "    .dataframe thead th {\n",
       "        text-align: right;\n",
       "    }\n",
       "</style>\n",
       "<table border=\"1\" class=\"dataframe\">\n",
       "  <thead>\n",
       "    <tr style=\"text-align: right;\">\n",
       "      <th></th>\n",
       "      <th>tier</th>\n",
       "    </tr>\n",
       "    <tr>\n",
       "      <th>college_id</th>\n",
       "      <th></th>\n",
       "    </tr>\n",
       "  </thead>\n",
       "  <tbody>\n",
       "    <tr>\n",
       "      <th>cedric-benson-1</th>\n",
       "      <td>4.0</td>\n",
       "    </tr>\n",
       "    <tr>\n",
       "      <th>leonard-fournette-1</th>\n",
       "      <td>4.0</td>\n",
       "    </tr>\n",
       "    <tr>\n",
       "      <th>steven-jackson-3</th>\n",
       "      <td>4.0</td>\n",
       "    </tr>\n",
       "    <tr>\n",
       "      <th>jahvid-best-1</th>\n",
       "      <td>4.0</td>\n",
       "    </tr>\n",
       "    <tr>\n",
       "      <th>miles-sanders-1</th>\n",
       "      <td>4.0</td>\n",
       "    </tr>\n",
       "    <tr>\n",
       "      <th>james-conner-1</th>\n",
       "      <td>4.0</td>\n",
       "    </tr>\n",
       "    <tr>\n",
       "      <th>alvin-kamara-1</th>\n",
       "      <td>4.0</td>\n",
       "    </tr>\n",
       "    <tr>\n",
       "      <th>matt-forte-1</th>\n",
       "      <td>4.0</td>\n",
       "    </tr>\n",
       "    <tr>\n",
       "      <th>ryan-mathews-1</th>\n",
       "      <td>4.0</td>\n",
       "    </tr>\n",
       "    <tr>\n",
       "      <th>deuce-mcallister-1</th>\n",
       "      <td>4.0</td>\n",
       "    </tr>\n",
       "    <tr>\n",
       "      <th>rudi-johnson-1</th>\n",
       "      <td>4.0</td>\n",
       "    </tr>\n",
       "    <tr>\n",
       "      <th>marion-barber-iii-1</th>\n",
       "      <td>4.0</td>\n",
       "    </tr>\n",
       "    <tr>\n",
       "      <th>dalvin-cook-1</th>\n",
       "      <td>4.0</td>\n",
       "    </tr>\n",
       "    <tr>\n",
       "      <th>dandre-swift-1</th>\n",
       "      <td>4.0</td>\n",
       "    </tr>\n",
       "    <tr>\n",
       "      <th>jonathan-taylor-1</th>\n",
       "      <td>4.0</td>\n",
       "    </tr>\n",
       "    <tr>\n",
       "      <th>adrian-peterson-1</th>\n",
       "      <td>4.0</td>\n",
       "    </tr>\n",
       "    <tr>\n",
       "      <th>saquon-barkley-1</th>\n",
       "      <td>4.0</td>\n",
       "    </tr>\n",
       "    <tr>\n",
       "      <th>jordan-howard-1</th>\n",
       "      <td>4.0</td>\n",
       "    </tr>\n",
       "    <tr>\n",
       "      <th>jeremy-hill-2</th>\n",
       "      <td>4.0</td>\n",
       "    </tr>\n",
       "    <tr>\n",
       "      <th>ahmad-bradshaw-1</th>\n",
       "      <td>4.0</td>\n",
       "    </tr>\n",
       "    <tr>\n",
       "      <th>jonathan-stewart-1</th>\n",
       "      <td>4.0</td>\n",
       "    </tr>\n",
       "    <tr>\n",
       "      <th>shaun-alexander-1</th>\n",
       "      <td>4.0</td>\n",
       "    </tr>\n",
       "    <tr>\n",
       "      <th>ezekiel-elliott-1</th>\n",
       "      <td>4.0</td>\n",
       "    </tr>\n",
       "    <tr>\n",
       "      <th>thomas-jones-1</th>\n",
       "      <td>4.0</td>\n",
       "    </tr>\n",
       "    <tr>\n",
       "      <th>jk-dobbins-1</th>\n",
       "      <td>4.0</td>\n",
       "    </tr>\n",
       "    <tr>\n",
       "      <th>derrius-guice-1</th>\n",
       "      <td>4.0</td>\n",
       "    </tr>\n",
       "    <tr>\n",
       "      <th>chris-carson-1</th>\n",
       "      <td>4.0</td>\n",
       "    </tr>\n",
       "    <tr>\n",
       "      <th>darren-mcfadden-1</th>\n",
       "      <td>4.0</td>\n",
       "    </tr>\n",
       "    <tr>\n",
       "      <th>joe-mixon-1</th>\n",
       "      <td>4.0</td>\n",
       "    </tr>\n",
       "    <tr>\n",
       "      <th>clinton-portis-1</th>\n",
       "      <td>4.0</td>\n",
       "    </tr>\n",
       "    <tr>\n",
       "      <th>deangelo-williams-1</th>\n",
       "      <td>4.0</td>\n",
       "    </tr>\n",
       "    <tr>\n",
       "      <th>demarco-murray-1</th>\n",
       "      <td>4.0</td>\n",
       "    </tr>\n",
       "    <tr>\n",
       "      <th>ladainian-tomlinson-1</th>\n",
       "      <td>4.0</td>\n",
       "    </tr>\n",
       "    <tr>\n",
       "      <th>willis-mcgahee-1</th>\n",
       "      <td>4.0</td>\n",
       "    </tr>\n",
       "    <tr>\n",
       "      <th>reggie-bush-1</th>\n",
       "      <td>4.0</td>\n",
       "    </tr>\n",
       "    <tr>\n",
       "      <th>joshua-jacobs-1</th>\n",
       "      <td>4.0</td>\n",
       "    </tr>\n",
       "    <tr>\n",
       "      <th>kareem-hunt-1</th>\n",
       "      <td>4.0</td>\n",
       "    </tr>\n",
       "    <tr>\n",
       "      <th>leveon-bell-1</th>\n",
       "      <td>4.0</td>\n",
       "    </tr>\n",
       "    <tr>\n",
       "      <th>nick-chubb-1</th>\n",
       "      <td>4.0</td>\n",
       "    </tr>\n",
       "    <tr>\n",
       "      <th>chris-johnson-1</th>\n",
       "      <td>4.0</td>\n",
       "    </tr>\n",
       "    <tr>\n",
       "      <th>jamaal-charles-1</th>\n",
       "      <td>4.0</td>\n",
       "    </tr>\n",
       "    <tr>\n",
       "      <th>joseph-addai-1</th>\n",
       "      <td>4.0</td>\n",
       "    </tr>\n",
       "    <tr>\n",
       "      <th>aaron-jones-6</th>\n",
       "      <td>4.0</td>\n",
       "    </tr>\n",
       "    <tr>\n",
       "      <th>christian-mccaffrey-1</th>\n",
       "      <td>4.0</td>\n",
       "    </tr>\n",
       "    <tr>\n",
       "      <th>melvin-gordon-1</th>\n",
       "      <td>4.0</td>\n",
       "    </tr>\n",
       "    <tr>\n",
       "      <th>rashard-mendenhall-1</th>\n",
       "      <td>4.0</td>\n",
       "    </tr>\n",
       "    <tr>\n",
       "      <th>maurice-drew-1</th>\n",
       "      <td>4.0</td>\n",
       "    </tr>\n",
       "    <tr>\n",
       "      <th>travis-henry-1</th>\n",
       "      <td>4.0</td>\n",
       "    </tr>\n",
       "    <tr>\n",
       "      <th>lamar-miller-1</th>\n",
       "      <td>4.0</td>\n",
       "    </tr>\n",
       "    <tr>\n",
       "      <th>jamal-lewis-2</th>\n",
       "      <td>4.0</td>\n",
       "    </tr>\n",
       "  </tbody>\n",
       "</table>\n",
       "</div>"
      ],
      "text/plain": [
       "                       tier\n",
       "college_id                 \n",
       "cedric-benson-1         4.0\n",
       "leonard-fournette-1     4.0\n",
       "steven-jackson-3        4.0\n",
       "jahvid-best-1           4.0\n",
       "miles-sanders-1         4.0\n",
       "james-conner-1          4.0\n",
       "alvin-kamara-1          4.0\n",
       "matt-forte-1            4.0\n",
       "ryan-mathews-1          4.0\n",
       "deuce-mcallister-1      4.0\n",
       "rudi-johnson-1          4.0\n",
       "marion-barber-iii-1     4.0\n",
       "dalvin-cook-1           4.0\n",
       "dandre-swift-1          4.0\n",
       "jonathan-taylor-1       4.0\n",
       "adrian-peterson-1       4.0\n",
       "saquon-barkley-1        4.0\n",
       "jordan-howard-1         4.0\n",
       "jeremy-hill-2           4.0\n",
       "ahmad-bradshaw-1        4.0\n",
       "jonathan-stewart-1      4.0\n",
       "shaun-alexander-1       4.0\n",
       "ezekiel-elliott-1       4.0\n",
       "thomas-jones-1          4.0\n",
       "jk-dobbins-1            4.0\n",
       "derrius-guice-1         4.0\n",
       "chris-carson-1          4.0\n",
       "darren-mcfadden-1       4.0\n",
       "joe-mixon-1             4.0\n",
       "clinton-portis-1        4.0\n",
       "deangelo-williams-1     4.0\n",
       "demarco-murray-1        4.0\n",
       "ladainian-tomlinson-1   4.0\n",
       "willis-mcgahee-1        4.0\n",
       "reggie-bush-1           4.0\n",
       "joshua-jacobs-1         4.0\n",
       "kareem-hunt-1           4.0\n",
       "leveon-bell-1           4.0\n",
       "nick-chubb-1            4.0\n",
       "chris-johnson-1         4.0\n",
       "jamaal-charles-1        4.0\n",
       "joseph-addai-1          4.0\n",
       "aaron-jones-6           4.0\n",
       "christian-mccaffrey-1   4.0\n",
       "melvin-gordon-1         4.0\n",
       "rashard-mendenhall-1    4.0\n",
       "maurice-drew-1          4.0\n",
       "travis-henry-1          4.0\n",
       "lamar-miller-1          4.0\n",
       "jamal-lewis-2           4.0"
      ]
     },
     "execution_count": 53,
     "metadata": {},
     "output_type": "execute_result"
    }
   ],
   "source": [
    "target = target.loc[players_to_keep]\n",
    "target.sort_values(by='tier', ascending=False).head(50)"
   ]
  },
  {
   "cell_type": "code",
   "execution_count": 54,
   "metadata": {},
   "outputs": [
    {
     "data": {
      "text/html": [
       "<div>\n",
       "<style scoped>\n",
       "    .dataframe tbody tr th:only-of-type {\n",
       "        vertical-align: middle;\n",
       "    }\n",
       "\n",
       "    .dataframe tbody tr th {\n",
       "        vertical-align: top;\n",
       "    }\n",
       "\n",
       "    .dataframe thead th {\n",
       "        text-align: right;\n",
       "    }\n",
       "</style>\n",
       "<table border=\"1\" class=\"dataframe\">\n",
       "  <thead>\n",
       "    <tr style=\"text-align: right;\">\n",
       "      <th></th>\n",
       "      <th>tier</th>\n",
       "    </tr>\n",
       "    <tr>\n",
       "      <th>college_id</th>\n",
       "      <th></th>\n",
       "    </tr>\n",
       "  </thead>\n",
       "  <tbody>\n",
       "  </tbody>\n",
       "</table>\n",
       "</div>"
      ],
      "text/plain": [
       "Empty DataFrame\n",
       "Columns: [tier]\n",
       "Index: []"
      ]
     },
     "execution_count": 54,
     "metadata": {},
     "output_type": "execute_result"
    }
   ],
   "source": [
    "target[target.isna().any(axis=1)]"
   ]
  },
  {
   "cell_type": "markdown",
   "metadata": {},
   "source": [
    "## Train Model"
   ]
  },
  {
   "cell_type": "markdown",
   "metadata": {},
   "source": [
    "### Split train and test data"
   ]
  },
  {
   "cell_type": "code",
   "execution_count": 55,
   "metadata": {},
   "outputs": [
    {
     "name": "stdout",
     "output_type": "stream",
     "text": [
      "327 327\n"
     ]
    }
   ],
   "source": [
    "features = college_feature_data.sort_index()\n",
    "target = target.sort_index()\n",
    "print(len(target), len(features))"
   ]
  },
  {
   "cell_type": "code",
   "execution_count": 56,
   "metadata": {},
   "outputs": [],
   "source": [
    "# X -> features, y -> label\n",
    "X = features\n",
    "y = target['tier']\n",
    " \n",
    "# dividing X, y into train and test data\n",
    "X_train, X_test, y_train, y_test = train_test_split(X, y, random_state = 0)"
   ]
  },
  {
   "cell_type": "markdown",
   "metadata": {},
   "source": [
    "### Train model"
   ]
  },
  {
   "cell_type": "code",
   "execution_count": 57,
   "metadata": {},
   "outputs": [
    {
     "name": "stdout",
     "output_type": "stream",
     "text": [
      "0.25609756097560976\n"
     ]
    }
   ],
   "source": [
    "from sklearn.neighbors import KNeighborsClassifier\n",
    "knn = KNeighborsClassifier(n_neighbors = 6).fit(X_train, y_train)\n",
    " \n",
    "# accuracy on X_test\n",
    "accuracy = knn.score(X_test, y_test)\n",
    "print(accuracy)\n",
    " \n",
    "# creating a confusion matrix\n",
    "knn_predictions = knn.predict(X_test)\n",
    "cm = confusion_matrix(y_test, knn_predictions)"
   ]
  },
  {
   "cell_type": "code",
   "execution_count": null,
   "metadata": {},
   "outputs": [],
   "source": []
  },
  {
   "cell_type": "code",
   "execution_count": null,
   "metadata": {},
   "outputs": [],
   "source": []
  }
 ],
 "metadata": {
  "interpreter": {
   "hash": "31f2aee4e71d21fbe5cf8b01ff0e069b9275f58929596ceb00d14d90e3e16cd6"
  },
  "kernelspec": {
   "display_name": "Python 3 (ipykernel)",
   "language": "python",
   "name": "python3"
  },
  "language_info": {
   "codemirror_mode": {
    "name": "ipython",
    "version": 3
   },
   "file_extension": ".py",
   "mimetype": "text/x-python",
   "name": "python",
   "nbconvert_exporter": "python",
   "pygments_lexer": "ipython3",
   "version": "3.9.10"
  }
 },
 "nbformat": 4,
 "nbformat_minor": 2
}
