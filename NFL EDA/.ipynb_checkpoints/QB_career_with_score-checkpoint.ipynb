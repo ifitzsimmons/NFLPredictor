{
 "cells": [
  {
   "cell_type": "code",
   "execution_count": 1,
   "id": "d18e66c3",
   "metadata": {},
   "outputs": [
    {
     "ename": "ModuleNotFoundError",
     "evalue": "No module named 'pandas'",
     "output_type": "error",
     "traceback": [
      "\u001b[0;31m---------------------------------------------------------------------------\u001b[0m",
      "\u001b[0;31mModuleNotFoundError\u001b[0m                       Traceback (most recent call last)",
      "Input \u001b[0;32mIn [1]\u001b[0m, in \u001b[0;36m<module>\u001b[0;34m\u001b[0m\n\u001b[0;32m----> 1\u001b[0m \u001b[38;5;28;01mimport\u001b[39;00m \u001b[38;5;21;01mpandas\u001b[39;00m \u001b[38;5;28;01mas\u001b[39;00m \u001b[38;5;21;01mpd\u001b[39;00m\n\u001b[1;32m      2\u001b[0m \u001b[38;5;28;01mimport\u001b[39;00m \u001b[38;5;21;01mnumpy\u001b[39;00m \u001b[38;5;28;01mas\u001b[39;00m \u001b[38;5;21;01mnp\u001b[39;00m\n\u001b[1;32m      3\u001b[0m \u001b[38;5;28;01mfrom\u001b[39;00m \u001b[38;5;21;01msklearn\u001b[39;00m\u001b[38;5;21;01m.\u001b[39;00m\u001b[38;5;21;01mdecomposition\u001b[39;00m \u001b[38;5;28;01mimport\u001b[39;00m PCA\n",
      "\u001b[0;31mModuleNotFoundError\u001b[0m: No module named 'pandas'"
     ]
    }
   ],
   "source": [
    "import pandas as pd\n",
    "import numpy as np\n",
    "from sklearn.decomposition import PCA"
   ]
  },
  {
   "cell_type": "code",
   "execution_count": null,
   "id": "83cb1819",
   "metadata": {},
   "outputs": [],
   "source": [
    "quarterbacks_df = pd.read_csv('./ProData/csvs/qb_stats.csv', header=0)"
   ]
  },
  {
   "cell_type": "code",
   "execution_count": null,
   "id": "3639d632",
   "metadata": {},
   "outputs": [],
   "source": [
    "drop_columns = [col for col in quarterbacks_df.columns if col.startswith(('catch', 'rec', 'targets'))]"
   ]
  },
  {
   "cell_type": "code",
   "execution_count": null,
   "id": "b2ac8ffb",
   "metadata": {},
   "outputs": [],
   "source": [
    "drop_columns.extend(['Unnamed: 0', 'team', 'rush_receive_td', 'av'])"
   ]
  },
  {
   "cell_type": "code",
   "execution_count": null,
   "id": "9ab54fec",
   "metadata": {
    "scrolled": true
   },
   "outputs": [],
   "source": [
    "qbs_df = quarterbacks_df.drop(drop_columns, axis=1)"
   ]
  },
  {
   "cell_type": "code",
   "execution_count": null,
   "id": "f7a6b714",
   "metadata": {},
   "outputs": [],
   "source": [
    "# Add column with value 1 so that when we group by player \n",
    "# and sum we get a count of the number of seasons\n",
    "qbs_df['season_count'] = 1"
   ]
  },
  {
   "cell_type": "markdown",
   "id": "58963958",
   "metadata": {},
   "source": [
    "# Fill nulls and zeros"
   ]
  },
  {
   "cell_type": "markdown",
   "id": "fe10d004",
   "metadata": {},
   "source": [
    "## Fillna for each player with the player's average\n",
    "QBR was only available starting in 2006 and snap data in 2012. For players that span across those time ranges, use their average to fill data from time before it was available."
   ]
  },
  {
   "cell_type": "code",
   "execution_count": null,
   "id": "a8b7eb55",
   "metadata": {},
   "outputs": [],
   "source": [
    "fillna_cols = ['qbr', 'snap_played_percentage', 'snaps_played', 'total_snaps']"
   ]
  },
  {
   "cell_type": "code",
   "execution_count": null,
   "id": "48181a37",
   "metadata": {},
   "outputs": [],
   "source": [
    "def fill_with_player_averages(group):\n",
    "    group[fillna_cols] = group[fillna_cols].replace(0, group[fillna_cols].mean())\n",
    "    group[fillna_cols] = group[fillna_cols].fillna(group[fillna_cols].mean())\n",
    "    return group"
   ]
  },
  {
   "cell_type": "code",
   "execution_count": null,
   "id": "d3133c54",
   "metadata": {},
   "outputs": [],
   "source": [
    "new = qbs_df.groupby('player_id', as_index=False).apply(fill_with_player_averages)"
   ]
  },
  {
   "cell_type": "markdown",
   "id": "3a86c595",
   "metadata": {},
   "source": [
    "## Fill zeros and nulls with all average"
   ]
  },
  {
   "cell_type": "code",
   "execution_count": null,
   "id": "9aac0560",
   "metadata": {},
   "outputs": [],
   "source": [
    "new[fillna_cols] = new[fillna_cols].fillna(new[fillna_cols].mean())"
   ]
  },
  {
   "cell_type": "code",
   "execution_count": null,
   "id": "201805dc",
   "metadata": {},
   "outputs": [],
   "source": [
    "new[fillna_cols] = new[fillna_cols].replace(0, new[fillna_cols].mean())"
   ]
  },
  {
   "cell_type": "code",
   "execution_count": null,
   "id": "1a4a80df",
   "metadata": {},
   "outputs": [],
   "source": [
    "new.dropna(inplace=True)"
   ]
  },
  {
   "cell_type": "code",
   "execution_count": null,
   "id": "4067604f",
   "metadata": {},
   "outputs": [],
   "source": [
    "len(new)"
   ]
  },
  {
   "cell_type": "code",
   "execution_count": null,
   "id": "7fbdb216",
   "metadata": {},
   "outputs": [],
   "source": [
    "len(qbs_df)"
   ]
  },
  {
   "cell_type": "markdown",
   "id": "81529b50",
   "metadata": {},
   "source": [
    "# Aggregate career statistics for each player"
   ]
  },
  {
   "cell_type": "code",
   "execution_count": null,
   "id": "ae9cf842",
   "metadata": {},
   "outputs": [],
   "source": [
    "career_stats = new.groupby('player_id').sum()"
   ]
  },
  {
   "cell_type": "code",
   "execution_count": null,
   "id": "51a111a9",
   "metadata": {},
   "outputs": [],
   "source": [
    "per_game_avg_fields = [\n",
    "    ('pass_att_per_game', 'pass_att'), \n",
    "    ('pass_yds_per_g', 'pass_yds'), \n",
    "    ('rush_yds_per_g', 'rush_yds'),\n",
    "    ('rush_att_per_g', 'rush_att'),\n",
    "    ('fumbles_per_g', 'fumbles'),\n",
    "    ('pass_td_per_g', 'pass_td'),\n",
    "    ('rush_td_per_g', 'rush_td')\n",
    "]"
   ]
  },
  {
   "cell_type": "code",
   "execution_count": null,
   "id": "22e49986",
   "metadata": {},
   "outputs": [],
   "source": [
    "for (new_field, metric) in per_game_avg_fields:\n",
    "    career_stats[new_field] = career_stats[metric] / career_stats.g"
   ]
  },
  {
   "cell_type": "code",
   "execution_count": null,
   "id": "d990957f",
   "metadata": {},
   "outputs": [],
   "source": [
    "career_stats['win_percentage'] = career_stats['wins'] / career_stats.gs\n",
    "career_stats['pass_yds_per_cmp'] = career_stats.pass_yds / career_stats.pass_cmp\n",
    "career_stats['rush_yds_per_att'] = career_stats.rush_yds / career_stats.rush_att\n",
    "career_stats['qbr_avg'] = career_stats.qbr / career_stats.season_count\n",
    "career_stats['avg_pass_rating_per_season'] = career_stats.pass_rating / career_stats.season_count\n",
    "career_stats['snap_percentage'] = career_stats.snaps_played / career_stats.total_snaps"
   ]
  },
  {
   "cell_type": "code",
   "execution_count": null,
   "id": "16ed3b64",
   "metadata": {},
   "outputs": [],
   "source": [
    "per_attempt_stats = [\n",
    "    ('pass_cmp_perc', 'pass_cmp'), \n",
    "    ('pass_td_perc', 'pass_td'), \n",
    "    ('pass_int_perc', 'pass_int'),\n",
    "    ('pass_yds_per_att', 'pass_yds'),  \n",
    "]"
   ]
  },
  {
   "cell_type": "code",
   "execution_count": null,
   "id": "fb560aba",
   "metadata": {},
   "outputs": [],
   "source": [
    "for (new_field, metric) in per_attempt_stats:\n",
    "    career_stats[new_field] = career_stats[metric] / career_stats.pass_att"
   ]
  },
  {
   "cell_type": "code",
   "execution_count": null,
   "id": "a70485ab",
   "metadata": {},
   "outputs": [],
   "source": [
    "career_stats.query('player_id == \"BradTo00\"')[[\n",
    "    'pass_yds_per_g', 'pass_cmp_perc', 'pass_yds_per_cmp', 'season_count',\n",
    "    'qbr_avg', 'win_percentage', 'avg_pass_rating_per_season', 'snap_percentage'\n",
    "]]"
   ]
  },
  {
   "cell_type": "markdown",
   "id": "4c498aec",
   "metadata": {},
   "source": [
    "# Remove unecessary fields"
   ]
  },
  {
   "cell_type": "code",
   "execution_count": null,
   "id": "e1dafdd8",
   "metadata": {
    "scrolled": true
   },
   "outputs": [],
   "source": [
    "player_to_seasons_played = career_stats['season_count']"
   ]
  },
  {
   "cell_type": "code",
   "execution_count": null,
   "id": "9d9898e6",
   "metadata": {},
   "outputs": [],
   "source": [
    "career_stats_clean = career_stats.drop([\n",
    "    'age', 'fumbles', 'pass_long', 'pass_adj_yds_per_att',\n",
    "    'pass_rating', 'qbr', 'pass_sacked_perc',\n",
    "    'pass_net_yds_per_att', 'pass_adj_net_yds_per_att',\n",
    "    'rush_long', 'touches', 'yds_per_touch', \n",
    "    'yds_from_scrimmage', 'total_snaps', 'snap_played_percentage',\n",
    "    # Test\n",
    "    'g', 'gs', 'snaps_played', 'season_count', 'rush_att', 'rush_td'\n",
    "], axis=1)"
   ]
  },
  {
   "cell_type": "markdown",
   "id": "0e81087b",
   "metadata": {},
   "source": [
    "## Remove Fields that penalize longevity\n",
    "`[pass_int, pass_sacked, pass_sacked_yds, wins, losses, ties]`\n",
    "* use pass_int_perc instead of total interceptions\n",
    "* prefer win percentage to wins/ties/losses"
   ]
  },
  {
   "cell_type": "code",
   "execution_count": null,
   "id": "a0b93a79",
   "metadata": {},
   "outputs": [],
   "source": [
    "career_stats_clean.drop([\n",
    "    'pass_int', 'pass_sacked', 'pass_sacked_yds', 'wins', 'losses', 'ties',\n",
    "    'pass_cmp', 'pass_att', 'pass_yds', 'pass_td', 'pass_first_down', \n",
    "    'rush_yds', 'rush_first_down',\n",
    "], axis=1, inplace=True)"
   ]
  },
  {
   "cell_type": "code",
   "execution_count": null,
   "id": "d31e2e1f",
   "metadata": {},
   "outputs": [],
   "source": [
    "normalized_qb_df = career_stats_clean.apply(lambda x: (x - x.min()) / (x.max() - x.min()))"
   ]
  },
  {
   "cell_type": "markdown",
   "id": "da26d003",
   "metadata": {
    "scrolled": false
   },
   "source": [
    "## Penalize Negative fields (lower is better)\n",
    "`[pass_int_perc, fumbles`]"
   ]
  },
  {
   "cell_type": "code",
   "execution_count": null,
   "id": "7c5e694a",
   "metadata": {},
   "outputs": [],
   "source": [
    "negative_fields = ['pass_int_perc', 'fumbles_per_g']\n",
    "normalized_qb_df[negative_fields] = normalized_qb_df[negative_fields] * -1"
   ]
  },
  {
   "cell_type": "code",
   "execution_count": null,
   "id": "7aa4f549",
   "metadata": {
    "scrolled": true
   },
   "outputs": [],
   "source": [
    "normalized_qb_df.query('player_id == \"BradTo00\"').to_dict()"
   ]
  },
  {
   "cell_type": "code",
   "execution_count": null,
   "id": "b62a2ccc",
   "metadata": {},
   "outputs": [],
   "source": [
    "normalized_qb_df.fillna(0, inplace=True)"
   ]
  },
  {
   "cell_type": "code",
   "execution_count": null,
   "id": "64193620",
   "metadata": {},
   "outputs": [],
   "source": [
    "len(normalized_qb_df.columns)"
   ]
  },
  {
   "cell_type": "code",
   "execution_count": null,
   "id": "04caff08",
   "metadata": {},
   "outputs": [],
   "source": [
    "pca = PCA(n_components=1)"
   ]
  },
  {
   "cell_type": "code",
   "execution_count": null,
   "id": "2787e4aa",
   "metadata": {},
   "outputs": [],
   "source": [
    "pca_analysis = pd.DataFrame(\n",
    "    pca.fit_transform(normalized_qb_df), \n",
    "    columns=['PCA%i' % i for i in range(1)], \n",
    "    index=normalized_qb_df.index)"
   ]
  },
  {
   "cell_type": "markdown",
   "id": "55759bad",
   "metadata": {},
   "source": [
    "# Aggregate performance metric with career stats"
   ]
  },
  {
   "cell_type": "code",
   "execution_count": null,
   "id": "c58b6da9",
   "metadata": {},
   "outputs": [],
   "source": [
    "career_stats_final = pd.merge(player_to_seasons_played, pca_analysis, left_index=True, right_index=True)"
   ]
  },
  {
   "cell_type": "code",
   "execution_count": null,
   "id": "d34e08f5",
   "metadata": {},
   "outputs": [],
   "source": [
    "career_stats_final['career_score'] = career_stats_final.PCA0\n",
    "career_stats_final.drop('PCA0', axis=1, inplace=True)"
   ]
  },
  {
   "cell_type": "code",
   "execution_count": null,
   "id": "775cd6b3",
   "metadata": {},
   "outputs": [],
   "source": [
    "career_stats_final.to_csv('./ProData/qb_career_stats_no_career_totals.csv')"
   ]
  },
  {
   "cell_type": "markdown",
   "id": "f1d5ec1d",
   "metadata": {},
   "source": [
    "# Plot Age vs Feature"
   ]
  },
  {
   "cell_type": "code",
   "execution_count": null,
   "id": "1d56c477",
   "metadata": {},
   "outputs": [],
   "source": [
    "top_50 = career_stats_final.sort_values('career_score', axis=0, ascending=False).head(50)"
   ]
  },
  {
   "cell_type": "code",
   "execution_count": null,
   "id": "4e34c683",
   "metadata": {},
   "outputs": [],
   "source": [
    "top_50[['career_score', 'season_count']].head(20)"
   ]
  }
 ],
 "metadata": {
  "kernelspec": {
   "display_name": "Python 3 (ipykernel)",
   "language": "python",
   "name": "python3"
  },
  "language_info": {
   "codemirror_mode": {
    "name": "ipython",
    "version": 3
   },
   "file_extension": ".py",
   "mimetype": "text/x-python",
   "name": "python",
   "nbconvert_exporter": "python",
   "pygments_lexer": "ipython3",
   "version": "3.8.9"
  }
 },
 "nbformat": 4,
 "nbformat_minor": 5
}
