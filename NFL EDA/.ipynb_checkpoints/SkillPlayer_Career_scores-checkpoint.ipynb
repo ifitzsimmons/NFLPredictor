{
 "cells": [
  {
   "cell_type": "code",
   "execution_count": 80,
   "id": "d18e66c3",
   "metadata": {},
   "outputs": [],
   "source": [
    "import pandas as pd\n",
    "import numpy as np\n",
    "import re\n",
    "from sklearn.decomposition import PCA"
   ]
  },
  {
   "cell_type": "code",
   "execution_count": 3,
   "id": "83cb1819",
   "metadata": {},
   "outputs": [],
   "source": [
    "skill_players = pd.read_csv('../../ProData/csvs/skill_player_stats.csv', header=0)"
   ]
  },
  {
   "cell_type": "code",
   "execution_count": 5,
   "id": "b2ac8ffb",
   "metadata": {},
   "outputs": [],
   "source": [
    "drop_columns = ['Unnamed: 0', 'team', 'av']"
   ]
  },
  {
   "cell_type": "code",
   "execution_count": 6,
   "id": "9ab54fec",
   "metadata": {
    "scrolled": true
   },
   "outputs": [],
   "source": [
    "skills_df = skill_players.drop(drop_columns, axis=1)"
   ]
  },
  {
   "cell_type": "code",
   "execution_count": 20,
   "id": "f7a6b714",
   "metadata": {},
   "outputs": [],
   "source": [
    "# Add column with value 1 so that when we group by player \n",
    "# and sum we get a count of the number of seasons\n",
    "skills_df['season_count'] = 1"
   ]
  },
  {
   "cell_type": "markdown",
   "id": "58963958",
   "metadata": {},
   "source": [
    "# Fill nulls and zeros"
   ]
  },
  {
   "cell_type": "markdown",
   "id": "fe10d004",
   "metadata": {},
   "source": [
    "## Fillna for each player with the player's average\n",
    "QBR was only available starting in 2006 and snap data in 2012. For players that span across those time ranges, use their average to fill data from time before it was available."
   ]
  },
  {
   "cell_type": "code",
   "execution_count": 8,
   "id": "a8b7eb55",
   "metadata": {},
   "outputs": [],
   "source": [
    "fillna_cols = ['snap_played_percentage', 'snaps_played', 'total_snaps']"
   ]
  },
  {
   "cell_type": "code",
   "execution_count": 9,
   "id": "48181a37",
   "metadata": {},
   "outputs": [],
   "source": [
    "def fill_with_player_averages(group):\n",
    "    group[fillna_cols] = group[fillna_cols].replace(0, group[fillna_cols].mean())\n",
    "    group[fillna_cols] = group[fillna_cols].fillna(group[fillna_cols].mean())\n",
    "    return group"
   ]
  },
  {
   "cell_type": "code",
   "execution_count": 10,
   "id": "d3133c54",
   "metadata": {},
   "outputs": [],
   "source": [
    "new = skills_df.groupby('player_id', as_index=False).apply(fill_with_player_averages)"
   ]
  },
  {
   "cell_type": "markdown",
   "id": "3a86c595",
   "metadata": {},
   "source": [
    "## Fill zeros and nulls with all average"
   ]
  },
  {
   "cell_type": "code",
   "execution_count": 11,
   "id": "9aac0560",
   "metadata": {},
   "outputs": [],
   "source": [
    "new[fillna_cols] = new[fillna_cols].fillna(new[fillna_cols].mean())"
   ]
  },
  {
   "cell_type": "code",
   "execution_count": 12,
   "id": "201805dc",
   "metadata": {},
   "outputs": [],
   "source": [
    "new[fillna_cols] = new[fillna_cols].replace(0, new[fillna_cols].mean())"
   ]
  },
  {
   "cell_type": "code",
   "execution_count": 13,
   "id": "1a4a80df",
   "metadata": {},
   "outputs": [],
   "source": [
    "new.dropna(inplace=True)"
   ]
  },
  {
   "cell_type": "code",
   "execution_count": 14,
   "id": "4067604f",
   "metadata": {},
   "outputs": [
    {
     "data": {
      "text/plain": [
       "6330"
      ]
     },
     "execution_count": 14,
     "metadata": {},
     "output_type": "execute_result"
    }
   ],
   "source": [
    "len(new)"
   ]
  },
  {
   "cell_type": "code",
   "execution_count": 15,
   "id": "7fbdb216",
   "metadata": {},
   "outputs": [
    {
     "data": {
      "text/plain": [
       "6330"
      ]
     },
     "execution_count": 15,
     "metadata": {},
     "output_type": "execute_result"
    }
   ],
   "source": [
    "len(skills_df)"
   ]
  },
  {
   "cell_type": "code",
   "execution_count": 134,
   "id": "e7a5687d",
   "metadata": {
    "scrolled": true
   },
   "outputs": [
    {
     "data": {
      "text/plain": [
       "Index(['age', 'g', 'gs', 'targets', 'rec', 'rec_yds', 'rec_yds_per_rec',\n",
       "       'rec_td', 'rec_first_down', 'rec_long', 'rec_per_g', 'rec_yds_per_g',\n",
       "       'catch_pct', 'rec_yds_per_tgt', 'rush_att', 'rush_yds', 'rush_td',\n",
       "       'rush_first_down', 'rush_long', 'rush_yds_per_att', 'rush_yds_per_g',\n",
       "       'rush_att_per_g', 'touches', 'yds_per_touch', 'yds_from_scrimmage',\n",
       "       'rush_receive_td', 'fumbles', 'player_id', 'position', 'snaps_played',\n",
       "       'total_snaps', 'snap_played_percentage', 'season_count'],\n",
       "      dtype='object')"
      ]
     },
     "execution_count": 134,
     "metadata": {},
     "output_type": "execute_result"
    }
   ],
   "source": [
    "new.columns"
   ]
  },
  {
   "cell_type": "markdown",
   "id": "3cd66877",
   "metadata": {},
   "source": [
    "## Map player_id to position"
   ]
  },
  {
   "cell_type": "code",
   "execution_count": 163,
   "id": "e1199208",
   "metadata": {},
   "outputs": [
    {
     "data": {
      "text/html": [
       "<div>\n",
       "<style scoped>\n",
       "    .dataframe tbody tr th:only-of-type {\n",
       "        vertical-align: middle;\n",
       "    }\n",
       "\n",
       "    .dataframe tbody tr th {\n",
       "        vertical-align: top;\n",
       "    }\n",
       "\n",
       "    .dataframe thead th {\n",
       "        text-align: right;\n",
       "    }\n",
       "</style>\n",
       "<table border=\"1\" class=\"dataframe\">\n",
       "  <thead>\n",
       "    <tr style=\"text-align: right;\">\n",
       "      <th></th>\n",
       "      <th>player_id</th>\n",
       "      <th>position</th>\n",
       "    </tr>\n",
       "  </thead>\n",
       "  <tbody>\n",
       "    <tr>\n",
       "      <th>0</th>\n",
       "      <td>CookJa00</td>\n",
       "      <td>FB</td>\n",
       "    </tr>\n",
       "    <tr>\n",
       "      <th>1</th>\n",
       "      <td>McHuSe00</td>\n",
       "      <td>FB</td>\n",
       "    </tr>\n",
       "    <tr>\n",
       "      <th>2</th>\n",
       "      <td>SmitTe00</td>\n",
       "      <td>FB</td>\n",
       "    </tr>\n",
       "    <tr>\n",
       "      <th>3</th>\n",
       "      <td>FeltJe00</td>\n",
       "      <td>FB</td>\n",
       "    </tr>\n",
       "    <tr>\n",
       "      <th>4</th>\n",
       "      <td>HillPe00</td>\n",
       "      <td>FB</td>\n",
       "    </tr>\n",
       "    <tr>\n",
       "      <th>...</th>\n",
       "      <td>...</td>\n",
       "      <td>...</td>\n",
       "    </tr>\n",
       "    <tr>\n",
       "      <th>5675</th>\n",
       "      <td>WilsQu00</td>\n",
       "      <td>RB</td>\n",
       "    </tr>\n",
       "    <tr>\n",
       "      <th>5839</th>\n",
       "      <td>NedxLa00</td>\n",
       "      <td>RB</td>\n",
       "    </tr>\n",
       "    <tr>\n",
       "      <th>5915</th>\n",
       "      <td>HenrLe20</td>\n",
       "      <td>RB</td>\n",
       "    </tr>\n",
       "    <tr>\n",
       "      <th>6289</th>\n",
       "      <td>AkerCa00</td>\n",
       "      <td>RB</td>\n",
       "    </tr>\n",
       "    <tr>\n",
       "      <th>6296</th>\n",
       "      <td>WillJa10</td>\n",
       "      <td>RB</td>\n",
       "    </tr>\n",
       "  </tbody>\n",
       "</table>\n",
       "<p>1278 rows × 2 columns</p>\n",
       "</div>"
      ],
      "text/plain": [
       "     player_id position\n",
       "0     CookJa00       FB\n",
       "1     McHuSe00       FB\n",
       "2     SmitTe00       FB\n",
       "3     FeltJe00       FB\n",
       "4     HillPe00       FB\n",
       "...        ...      ...\n",
       "5675  WilsQu00       RB\n",
       "5839  NedxLa00       RB\n",
       "5915  HenrLe20       RB\n",
       "6289  AkerCa00       RB\n",
       "6296  WillJa10       RB\n",
       "\n",
       "[1278 rows x 2 columns]"
      ]
     },
     "execution_count": 163,
     "metadata": {},
     "output_type": "execute_result"
    }
   ],
   "source": [
    "player_to_position = new[['player_id', 'position']].drop_duplicates()\n",
    "player_to_position"
   ]
  },
  {
   "cell_type": "markdown",
   "id": "81529b50",
   "metadata": {},
   "source": [
    "# Aggregate career statistics for each player"
   ]
  },
  {
   "cell_type": "code",
   "execution_count": 136,
   "id": "ae9cf842",
   "metadata": {},
   "outputs": [],
   "source": [
    "career_stats = new.groupby('player_id').sum()"
   ]
  },
  {
   "cell_type": "code",
   "execution_count": 137,
   "id": "da0fefda",
   "metadata": {
    "scrolled": true
   },
   "outputs": [
    {
     "data": {
      "text/plain": [
       "['age',\n",
       " 'catch_pct',\n",
       " 'fumbles',\n",
       " 'g',\n",
       " 'gs',\n",
       " 'rec',\n",
       " 'rec_first_down',\n",
       " 'rec_long',\n",
       " 'rec_per_g',\n",
       " 'rec_td',\n",
       " 'rec_yds',\n",
       " 'rec_yds_per_g',\n",
       " 'rec_yds_per_rec',\n",
       " 'rec_yds_per_tgt',\n",
       " 'rush_att',\n",
       " 'rush_att_per_g',\n",
       " 'rush_first_down',\n",
       " 'rush_long',\n",
       " 'rush_receive_td',\n",
       " 'rush_td',\n",
       " 'rush_yds',\n",
       " 'rush_yds_per_att',\n",
       " 'rush_yds_per_g',\n",
       " 'season_count',\n",
       " 'snap_played_percentage',\n",
       " 'snaps_played',\n",
       " 'targets',\n",
       " 'total_snaps',\n",
       " 'touches',\n",
       " 'yds_from_scrimmage',\n",
       " 'yds_per_touch']"
      ]
     },
     "execution_count": 137,
     "metadata": {},
     "output_type": "execute_result"
    }
   ],
   "source": [
    "sorted(career_stats.columns)"
   ]
  },
  {
   "cell_type": "code",
   "execution_count": 122,
   "id": "eff988b9",
   "metadata": {},
   "outputs": [],
   "source": [
    "fields_to_divide_by_season = [\n",
    "    'rec_yds_per_rec', 'catch_pct', 'rec_yds_per_tgt',\n",
    "    'rush_yds_per_att', 'rush_att_per_g', 'yds_per_touch'\n",
    "]\n",
    "\n",
    "fields_to_divide_by_season.extend([col for col in career_stats.columns if col.endswith('per_g')])"
   ]
  },
  {
   "cell_type": "code",
   "execution_count": 123,
   "id": "f9e83d94",
   "metadata": {},
   "outputs": [],
   "source": [
    "for field in fields_to_divide_by_season:\n",
    "    career_stats[field] = career_stats[field] / career_stats.season_count"
   ]
  },
  {
   "cell_type": "code",
   "execution_count": 124,
   "id": "2b0a0125",
   "metadata": {},
   "outputs": [],
   "source": [
    "per_game_avg_fields = [\n",
    "    ('targets_per_g', 'targets'),\n",
    "    ('touches_per_g', 'touches'),\n",
    "    ('yds_from_scrimmage_per_g', 'yds_from_scrimmage'),\n",
    "    ('rush_receive_td_per_g', 'rush_receive_td'),\n",
    "    ('rec_td_per_g', 'rec_td'),\n",
    "    ('rush_first_down_per_g', 'rush_first_down'),\n",
    "    ('fumbles_per_g', 'fumbles'),\n",
    "    ('rush_td_per_g', 'rush_td'),\n",
    "    ('rec_first_down_per_g', 'rec_first_down'),\n",
    "]"
   ]
  },
  {
   "cell_type": "code",
   "execution_count": 125,
   "id": "b8eba8ae",
   "metadata": {},
   "outputs": [],
   "source": [
    "for (new_field, metric) in per_game_avg_fields:\n",
    "    career_stats[new_field] = career_stats[metric] / career_stats.g"
   ]
  },
  {
   "cell_type": "code",
   "execution_count": 133,
   "id": "ac795c3d",
   "metadata": {},
   "outputs": [
    {
     "data": {
      "text/plain": [
       "['catch_pct',\n",
       " 'fumbles_per_g',\n",
       " 'rec_first_down_per_g',\n",
       " 'rec_per_g',\n",
       " 'rec_td_per_g',\n",
       " 'rec_yds_per_g',\n",
       " 'rec_yds_per_rec',\n",
       " 'rec_yds_per_tgt',\n",
       " 'rush_att_per_g',\n",
       " 'rush_first_down_per_g',\n",
       " 'rush_receive_td_per_g',\n",
       " 'rush_td_per_g',\n",
       " 'rush_yds_per_att',\n",
       " 'rush_yds_per_g',\n",
       " 'season_count',\n",
       " 'snap_percentage',\n",
       " 'targets_per_g',\n",
       " 'touches_per_g',\n",
       " 'yds_from_scrimmage_per_g',\n",
       " 'yds_per_touch']"
      ]
     },
     "execution_count": 133,
     "metadata": {},
     "output_type": "execute_result"
    }
   ],
   "source": [
    "sorted(career_stats.columns)"
   ]
  },
  {
   "cell_type": "code",
   "execution_count": 127,
   "id": "d990957f",
   "metadata": {},
   "outputs": [],
   "source": [
    "career_stats['snap_percentage'] = career_stats.snaps_played / career_stats.total_snaps"
   ]
  },
  {
   "cell_type": "code",
   "execution_count": 128,
   "id": "4a8116bc",
   "metadata": {},
   "outputs": [],
   "source": [
    "per_game_fields = [col for col in career_stats.columns if col.endswith('per_g')]\n",
    "not_per_game_fields = [col for col in career_stats.columns if not col.endswith('per_g')]\n",
    "\n",
    "fields_to_remove = []\n",
    "\n",
    "for field in not_per_game_fields:\n",
    "    for field_2 in per_game_fields:\n",
    "        base_field = re.match('.*(?=_per_g)', field_2)\n",
    "        if base_field[0] == field:\n",
    "            fields_to_remove.append(field)\n",
    "            continue\n",
    "\n",
    "fields_to_remove.extend([\n",
    "    'age', 'rec_long', 'rush_long', 'total_snaps', \n",
    "    'snap_played_percentage','g', 'gs', 'snaps_played'\n",
    "])"
   ]
  },
  {
   "cell_type": "code",
   "execution_count": 129,
   "id": "a6a40820",
   "metadata": {},
   "outputs": [],
   "source": [
    "career_stats = career_stats.drop(fields_to_remove, axis=1)"
   ]
  },
  {
   "cell_type": "code",
   "execution_count": 131,
   "id": "a70485ab",
   "metadata": {},
   "outputs": [
    {
     "data": {
      "text/html": [
       "<div>\n",
       "<style scoped>\n",
       "    .dataframe tbody tr th:only-of-type {\n",
       "        vertical-align: middle;\n",
       "    }\n",
       "\n",
       "    .dataframe tbody tr th {\n",
       "        vertical-align: top;\n",
       "    }\n",
       "\n",
       "    .dataframe thead th {\n",
       "        text-align: right;\n",
       "    }\n",
       "</style>\n",
       "<table border=\"1\" class=\"dataframe\">\n",
       "  <thead>\n",
       "    <tr style=\"text-align: right;\">\n",
       "      <th></th>\n",
       "      <th>rec_yds_per_rec</th>\n",
       "      <th>rec_per_g</th>\n",
       "      <th>rec_yds_per_g</th>\n",
       "      <th>catch_pct</th>\n",
       "      <th>rec_yds_per_tgt</th>\n",
       "      <th>rush_yds_per_att</th>\n",
       "      <th>rush_yds_per_g</th>\n",
       "      <th>rush_att_per_g</th>\n",
       "      <th>yds_per_touch</th>\n",
       "      <th>season_count</th>\n",
       "      <th>targets_per_g</th>\n",
       "      <th>touches_per_g</th>\n",
       "      <th>yds_from_scrimmage_per_g</th>\n",
       "      <th>rush_receive_td_per_g</th>\n",
       "      <th>rec_td_per_g</th>\n",
       "      <th>rush_first_down_per_g</th>\n",
       "      <th>fumbles_per_g</th>\n",
       "      <th>rush_td_per_g</th>\n",
       "      <th>rec_first_down_per_g</th>\n",
       "      <th>snap_percentage</th>\n",
       "    </tr>\n",
       "    <tr>\n",
       "      <th>player_id</th>\n",
       "      <th></th>\n",
       "      <th></th>\n",
       "      <th></th>\n",
       "      <th></th>\n",
       "      <th></th>\n",
       "      <th></th>\n",
       "      <th></th>\n",
       "      <th></th>\n",
       "      <th></th>\n",
       "      <th></th>\n",
       "      <th></th>\n",
       "      <th></th>\n",
       "      <th></th>\n",
       "      <th></th>\n",
       "      <th></th>\n",
       "      <th></th>\n",
       "      <th></th>\n",
       "      <th></th>\n",
       "      <th></th>\n",
       "      <th></th>\n",
       "    </tr>\n",
       "  </thead>\n",
       "  <tbody>\n",
       "    <tr>\n",
       "      <th>AdamDa01</th>\n",
       "      <td>12.0875</td>\n",
       "      <td>5.75</td>\n",
       "      <td>70.3125</td>\n",
       "      <td>63.875</td>\n",
       "      <td>7.75</td>\n",
       "      <td>0.0</td>\n",
       "      <td>0.0</td>\n",
       "      <td>0.0</td>\n",
       "      <td>12.0875</td>\n",
       "      <td>8</td>\n",
       "      <td>8.611111</td>\n",
       "      <td>5.592593</td>\n",
       "      <td>68.092593</td>\n",
       "      <td>0.601852</td>\n",
       "      <td>0.601852</td>\n",
       "      <td>0.0</td>\n",
       "      <td>0.046296</td>\n",
       "      <td>0.0</td>\n",
       "      <td>3.37963</td>\n",
       "      <td>0.832297</td>\n",
       "    </tr>\n",
       "  </tbody>\n",
       "</table>\n",
       "</div>"
      ],
      "text/plain": [
       "           rec_yds_per_rec  rec_per_g  rec_yds_per_g  catch_pct  \\\n",
       "player_id                                                         \n",
       "AdamDa01           12.0875       5.75        70.3125     63.875   \n",
       "\n",
       "           rec_yds_per_tgt  rush_yds_per_att  rush_yds_per_g  rush_att_per_g  \\\n",
       "player_id                                                                      \n",
       "AdamDa01              7.75               0.0             0.0             0.0   \n",
       "\n",
       "           yds_per_touch  season_count  targets_per_g  touches_per_g  \\\n",
       "player_id                                                              \n",
       "AdamDa01         12.0875             8       8.611111       5.592593   \n",
       "\n",
       "           yds_from_scrimmage_per_g  rush_receive_td_per_g  rec_td_per_g  \\\n",
       "player_id                                                                  \n",
       "AdamDa01                  68.092593               0.601852      0.601852   \n",
       "\n",
       "           rush_first_down_per_g  fumbles_per_g  rush_td_per_g  \\\n",
       "player_id                                                        \n",
       "AdamDa01                     0.0       0.046296            0.0   \n",
       "\n",
       "           rec_first_down_per_g  snap_percentage  \n",
       "player_id                                         \n",
       "AdamDa01                3.37963         0.832297  "
      ]
     },
     "execution_count": 131,
     "metadata": {},
     "output_type": "execute_result"
    }
   ],
   "source": [
    "career_stats.query('player_id == \"AdamDa01\"')"
   ]
  },
  {
   "cell_type": "markdown",
   "id": "dddc3a38",
   "metadata": {},
   "source": [
    "# Add player Position back to data"
   ]
  },
  {
   "cell_type": "code",
   "execution_count": 160,
   "id": "fce21abd",
   "metadata": {},
   "outputs": [],
   "source": [
    "temp = career_stats.reset_index()"
   ]
  },
  {
   "cell_type": "code",
   "execution_count": 162,
   "id": "9d04c76d",
   "metadata": {},
   "outputs": [
    {
     "data": {
      "text/html": [
       "<div>\n",
       "<style scoped>\n",
       "    .dataframe tbody tr th:only-of-type {\n",
       "        vertical-align: middle;\n",
       "    }\n",
       "\n",
       "    .dataframe tbody tr th {\n",
       "        vertical-align: top;\n",
       "    }\n",
       "\n",
       "    .dataframe thead th {\n",
       "        text-align: right;\n",
       "    }\n",
       "</style>\n",
       "<table border=\"1\" class=\"dataframe\">\n",
       "  <thead>\n",
       "    <tr style=\"text-align: right;\">\n",
       "      <th></th>\n",
       "      <th>player_id</th>\n",
       "      <th>age</th>\n",
       "      <th>g</th>\n",
       "      <th>gs</th>\n",
       "      <th>targets</th>\n",
       "      <th>rec</th>\n",
       "      <th>rec_yds</th>\n",
       "      <th>rec_yds_per_rec</th>\n",
       "      <th>rec_td</th>\n",
       "      <th>rec_first_down</th>\n",
       "      <th>...</th>\n",
       "      <th>rush_att_per_g</th>\n",
       "      <th>touches</th>\n",
       "      <th>yds_per_touch</th>\n",
       "      <th>yds_from_scrimmage</th>\n",
       "      <th>rush_receive_td</th>\n",
       "      <th>fumbles</th>\n",
       "      <th>snaps_played</th>\n",
       "      <th>total_snaps</th>\n",
       "      <th>snap_played_percentage</th>\n",
       "      <th>season_count</th>\n",
       "    </tr>\n",
       "  </thead>\n",
       "  <tbody>\n",
       "    <tr>\n",
       "      <th>0</th>\n",
       "      <td>AbbrJa00</td>\n",
       "      <td>78</td>\n",
       "      <td>22</td>\n",
       "      <td>0</td>\n",
       "      <td>25</td>\n",
       "      <td>13</td>\n",
       "      <td>163</td>\n",
       "      <td>35.0</td>\n",
       "      <td>0</td>\n",
       "      <td>7</td>\n",
       "      <td>...</td>\n",
       "      <td>0.0</td>\n",
       "      <td>13</td>\n",
       "      <td>35.0</td>\n",
       "      <td>163</td>\n",
       "      <td>0</td>\n",
       "      <td>1</td>\n",
       "      <td>240.000000</td>\n",
       "      <td>1518.000000</td>\n",
       "      <td>0.460000</td>\n",
       "      <td>3</td>\n",
       "    </tr>\n",
       "    <tr>\n",
       "      <th>1</th>\n",
       "      <td>AbduAm00</td>\n",
       "      <td>175</td>\n",
       "      <td>89</td>\n",
       "      <td>22</td>\n",
       "      <td>130</td>\n",
       "      <td>94</td>\n",
       "      <td>675</td>\n",
       "      <td>61.6</td>\n",
       "      <td>6</td>\n",
       "      <td>44</td>\n",
       "      <td>...</td>\n",
       "      <td>34.7</td>\n",
       "      <td>475</td>\n",
       "      <td>44.4</td>\n",
       "      <td>2174</td>\n",
       "      <td>12</td>\n",
       "      <td>9</td>\n",
       "      <td>3136.963341</td>\n",
       "      <td>6139.087095</td>\n",
       "      <td>3.722884</td>\n",
       "      <td>8</td>\n",
       "    </tr>\n",
       "    <tr>\n",
       "      <th>2</th>\n",
       "      <td>AdamDa01</td>\n",
       "      <td>204</td>\n",
       "      <td>108</td>\n",
       "      <td>101</td>\n",
       "      <td>930</td>\n",
       "      <td>604</td>\n",
       "      <td>7354</td>\n",
       "      <td>96.7</td>\n",
       "      <td>65</td>\n",
       "      <td>365</td>\n",
       "      <td>...</td>\n",
       "      <td>0.0</td>\n",
       "      <td>604</td>\n",
       "      <td>96.7</td>\n",
       "      <td>7354</td>\n",
       "      <td>65</td>\n",
       "      <td>5</td>\n",
       "      <td>6025.000000</td>\n",
       "      <td>7239.000000</td>\n",
       "      <td>6.680000</td>\n",
       "      <td>8</td>\n",
       "    </tr>\n",
       "    <tr>\n",
       "      <th>3</th>\n",
       "      <td>AdamJe01</td>\n",
       "      <td>76</td>\n",
       "      <td>30</td>\n",
       "      <td>3</td>\n",
       "      <td>32</td>\n",
       "      <td>24</td>\n",
       "      <td>214</td>\n",
       "      <td>19.1</td>\n",
       "      <td>1</td>\n",
       "      <td>13</td>\n",
       "      <td>...</td>\n",
       "      <td>0.0</td>\n",
       "      <td>24</td>\n",
       "      <td>19.1</td>\n",
       "      <td>214</td>\n",
       "      <td>1</td>\n",
       "      <td>1</td>\n",
       "      <td>1176.361253</td>\n",
       "      <td>2302.157661</td>\n",
       "      <td>1.396081</td>\n",
       "      <td>3</td>\n",
       "    </tr>\n",
       "    <tr>\n",
       "      <th>4</th>\n",
       "      <td>AdamJo01</td>\n",
       "      <td>23</td>\n",
       "      <td>9</td>\n",
       "      <td>0</td>\n",
       "      <td>1</td>\n",
       "      <td>1</td>\n",
       "      <td>7</td>\n",
       "      <td>7.0</td>\n",
       "      <td>0</td>\n",
       "      <td>0</td>\n",
       "      <td>...</td>\n",
       "      <td>0.3</td>\n",
       "      <td>4</td>\n",
       "      <td>5.0</td>\n",
       "      <td>20</td>\n",
       "      <td>0</td>\n",
       "      <td>4</td>\n",
       "      <td>22.000000</td>\n",
       "      <td>550.000000</td>\n",
       "      <td>0.040000</td>\n",
       "      <td>1</td>\n",
       "    </tr>\n",
       "    <tr>\n",
       "      <th>...</th>\n",
       "      <td>...</td>\n",
       "      <td>...</td>\n",
       "      <td>...</td>\n",
       "      <td>...</td>\n",
       "      <td>...</td>\n",
       "      <td>...</td>\n",
       "      <td>...</td>\n",
       "      <td>...</td>\n",
       "      <td>...</td>\n",
       "      <td>...</td>\n",
       "      <td>...</td>\n",
       "      <td>...</td>\n",
       "      <td>...</td>\n",
       "      <td>...</td>\n",
       "      <td>...</td>\n",
       "      <td>...</td>\n",
       "      <td>...</td>\n",
       "      <td>...</td>\n",
       "      <td>...</td>\n",
       "      <td>...</td>\n",
       "      <td>...</td>\n",
       "    </tr>\n",
       "    <tr>\n",
       "      <th>1273</th>\n",
       "      <td>WynnDe00</td>\n",
       "      <td>102</td>\n",
       "      <td>26</td>\n",
       "      <td>4</td>\n",
       "      <td>24</td>\n",
       "      <td>14</td>\n",
       "      <td>122</td>\n",
       "      <td>27.6</td>\n",
       "      <td>0</td>\n",
       "      <td>6</td>\n",
       "      <td>...</td>\n",
       "      <td>10.2</td>\n",
       "      <td>78</td>\n",
       "      <td>22.2</td>\n",
       "      <td>454</td>\n",
       "      <td>5</td>\n",
       "      <td>1</td>\n",
       "      <td>1960.602088</td>\n",
       "      <td>3836.929434</td>\n",
       "      <td>2.326802</td>\n",
       "      <td>5</td>\n",
       "    </tr>\n",
       "    <tr>\n",
       "      <th>1274</th>\n",
       "      <td>WynnMi00</td>\n",
       "      <td>47</td>\n",
       "      <td>4</td>\n",
       "      <td>0</td>\n",
       "      <td>7</td>\n",
       "      <td>4</td>\n",
       "      <td>69</td>\n",
       "      <td>17.3</td>\n",
       "      <td>0</td>\n",
       "      <td>3</td>\n",
       "      <td>...</td>\n",
       "      <td>0.0</td>\n",
       "      <td>4</td>\n",
       "      <td>17.3</td>\n",
       "      <td>69</td>\n",
       "      <td>0</td>\n",
       "      <td>0</td>\n",
       "      <td>784.240835</td>\n",
       "      <td>1534.771774</td>\n",
       "      <td>0.930721</td>\n",
       "      <td>2</td>\n",
       "    </tr>\n",
       "    <tr>\n",
       "      <th>1275</th>\n",
       "      <td>YeldT.00</td>\n",
       "      <td>147</td>\n",
       "      <td>60</td>\n",
       "      <td>30</td>\n",
       "      <td>252</td>\n",
       "      <td>185</td>\n",
       "      <td>1448</td>\n",
       "      <td>61.9</td>\n",
       "      <td>7</td>\n",
       "      <td>72</td>\n",
       "      <td>...</td>\n",
       "      <td>42.3</td>\n",
       "      <td>677</td>\n",
       "      <td>35.3</td>\n",
       "      <td>3453</td>\n",
       "      <td>13</td>\n",
       "      <td>7</td>\n",
       "      <td>2352.722506</td>\n",
       "      <td>4604.315321</td>\n",
       "      <td>2.792163</td>\n",
       "      <td>6</td>\n",
       "    </tr>\n",
       "    <tr>\n",
       "      <th>1276</th>\n",
       "      <td>YounTi00</td>\n",
       "      <td>45</td>\n",
       "      <td>26</td>\n",
       "      <td>17</td>\n",
       "      <td>142</td>\n",
       "      <td>81</td>\n",
       "      <td>990</td>\n",
       "      <td>24.2</td>\n",
       "      <td>10</td>\n",
       "      <td>53</td>\n",
       "      <td>...</td>\n",
       "      <td>0.3</td>\n",
       "      <td>85</td>\n",
       "      <td>23.8</td>\n",
       "      <td>1021</td>\n",
       "      <td>10</td>\n",
       "      <td>1</td>\n",
       "      <td>1206.000000</td>\n",
       "      <td>1454.000000</td>\n",
       "      <td>1.660000</td>\n",
       "      <td>2</td>\n",
       "    </tr>\n",
       "    <tr>\n",
       "      <th>1277</th>\n",
       "      <td>YounWa00</td>\n",
       "      <td>51</td>\n",
       "      <td>9</td>\n",
       "      <td>0</td>\n",
       "      <td>6</td>\n",
       "      <td>1</td>\n",
       "      <td>17</td>\n",
       "      <td>17.0</td>\n",
       "      <td>0</td>\n",
       "      <td>1</td>\n",
       "      <td>...</td>\n",
       "      <td>0.0</td>\n",
       "      <td>1</td>\n",
       "      <td>17.0</td>\n",
       "      <td>17</td>\n",
       "      <td>0</td>\n",
       "      <td>0</td>\n",
       "      <td>784.240835</td>\n",
       "      <td>1534.771774</td>\n",
       "      <td>0.930721</td>\n",
       "      <td>2</td>\n",
       "    </tr>\n",
       "  </tbody>\n",
       "</table>\n",
       "<p>1278 rows × 32 columns</p>\n",
       "</div>"
      ],
      "text/plain": [
       "     player_id  age    g   gs  targets  rec  rec_yds  rec_yds_per_rec  rec_td  \\\n",
       "0     AbbrJa00   78   22    0       25   13      163             35.0       0   \n",
       "1     AbduAm00  175   89   22      130   94      675             61.6       6   \n",
       "2     AdamDa01  204  108  101      930  604     7354             96.7      65   \n",
       "3     AdamJe01   76   30    3       32   24      214             19.1       1   \n",
       "4     AdamJo01   23    9    0        1    1        7              7.0       0   \n",
       "...        ...  ...  ...  ...      ...  ...      ...              ...     ...   \n",
       "1273  WynnDe00  102   26    4       24   14      122             27.6       0   \n",
       "1274  WynnMi00   47    4    0        7    4       69             17.3       0   \n",
       "1275  YeldT.00  147   60   30      252  185     1448             61.9       7   \n",
       "1276  YounTi00   45   26   17      142   81      990             24.2      10   \n",
       "1277  YounWa00   51    9    0        6    1       17             17.0       0   \n",
       "\n",
       "      rec_first_down  ...  rush_att_per_g  touches  yds_per_touch  \\\n",
       "0                  7  ...             0.0       13           35.0   \n",
       "1                 44  ...            34.7      475           44.4   \n",
       "2                365  ...             0.0      604           96.7   \n",
       "3                 13  ...             0.0       24           19.1   \n",
       "4                  0  ...             0.3        4            5.0   \n",
       "...              ...  ...             ...      ...            ...   \n",
       "1273               6  ...            10.2       78           22.2   \n",
       "1274               3  ...             0.0        4           17.3   \n",
       "1275              72  ...            42.3      677           35.3   \n",
       "1276              53  ...             0.3       85           23.8   \n",
       "1277               1  ...             0.0        1           17.0   \n",
       "\n",
       "      yds_from_scrimmage  rush_receive_td  fumbles  snaps_played  total_snaps  \\\n",
       "0                    163                0        1    240.000000  1518.000000   \n",
       "1                   2174               12        9   3136.963341  6139.087095   \n",
       "2                   7354               65        5   6025.000000  7239.000000   \n",
       "3                    214                1        1   1176.361253  2302.157661   \n",
       "4                     20                0        4     22.000000   550.000000   \n",
       "...                  ...              ...      ...           ...          ...   \n",
       "1273                 454                5        1   1960.602088  3836.929434   \n",
       "1274                  69                0        0    784.240835  1534.771774   \n",
       "1275                3453               13        7   2352.722506  4604.315321   \n",
       "1276                1021               10        1   1206.000000  1454.000000   \n",
       "1277                  17                0        0    784.240835  1534.771774   \n",
       "\n",
       "      snap_played_percentage  season_count  \n",
       "0                   0.460000             3  \n",
       "1                   3.722884             8  \n",
       "2                   6.680000             8  \n",
       "3                   1.396081             3  \n",
       "4                   0.040000             1  \n",
       "...                      ...           ...  \n",
       "1273                2.326802             5  \n",
       "1274                0.930721             2  \n",
       "1275                2.792163             6  \n",
       "1276                1.660000             2  \n",
       "1277                0.930721             2  \n",
       "\n",
       "[1278 rows x 32 columns]"
      ]
     },
     "execution_count": 162,
     "metadata": {},
     "output_type": "execute_result"
    }
   ],
   "source": [
    "temp"
   ]
  },
  {
   "cell_type": "code",
   "execution_count": 161,
   "id": "d93458d9",
   "metadata": {},
   "outputs": [
    {
     "ename": "TypeError",
     "evalue": "unhashable type: 'Series'",
     "output_type": "error",
     "traceback": [
      "\u001b[0;31m---------------------------------------------------------------------------\u001b[0m",
      "\u001b[0;31mTypeError\u001b[0m                                 Traceback (most recent call last)",
      "Input \u001b[0;32mIn [161]\u001b[0m, in \u001b[0;36m<module>\u001b[0;34m\u001b[0m\n\u001b[0;32m----> 1\u001b[0m temp[\u001b[38;5;124m'\u001b[39m\u001b[38;5;124mposition\u001b[39m\u001b[38;5;124m'\u001b[39m] \u001b[38;5;241m=\u001b[39m \u001b[43mplay_to_position\u001b[49m\u001b[43m[\u001b[49m\u001b[43mtemp\u001b[49m\u001b[38;5;241;43m.\u001b[39;49m\u001b[43mplayer_id\u001b[49m\u001b[43m]\u001b[49m\n",
      "\u001b[0;31mTypeError\u001b[0m: unhashable type: 'Series'"
     ]
    }
   ],
   "source": [
    "temp['position'] = play_to_position[temp.player_id]"
   ]
  },
  {
   "cell_type": "markdown",
   "id": "4c498aec",
   "metadata": {},
   "source": [
    "# Remove unecessary fields"
   ]
  },
  {
   "cell_type": "code",
   "execution_count": 132,
   "id": "e1dafdd8",
   "metadata": {
    "scrolled": true
   },
   "outputs": [],
   "source": [
    "player_to_seasons_played = career_stats['season_count']"
   ]
  },
  {
   "cell_type": "code",
   "execution_count": 58,
   "id": "9d9898e6",
   "metadata": {},
   "outputs": [],
   "source": []
  },
  {
   "cell_type": "markdown",
   "id": "0e81087b",
   "metadata": {},
   "source": [
    "## Groupby position and standardize fields\n",
    "`[pass_int, pass_sacked, pass_sacked_yds, wins, losses, ties]`\n",
    "* use pass_int_perc instead of total interceptions\n",
    "* prefer win percentage to wins/ties/losses"
   ]
  },
  {
   "cell_type": "code",
   "execution_count": 59,
   "id": "a0b93a79",
   "metadata": {},
   "outputs": [],
   "source": [
    "career_groups = career_stats.groupby('')"
   ]
  },
  {
   "cell_type": "code",
   "execution_count": 60,
   "id": "d31e2e1f",
   "metadata": {},
   "outputs": [],
   "source": [
    "normalized_qb_df = career_stats_clean.apply(lambda x: (x - x.min()) / (x.max() - x.min()))"
   ]
  },
  {
   "cell_type": "markdown",
   "id": "da26d003",
   "metadata": {
    "scrolled": false
   },
   "source": [
    "## Penalize Negative fields (lower is better)\n",
    "`[pass_int_perc, fumbles`]"
   ]
  },
  {
   "cell_type": "code",
   "execution_count": 61,
   "id": "7c5e694a",
   "metadata": {},
   "outputs": [],
   "source": [
    "negative_fields = ['pass_int_perc', 'fumbles_per_g']\n",
    "normalized_qb_df[negative_fields] = normalized_qb_df[negative_fields] * -1"
   ]
  },
  {
   "cell_type": "code",
   "execution_count": 62,
   "id": "7aa4f549",
   "metadata": {
    "scrolled": true
   },
   "outputs": [
    {
     "data": {
      "text/plain": [
       "{'pass_cmp_perc': {'BradTo00': 0.6407065068179738},\n",
       " 'pass_td_perc': {'BradTo00': 0.27729477441200695},\n",
       " 'pass_int_perc': {'BradTo00': -0.08968609865470852},\n",
       " 'pass_yds_per_att': {'BradTo00': 0.6525754834531259},\n",
       " 'pass_yds_per_cmp': {'BradTo00': 0.2995286387658906},\n",
       " 'pass_yds_per_g': {'BradTo00': 0.8787632079299167},\n",
       " 'comebacks': {'BradTo00': 1.0},\n",
       " 'gwd': {'BradTo00': 0.9433962264150944},\n",
       " 'rush_yds_per_att': {'BradTo00': 0.3332126696832579},\n",
       " 'rush_yds_per_g': {'BradTo00': 0.09672335531225582},\n",
       " 'rush_att_per_g': {'BradTo00': 0.19047126420712696},\n",
       " 'win_percentage': {'BradTo00': 0.7679738562091504},\n",
       " 'pass_att_per_game': {'BradTo00': 0.8953836759587969},\n",
       " 'fumbles_per_g': {'BradTo00': -0.20846905537459284},\n",
       " 'pass_td_per_g': {'BradTo00': 0.8101998152559676},\n",
       " 'rush_td_per_g': {'BradTo00': 0.15728245695672405},\n",
       " 'qbr_avg': {'BradTo00': 0.9224737039819683},\n",
       " 'avg_pass_rating_per_season': {'BradTo00': 0.8389031705227078},\n",
       " 'snap_percentage': {'BradTo00': 0.9735966661221026}}"
      ]
     },
     "execution_count": 62,
     "metadata": {},
     "output_type": "execute_result"
    }
   ],
   "source": [
    "normalized_qb_df.query('player_id == \"BradTo00\"').to_dict()"
   ]
  },
  {
   "cell_type": "code",
   "execution_count": 63,
   "id": "b62a2ccc",
   "metadata": {},
   "outputs": [],
   "source": [
    "normalized_qb_df.fillna(0, inplace=True)"
   ]
  },
  {
   "cell_type": "code",
   "execution_count": 64,
   "id": "64193620",
   "metadata": {},
   "outputs": [
    {
     "data": {
      "text/plain": [
       "19"
      ]
     },
     "execution_count": 64,
     "metadata": {},
     "output_type": "execute_result"
    }
   ],
   "source": [
    "len(normalized_qb_df.columns)"
   ]
  },
  {
   "cell_type": "code",
   "execution_count": 65,
   "id": "04caff08",
   "metadata": {},
   "outputs": [],
   "source": [
    "pca = PCA(n_components=1)"
   ]
  },
  {
   "cell_type": "code",
   "execution_count": 66,
   "id": "2787e4aa",
   "metadata": {},
   "outputs": [],
   "source": [
    "pca_analysis = pd.DataFrame(\n",
    "    pca.fit_transform(normalized_qb_df), \n",
    "    columns=['PCA%i' % i for i in range(1)], \n",
    "    index=normalized_qb_df.index)"
   ]
  },
  {
   "cell_type": "markdown",
   "id": "55759bad",
   "metadata": {},
   "source": [
    "# Aggregate performance metric with career stats"
   ]
  },
  {
   "cell_type": "code",
   "execution_count": 67,
   "id": "c58b6da9",
   "metadata": {},
   "outputs": [],
   "source": [
    "career_stats_final = pd.merge(player_to_seasons_played, pca_analysis, left_index=True, right_index=True)"
   ]
  },
  {
   "cell_type": "code",
   "execution_count": 68,
   "id": "d34e08f5",
   "metadata": {},
   "outputs": [],
   "source": [
    "career_stats_final['career_score'] = career_stats_final.PCA0\n",
    "career_stats_final.drop('PCA0', axis=1, inplace=True)"
   ]
  },
  {
   "cell_type": "code",
   "execution_count": 35,
   "id": "775cd6b3",
   "metadata": {
    "scrolled": true
   },
   "outputs": [
    {
     "ename": "OSError",
     "evalue": "Cannot save file into a non-existent directory: 'ProData'",
     "output_type": "error",
     "traceback": [
      "\u001b[0;31m---------------------------------------------------------------------------\u001b[0m",
      "\u001b[0;31mOSError\u001b[0m                                   Traceback (most recent call last)",
      "Input \u001b[0;32mIn [35]\u001b[0m, in \u001b[0;36m<module>\u001b[0;34m\u001b[0m\n\u001b[0;32m----> 1\u001b[0m \u001b[43mcareer_stats_final\u001b[49m\u001b[38;5;241;43m.\u001b[39;49m\u001b[43mto_csv\u001b[49m\u001b[43m(\u001b[49m\u001b[38;5;124;43m'\u001b[39;49m\u001b[38;5;124;43m./ProData/qb_career_stats_no_career_totals.csv\u001b[39;49m\u001b[38;5;124;43m'\u001b[39;49m\u001b[43m)\u001b[49m\n",
      "File \u001b[0;32m~/Library/Python/3.8/lib/python/site-packages/pandas/core/generic.py:3563\u001b[0m, in \u001b[0;36mNDFrame.to_csv\u001b[0;34m(self, path_or_buf, sep, na_rep, float_format, columns, header, index, index_label, mode, encoding, compression, quoting, quotechar, line_terminator, chunksize, date_format, doublequote, escapechar, decimal, errors, storage_options)\u001b[0m\n\u001b[1;32m   3552\u001b[0m df \u001b[38;5;241m=\u001b[39m \u001b[38;5;28mself\u001b[39m \u001b[38;5;28;01mif\u001b[39;00m \u001b[38;5;28misinstance\u001b[39m(\u001b[38;5;28mself\u001b[39m, ABCDataFrame) \u001b[38;5;28;01melse\u001b[39;00m \u001b[38;5;28mself\u001b[39m\u001b[38;5;241m.\u001b[39mto_frame()\n\u001b[1;32m   3554\u001b[0m formatter \u001b[38;5;241m=\u001b[39m DataFrameFormatter(\n\u001b[1;32m   3555\u001b[0m     frame\u001b[38;5;241m=\u001b[39mdf,\n\u001b[1;32m   3556\u001b[0m     header\u001b[38;5;241m=\u001b[39mheader,\n\u001b[0;32m   (...)\u001b[0m\n\u001b[1;32m   3560\u001b[0m     decimal\u001b[38;5;241m=\u001b[39mdecimal,\n\u001b[1;32m   3561\u001b[0m )\n\u001b[0;32m-> 3563\u001b[0m \u001b[38;5;28;01mreturn\u001b[39;00m \u001b[43mDataFrameRenderer\u001b[49m\u001b[43m(\u001b[49m\u001b[43mformatter\u001b[49m\u001b[43m)\u001b[49m\u001b[38;5;241;43m.\u001b[39;49m\u001b[43mto_csv\u001b[49m\u001b[43m(\u001b[49m\n\u001b[1;32m   3564\u001b[0m \u001b[43m    \u001b[49m\u001b[43mpath_or_buf\u001b[49m\u001b[43m,\u001b[49m\n\u001b[1;32m   3565\u001b[0m \u001b[43m    \u001b[49m\u001b[43mline_terminator\u001b[49m\u001b[38;5;241;43m=\u001b[39;49m\u001b[43mline_terminator\u001b[49m\u001b[43m,\u001b[49m\n\u001b[1;32m   3566\u001b[0m \u001b[43m    \u001b[49m\u001b[43msep\u001b[49m\u001b[38;5;241;43m=\u001b[39;49m\u001b[43msep\u001b[49m\u001b[43m,\u001b[49m\n\u001b[1;32m   3567\u001b[0m \u001b[43m    \u001b[49m\u001b[43mencoding\u001b[49m\u001b[38;5;241;43m=\u001b[39;49m\u001b[43mencoding\u001b[49m\u001b[43m,\u001b[49m\n\u001b[1;32m   3568\u001b[0m \u001b[43m    \u001b[49m\u001b[43merrors\u001b[49m\u001b[38;5;241;43m=\u001b[39;49m\u001b[43merrors\u001b[49m\u001b[43m,\u001b[49m\n\u001b[1;32m   3569\u001b[0m \u001b[43m    \u001b[49m\u001b[43mcompression\u001b[49m\u001b[38;5;241;43m=\u001b[39;49m\u001b[43mcompression\u001b[49m\u001b[43m,\u001b[49m\n\u001b[1;32m   3570\u001b[0m \u001b[43m    \u001b[49m\u001b[43mquoting\u001b[49m\u001b[38;5;241;43m=\u001b[39;49m\u001b[43mquoting\u001b[49m\u001b[43m,\u001b[49m\n\u001b[1;32m   3571\u001b[0m \u001b[43m    \u001b[49m\u001b[43mcolumns\u001b[49m\u001b[38;5;241;43m=\u001b[39;49m\u001b[43mcolumns\u001b[49m\u001b[43m,\u001b[49m\n\u001b[1;32m   3572\u001b[0m \u001b[43m    \u001b[49m\u001b[43mindex_label\u001b[49m\u001b[38;5;241;43m=\u001b[39;49m\u001b[43mindex_label\u001b[49m\u001b[43m,\u001b[49m\n\u001b[1;32m   3573\u001b[0m \u001b[43m    \u001b[49m\u001b[43mmode\u001b[49m\u001b[38;5;241;43m=\u001b[39;49m\u001b[43mmode\u001b[49m\u001b[43m,\u001b[49m\n\u001b[1;32m   3574\u001b[0m \u001b[43m    \u001b[49m\u001b[43mchunksize\u001b[49m\u001b[38;5;241;43m=\u001b[39;49m\u001b[43mchunksize\u001b[49m\u001b[43m,\u001b[49m\n\u001b[1;32m   3575\u001b[0m \u001b[43m    \u001b[49m\u001b[43mquotechar\u001b[49m\u001b[38;5;241;43m=\u001b[39;49m\u001b[43mquotechar\u001b[49m\u001b[43m,\u001b[49m\n\u001b[1;32m   3576\u001b[0m \u001b[43m    \u001b[49m\u001b[43mdate_format\u001b[49m\u001b[38;5;241;43m=\u001b[39;49m\u001b[43mdate_format\u001b[49m\u001b[43m,\u001b[49m\n\u001b[1;32m   3577\u001b[0m \u001b[43m    \u001b[49m\u001b[43mdoublequote\u001b[49m\u001b[38;5;241;43m=\u001b[39;49m\u001b[43mdoublequote\u001b[49m\u001b[43m,\u001b[49m\n\u001b[1;32m   3578\u001b[0m \u001b[43m    \u001b[49m\u001b[43mescapechar\u001b[49m\u001b[38;5;241;43m=\u001b[39;49m\u001b[43mescapechar\u001b[49m\u001b[43m,\u001b[49m\n\u001b[1;32m   3579\u001b[0m \u001b[43m    \u001b[49m\u001b[43mstorage_options\u001b[49m\u001b[38;5;241;43m=\u001b[39;49m\u001b[43mstorage_options\u001b[49m\u001b[43m,\u001b[49m\n\u001b[1;32m   3580\u001b[0m \u001b[43m\u001b[49m\u001b[43m)\u001b[49m\n",
      "File \u001b[0;32m~/Library/Python/3.8/lib/python/site-packages/pandas/io/formats/format.py:1180\u001b[0m, in \u001b[0;36mDataFrameRenderer.to_csv\u001b[0;34m(self, path_or_buf, encoding, sep, columns, index_label, mode, compression, quoting, quotechar, line_terminator, chunksize, date_format, doublequote, escapechar, errors, storage_options)\u001b[0m\n\u001b[1;32m   1159\u001b[0m     created_buffer \u001b[38;5;241m=\u001b[39m \u001b[38;5;28;01mFalse\u001b[39;00m\n\u001b[1;32m   1161\u001b[0m csv_formatter \u001b[38;5;241m=\u001b[39m CSVFormatter(\n\u001b[1;32m   1162\u001b[0m     path_or_buf\u001b[38;5;241m=\u001b[39mpath_or_buf,\n\u001b[1;32m   1163\u001b[0m     line_terminator\u001b[38;5;241m=\u001b[39mline_terminator,\n\u001b[0;32m   (...)\u001b[0m\n\u001b[1;32m   1178\u001b[0m     formatter\u001b[38;5;241m=\u001b[39m\u001b[38;5;28mself\u001b[39m\u001b[38;5;241m.\u001b[39mfmt,\n\u001b[1;32m   1179\u001b[0m )\n\u001b[0;32m-> 1180\u001b[0m \u001b[43mcsv_formatter\u001b[49m\u001b[38;5;241;43m.\u001b[39;49m\u001b[43msave\u001b[49m\u001b[43m(\u001b[49m\u001b[43m)\u001b[49m\n\u001b[1;32m   1182\u001b[0m \u001b[38;5;28;01mif\u001b[39;00m created_buffer:\n\u001b[1;32m   1183\u001b[0m     \u001b[38;5;28;01massert\u001b[39;00m \u001b[38;5;28misinstance\u001b[39m(path_or_buf, StringIO)\n",
      "File \u001b[0;32m~/Library/Python/3.8/lib/python/site-packages/pandas/io/formats/csvs.py:241\u001b[0m, in \u001b[0;36mCSVFormatter.save\u001b[0;34m(self)\u001b[0m\n\u001b[1;32m    237\u001b[0m \u001b[38;5;124;03m\"\"\"\u001b[39;00m\n\u001b[1;32m    238\u001b[0m \u001b[38;5;124;03mCreate the writer & save.\u001b[39;00m\n\u001b[1;32m    239\u001b[0m \u001b[38;5;124;03m\"\"\"\u001b[39;00m\n\u001b[1;32m    240\u001b[0m \u001b[38;5;66;03m# apply compression and byte/text conversion\u001b[39;00m\n\u001b[0;32m--> 241\u001b[0m \u001b[38;5;28;01mwith\u001b[39;00m \u001b[43mget_handle\u001b[49m\u001b[43m(\u001b[49m\n\u001b[1;32m    242\u001b[0m \u001b[43m    \u001b[49m\u001b[38;5;28;43mself\u001b[39;49m\u001b[38;5;241;43m.\u001b[39;49m\u001b[43mfilepath_or_buffer\u001b[49m\u001b[43m,\u001b[49m\n\u001b[1;32m    243\u001b[0m \u001b[43m    \u001b[49m\u001b[38;5;28;43mself\u001b[39;49m\u001b[38;5;241;43m.\u001b[39;49m\u001b[43mmode\u001b[49m\u001b[43m,\u001b[49m\n\u001b[1;32m    244\u001b[0m \u001b[43m    \u001b[49m\u001b[43mencoding\u001b[49m\u001b[38;5;241;43m=\u001b[39;49m\u001b[38;5;28;43mself\u001b[39;49m\u001b[38;5;241;43m.\u001b[39;49m\u001b[43mencoding\u001b[49m\u001b[43m,\u001b[49m\n\u001b[1;32m    245\u001b[0m \u001b[43m    \u001b[49m\u001b[43merrors\u001b[49m\u001b[38;5;241;43m=\u001b[39;49m\u001b[38;5;28;43mself\u001b[39;49m\u001b[38;5;241;43m.\u001b[39;49m\u001b[43merrors\u001b[49m\u001b[43m,\u001b[49m\n\u001b[1;32m    246\u001b[0m \u001b[43m    \u001b[49m\u001b[43mcompression\u001b[49m\u001b[38;5;241;43m=\u001b[39;49m\u001b[38;5;28;43mself\u001b[39;49m\u001b[38;5;241;43m.\u001b[39;49m\u001b[43mcompression\u001b[49m\u001b[43m,\u001b[49m\n\u001b[1;32m    247\u001b[0m \u001b[43m    \u001b[49m\u001b[43mstorage_options\u001b[49m\u001b[38;5;241;43m=\u001b[39;49m\u001b[38;5;28;43mself\u001b[39;49m\u001b[38;5;241;43m.\u001b[39;49m\u001b[43mstorage_options\u001b[49m\u001b[43m,\u001b[49m\n\u001b[1;32m    248\u001b[0m \u001b[43m\u001b[49m\u001b[43m)\u001b[49m \u001b[38;5;28;01mas\u001b[39;00m handles:\n\u001b[1;32m    249\u001b[0m \n\u001b[1;32m    250\u001b[0m     \u001b[38;5;66;03m# Note: self.encoding is irrelevant here\u001b[39;00m\n\u001b[1;32m    251\u001b[0m     \u001b[38;5;28mself\u001b[39m\u001b[38;5;241m.\u001b[39mwriter \u001b[38;5;241m=\u001b[39m csvlib\u001b[38;5;241m.\u001b[39mwriter(\n\u001b[1;32m    252\u001b[0m         handles\u001b[38;5;241m.\u001b[39mhandle,\n\u001b[1;32m    253\u001b[0m         lineterminator\u001b[38;5;241m=\u001b[39m\u001b[38;5;28mself\u001b[39m\u001b[38;5;241m.\u001b[39mline_terminator,\n\u001b[0;32m   (...)\u001b[0m\n\u001b[1;32m    258\u001b[0m         quotechar\u001b[38;5;241m=\u001b[39m\u001b[38;5;28mself\u001b[39m\u001b[38;5;241m.\u001b[39mquotechar,\n\u001b[1;32m    259\u001b[0m     )\n\u001b[1;32m    261\u001b[0m     \u001b[38;5;28mself\u001b[39m\u001b[38;5;241m.\u001b[39m_save()\n",
      "File \u001b[0;32m~/Library/Python/3.8/lib/python/site-packages/pandas/io/common.py:697\u001b[0m, in \u001b[0;36mget_handle\u001b[0;34m(path_or_buf, mode, encoding, compression, memory_map, is_text, errors, storage_options)\u001b[0m\n\u001b[1;32m    695\u001b[0m \u001b[38;5;66;03m# Only for write methods\u001b[39;00m\n\u001b[1;32m    696\u001b[0m \u001b[38;5;28;01mif\u001b[39;00m \u001b[38;5;124m\"\u001b[39m\u001b[38;5;124mr\u001b[39m\u001b[38;5;124m\"\u001b[39m \u001b[38;5;129;01mnot\u001b[39;00m \u001b[38;5;129;01min\u001b[39;00m mode \u001b[38;5;129;01mand\u001b[39;00m is_path:\n\u001b[0;32m--> 697\u001b[0m     \u001b[43mcheck_parent_directory\u001b[49m\u001b[43m(\u001b[49m\u001b[38;5;28;43mstr\u001b[39;49m\u001b[43m(\u001b[49m\u001b[43mhandle\u001b[49m\u001b[43m)\u001b[49m\u001b[43m)\u001b[49m\n\u001b[1;32m    699\u001b[0m \u001b[38;5;28;01mif\u001b[39;00m compression:\n\u001b[1;32m    700\u001b[0m     \u001b[38;5;28;01mif\u001b[39;00m compression \u001b[38;5;241m!=\u001b[39m \u001b[38;5;124m\"\u001b[39m\u001b[38;5;124mzstd\u001b[39m\u001b[38;5;124m\"\u001b[39m:\n\u001b[1;32m    701\u001b[0m         \u001b[38;5;66;03m# compression libraries do not like an explicit text-mode\u001b[39;00m\n",
      "File \u001b[0;32m~/Library/Python/3.8/lib/python/site-packages/pandas/io/common.py:571\u001b[0m, in \u001b[0;36mcheck_parent_directory\u001b[0;34m(path)\u001b[0m\n\u001b[1;32m    569\u001b[0m parent \u001b[38;5;241m=\u001b[39m Path(path)\u001b[38;5;241m.\u001b[39mparent\n\u001b[1;32m    570\u001b[0m \u001b[38;5;28;01mif\u001b[39;00m \u001b[38;5;129;01mnot\u001b[39;00m parent\u001b[38;5;241m.\u001b[39mis_dir():\n\u001b[0;32m--> 571\u001b[0m     \u001b[38;5;28;01mraise\u001b[39;00m \u001b[38;5;167;01mOSError\u001b[39;00m(\u001b[38;5;124mfr\u001b[39m\u001b[38;5;124m\"\u001b[39m\u001b[38;5;124mCannot save file into a non-existent directory: \u001b[39m\u001b[38;5;124m'\u001b[39m\u001b[38;5;132;01m{\u001b[39;00mparent\u001b[38;5;132;01m}\u001b[39;00m\u001b[38;5;124m'\u001b[39m\u001b[38;5;124m\"\u001b[39m)\n",
      "\u001b[0;31mOSError\u001b[0m: Cannot save file into a non-existent directory: 'ProData'"
     ]
    }
   ],
   "source": [
    "#career_stats_final.to_csv('../../ProData/qb_career_stats_no_career_totals.csv')"
   ]
  },
  {
   "cell_type": "code",
   "execution_count": 69,
   "id": "dbcd5d27",
   "metadata": {},
   "outputs": [],
   "source": [
    "career_stats_final = pd.read_csv('../../ProData/qb_career_stats_no_career_totals.csv')"
   ]
  },
  {
   "cell_type": "markdown",
   "id": "f1d5ec1d",
   "metadata": {},
   "source": [
    "# Plot Age vs Feature"
   ]
  },
  {
   "cell_type": "code",
   "execution_count": 70,
   "id": "1d56c477",
   "metadata": {},
   "outputs": [],
   "source": [
    "top_50 = career_stats_final.sort_values('career_score', axis=0, ascending=False).head(50)"
   ]
  },
  {
   "cell_type": "code",
   "execution_count": 72,
   "id": "4e34c683",
   "metadata": {},
   "outputs": [
    {
     "data": {
      "text/html": [
       "<div>\n",
       "<style scoped>\n",
       "    .dataframe tbody tr th:only-of-type {\n",
       "        vertical-align: middle;\n",
       "    }\n",
       "\n",
       "    .dataframe tbody tr th {\n",
       "        vertical-align: top;\n",
       "    }\n",
       "\n",
       "    .dataframe thead th {\n",
       "        text-align: right;\n",
       "    }\n",
       "</style>\n",
       "<table border=\"1\" class=\"dataframe\">\n",
       "  <thead>\n",
       "    <tr style=\"text-align: right;\">\n",
       "      <th></th>\n",
       "      <th>player_id</th>\n",
       "      <th>career_score</th>\n",
       "      <th>season_count</th>\n",
       "    </tr>\n",
       "  </thead>\n",
       "  <tbody>\n",
       "    <tr>\n",
       "      <th>10</th>\n",
       "      <td>BradTo00</td>\n",
       "      <td>1.299568</td>\n",
       "      <td>20</td>\n",
       "    </tr>\n",
       "    <tr>\n",
       "      <th>11</th>\n",
       "      <td>BreeDr00</td>\n",
       "      <td>1.258259</td>\n",
       "      <td>20</td>\n",
       "    </tr>\n",
       "    <tr>\n",
       "      <th>144</th>\n",
       "      <td>RoetBe00</td>\n",
       "      <td>1.142879</td>\n",
       "      <td>18</td>\n",
       "    </tr>\n",
       "    <tr>\n",
       "      <th>95</th>\n",
       "      <td>MahoPa00</td>\n",
       "      <td>1.137151</td>\n",
       "      <td>5</td>\n",
       "    </tr>\n",
       "    <tr>\n",
       "      <th>149</th>\n",
       "      <td>RyanMa00</td>\n",
       "      <td>1.107806</td>\n",
       "      <td>14</td>\n",
       "    </tr>\n",
       "    <tr>\n",
       "      <th>186</th>\n",
       "      <td>WilsRu00</td>\n",
       "      <td>1.105767</td>\n",
       "      <td>10</td>\n",
       "    </tr>\n",
       "    <tr>\n",
       "      <th>143</th>\n",
       "      <td>RodgAa00</td>\n",
       "      <td>1.078353</td>\n",
       "      <td>17</td>\n",
       "    </tr>\n",
       "    <tr>\n",
       "      <th>162</th>\n",
       "      <td>StafMa00</td>\n",
       "      <td>1.062311</td>\n",
       "      <td>13</td>\n",
       "    </tr>\n",
       "    <tr>\n",
       "      <th>92</th>\n",
       "      <td>LuckAn00</td>\n",
       "      <td>1.048096</td>\n",
       "      <td>6</td>\n",
       "    </tr>\n",
       "    <tr>\n",
       "      <th>179</th>\n",
       "      <td>WatsDe00</td>\n",
       "      <td>0.997253</td>\n",
       "      <td>4</td>\n",
       "    </tr>\n",
       "    <tr>\n",
       "      <th>62</th>\n",
       "      <td>HerbJu00</td>\n",
       "      <td>0.978008</td>\n",
       "      <td>2</td>\n",
       "    </tr>\n",
       "    <tr>\n",
       "      <th>142</th>\n",
       "      <td>RivePh00</td>\n",
       "      <td>0.958377</td>\n",
       "      <td>17</td>\n",
       "    </tr>\n",
       "    <tr>\n",
       "      <th>135</th>\n",
       "      <td>PresDa01</td>\n",
       "      <td>0.939505</td>\n",
       "      <td>6</td>\n",
       "    </tr>\n",
       "    <tr>\n",
       "      <th>1</th>\n",
       "      <td>AlleJo02</td>\n",
       "      <td>0.935403</td>\n",
       "      <td>4</td>\n",
       "    </tr>\n",
       "    <tr>\n",
       "      <th>119</th>\n",
       "      <td>NewtCa00</td>\n",
       "      <td>0.909281</td>\n",
       "      <td>10</td>\n",
       "    </tr>\n",
       "    <tr>\n",
       "      <th>116</th>\n",
       "      <td>MurrKy00</td>\n",
       "      <td>0.893454</td>\n",
       "      <td>3</td>\n",
       "    </tr>\n",
       "    <tr>\n",
       "      <th>168</th>\n",
       "      <td>TannRy00</td>\n",
       "      <td>0.859064</td>\n",
       "      <td>9</td>\n",
       "    </tr>\n",
       "    <tr>\n",
       "      <th>127</th>\n",
       "      <td>PalmCa00</td>\n",
       "      <td>0.857208</td>\n",
       "      <td>14</td>\n",
       "    </tr>\n",
       "    <tr>\n",
       "      <th>68</th>\n",
       "      <td>JackLa00</td>\n",
       "      <td>0.844919</td>\n",
       "      <td>4</td>\n",
       "    </tr>\n",
       "    <tr>\n",
       "      <th>97</th>\n",
       "      <td>MannEl00</td>\n",
       "      <td>0.834439</td>\n",
       "      <td>16</td>\n",
       "    </tr>\n",
       "  </tbody>\n",
       "</table>\n",
       "</div>"
      ],
      "text/plain": [
       "    player_id  career_score  season_count\n",
       "10   BradTo00      1.299568            20\n",
       "11   BreeDr00      1.258259            20\n",
       "144  RoetBe00      1.142879            18\n",
       "95   MahoPa00      1.137151             5\n",
       "149  RyanMa00      1.107806            14\n",
       "186  WilsRu00      1.105767            10\n",
       "143  RodgAa00      1.078353            17\n",
       "162  StafMa00      1.062311            13\n",
       "92   LuckAn00      1.048096             6\n",
       "179  WatsDe00      0.997253             4\n",
       "62   HerbJu00      0.978008             2\n",
       "142  RivePh00      0.958377            17\n",
       "135  PresDa01      0.939505             6\n",
       "1    AlleJo02      0.935403             4\n",
       "119  NewtCa00      0.909281            10\n",
       "116  MurrKy00      0.893454             3\n",
       "168  TannRy00      0.859064             9\n",
       "127  PalmCa00      0.857208            14\n",
       "68   JackLa00      0.844919             4\n",
       "97   MannEl00      0.834439            16"
      ]
     },
     "execution_count": 72,
     "metadata": {},
     "output_type": "execute_result"
    }
   ],
   "source": [
    "top_50[['player_id', 'career_score', 'season_count']].head(20)"
   ]
  },
  {
   "cell_type": "code",
   "execution_count": null,
   "id": "707993bf",
   "metadata": {},
   "outputs": [],
   "source": []
  }
 ],
 "metadata": {
  "kernelspec": {
   "display_name": "Python 3 (ipykernel)",
   "language": "python",
   "name": "python3"
  },
  "language_info": {
   "codemirror_mode": {
    "name": "ipython",
    "version": 3
   },
   "file_extension": ".py",
   "mimetype": "text/x-python",
   "name": "python",
   "nbconvert_exporter": "python",
   "pygments_lexer": "ipython3",
   "version": "3.8.9"
  }
 },
 "nbformat": 4,
 "nbformat_minor": 5
}
