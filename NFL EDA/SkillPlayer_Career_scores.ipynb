{
 "cells": [
  {
   "cell_type": "code",
   "execution_count": 80,
   "id": "d18e66c3",
   "metadata": {},
   "outputs": [],
   "source": [
    "import pandas as pd\n",
    "import numpy as np\n",
    "import re\n",
    "from sklearn.decomposition import PCA"
   ]
  },
  {
   "cell_type": "code",
   "execution_count": 3,
   "id": "83cb1819",
   "metadata": {},
   "outputs": [],
   "source": [
    "skill_players = pd.read_csv('../../ProData/csvs/skill_player_stats.csv', header=0)"
   ]
  },
  {
   "cell_type": "code",
   "execution_count": 5,
   "id": "b2ac8ffb",
   "metadata": {},
   "outputs": [],
   "source": [
    "drop_columns = ['Unnamed: 0', 'team', 'av']"
   ]
  },
  {
   "cell_type": "code",
   "execution_count": 6,
   "id": "9ab54fec",
   "metadata": {
    "scrolled": true
   },
   "outputs": [],
   "source": [
    "skills_df = skill_players.drop(drop_columns, axis=1)"
   ]
  },
  {
   "cell_type": "code",
   "execution_count": 20,
   "id": "f7a6b714",
   "metadata": {},
   "outputs": [],
   "source": [
    "# Add column with value 1 so that when we group by player \n",
    "# and sum we get a count of the number of seasons\n",
    "skills_df['season_count'] = 1"
   ]
  },
  {
   "cell_type": "markdown",
   "id": "58963958",
   "metadata": {},
   "source": [
    "# Fill nulls and zeros"
   ]
  },
  {
   "cell_type": "markdown",
   "id": "fe10d004",
   "metadata": {},
   "source": [
    "## Fillna for each player with the player's average"
   ]
  },
  {
   "cell_type": "code",
   "execution_count": 8,
   "id": "a8b7eb55",
   "metadata": {},
   "outputs": [],
   "source": [
    "fillna_cols = ['snap_played_percentage', 'snaps_played', 'total_snaps']"
   ]
  },
  {
   "cell_type": "code",
   "execution_count": 9,
   "id": "48181a37",
   "metadata": {},
   "outputs": [],
   "source": [
    "def fill_with_player_averages(group):\n",
    "    group[fillna_cols] = group[fillna_cols].replace(0, group[fillna_cols].mean())\n",
    "    group[fillna_cols] = group[fillna_cols].fillna(group[fillna_cols].mean())\n",
    "    return group"
   ]
  },
  {
   "cell_type": "code",
   "execution_count": 10,
   "id": "d3133c54",
   "metadata": {},
   "outputs": [],
   "source": [
    "new = skills_df.groupby('player_id', as_index=False).apply(fill_with_player_averages)"
   ]
  },
  {
   "cell_type": "markdown",
   "id": "3a86c595",
   "metadata": {},
   "source": [
    "## Fill zeros and nulls with all average"
   ]
  },
  {
   "cell_type": "code",
   "execution_count": 11,
   "id": "9aac0560",
   "metadata": {},
   "outputs": [],
   "source": [
    "new[fillna_cols] = new[fillna_cols].fillna(new[fillna_cols].mean())"
   ]
  },
  {
   "cell_type": "code",
   "execution_count": 12,
   "id": "201805dc",
   "metadata": {},
   "outputs": [],
   "source": [
    "new[fillna_cols] = new[fillna_cols].replace(0, new[fillna_cols].mean())"
   ]
  },
  {
   "cell_type": "code",
   "execution_count": 13,
   "id": "1a4a80df",
   "metadata": {},
   "outputs": [],
   "source": [
    "new.dropna(inplace=True)"
   ]
  },
  {
   "cell_type": "code",
   "execution_count": 14,
   "id": "4067604f",
   "metadata": {},
   "outputs": [
    {
     "data": {
      "text/plain": [
       "6330"
      ]
     },
     "execution_count": 14,
     "metadata": {},
     "output_type": "execute_result"
    }
   ],
   "source": [
    "len(new)"
   ]
  },
  {
   "cell_type": "code",
   "execution_count": 15,
   "id": "7fbdb216",
   "metadata": {},
   "outputs": [
    {
     "data": {
      "text/plain": [
       "6330"
      ]
     },
     "execution_count": 15,
     "metadata": {},
     "output_type": "execute_result"
    }
   ],
   "source": [
    "len(skills_df)"
   ]
  },
  {
   "cell_type": "code",
   "execution_count": 134,
   "id": "90c72fcd",
   "metadata": {
    "scrolled": true
   },
   "outputs": [
    {
     "data": {
      "text/plain": [
       "Index(['age', 'g', 'gs', 'targets', 'rec', 'rec_yds', 'rec_yds_per_rec',\n",
       "       'rec_td', 'rec_first_down', 'rec_long', 'rec_per_g', 'rec_yds_per_g',\n",
       "       'catch_pct', 'rec_yds_per_tgt', 'rush_att', 'rush_yds', 'rush_td',\n",
       "       'rush_first_down', 'rush_long', 'rush_yds_per_att', 'rush_yds_per_g',\n",
       "       'rush_att_per_g', 'touches', 'yds_per_touch', 'yds_from_scrimmage',\n",
       "       'rush_receive_td', 'fumbles', 'player_id', 'position', 'snaps_played',\n",
       "       'total_snaps', 'snap_played_percentage', 'season_count'],\n",
       "      dtype='object')"
      ]
     },
     "execution_count": 134,
     "metadata": {},
     "output_type": "execute_result"
    }
   ],
   "source": [
    "new.columns"
   ]
  },
  {
   "cell_type": "markdown",
   "id": "4b646f83",
   "metadata": {},
   "source": [
    "## Map player_id to position"
   ]
  },
  {
   "cell_type": "code",
   "execution_count": 200,
   "id": "805d5baa",
   "metadata": {},
   "outputs": [],
   "source": [
    "player_to_position = new[['player_id', 'position']].drop_duplicates().set_index('player_id')"
   ]
  },
  {
   "cell_type": "markdown",
   "id": "81529b50",
   "metadata": {},
   "source": [
    "# Aggregate career statistics for each player"
   ]
  },
  {
   "cell_type": "code",
   "execution_count": 179,
   "id": "ae9cf842",
   "metadata": {},
   "outputs": [],
   "source": [
    "career_stats = new.groupby('player_id').sum()"
   ]
  },
  {
   "cell_type": "code",
   "execution_count": 181,
   "id": "1b0638bf",
   "metadata": {},
   "outputs": [],
   "source": [
    "fields_to_divide_by_season = [\n",
    "    'rec_yds_per_rec', 'catch_pct', 'rec_yds_per_tgt',\n",
    "    'rush_yds_per_att', 'rush_att_per_g', 'yds_per_touch'\n",
    "]\n",
    "\n",
    "fields_to_divide_by_season.extend([col for col in career_stats.columns if col.endswith('per_g')])"
   ]
  },
  {
   "cell_type": "code",
   "execution_count": 182,
   "id": "533c059e",
   "metadata": {},
   "outputs": [],
   "source": [
    "for field in fields_to_divide_by_season:\n",
    "    career_stats[field] = career_stats[field] / career_stats.season_count"
   ]
  },
  {
   "cell_type": "code",
   "execution_count": 183,
   "id": "787f7924",
   "metadata": {},
   "outputs": [],
   "source": [
    "per_game_avg_fields = [\n",
    "    ('targets_per_g', 'targets'),\n",
    "    ('touches_per_g', 'touches'),\n",
    "    ('yds_from_scrimmage_per_g', 'yds_from_scrimmage'),\n",
    "    ('rush_receive_td_per_g', 'rush_receive_td'),\n",
    "    ('rec_td_per_g', 'rec_td'),\n",
    "    ('rush_first_down_per_g', 'rush_first_down'),\n",
    "    ('fumbles_per_g', 'fumbles'),\n",
    "    ('rush_td_per_g', 'rush_td'),\n",
    "    ('rec_first_down_per_g', 'rec_first_down'),\n",
    "]"
   ]
  },
  {
   "cell_type": "code",
   "execution_count": 184,
   "id": "c6433693",
   "metadata": {},
   "outputs": [],
   "source": [
    "for (new_field, metric) in per_game_avg_fields:\n",
    "    career_stats[new_field] = career_stats[metric] / career_stats.g"
   ]
  },
  {
   "cell_type": "code",
   "execution_count": 186,
   "id": "d990957f",
   "metadata": {},
   "outputs": [],
   "source": [
    "career_stats['snap_percentage'] = career_stats.snaps_played / career_stats.total_snaps"
   ]
  },
  {
   "cell_type": "code",
   "execution_count": 187,
   "id": "c7370e31",
   "metadata": {},
   "outputs": [],
   "source": [
    "per_game_fields = [col for col in career_stats.columns if col.endswith('per_g')]\n",
    "not_per_game_fields = [col for col in career_stats.columns if not col.endswith('per_g')]\n",
    "\n",
    "fields_to_remove = []\n",
    "\n",
    "for field in not_per_game_fields:\n",
    "    for field_2 in per_game_fields:\n",
    "        base_field = re.match('.*(?=_per_g)', field_2)\n",
    "        if base_field[0] == field:\n",
    "            fields_to_remove.append(field)\n",
    "            continue\n",
    "\n",
    "fields_to_remove.extend([\n",
    "    'age', 'rec_long', 'rush_long', 'total_snaps', \n",
    "    'snap_played_percentage','g', 'gs', 'snaps_played'\n",
    "])"
   ]
  },
  {
   "cell_type": "code",
   "execution_count": 188,
   "id": "f0db7483",
   "metadata": {},
   "outputs": [],
   "source": [
    "career_stats = career_stats.drop(fields_to_remove, axis=1)"
   ]
  },
  {
   "cell_type": "code",
   "execution_count": 189,
   "id": "a70485ab",
   "metadata": {},
   "outputs": [
    {
     "data": {
      "text/html": [
       "<div>\n",
       "<style scoped>\n",
       "    .dataframe tbody tr th:only-of-type {\n",
       "        vertical-align: middle;\n",
       "    }\n",
       "\n",
       "    .dataframe tbody tr th {\n",
       "        vertical-align: top;\n",
       "    }\n",
       "\n",
       "    .dataframe thead th {\n",
       "        text-align: right;\n",
       "    }\n",
       "</style>\n",
       "<table border=\"1\" class=\"dataframe\">\n",
       "  <thead>\n",
       "    <tr style=\"text-align: right;\">\n",
       "      <th></th>\n",
       "      <th>rec_yds_per_rec</th>\n",
       "      <th>rec_per_g</th>\n",
       "      <th>rec_yds_per_g</th>\n",
       "      <th>catch_pct</th>\n",
       "      <th>rec_yds_per_tgt</th>\n",
       "      <th>rush_yds_per_att</th>\n",
       "      <th>rush_yds_per_g</th>\n",
       "      <th>rush_att_per_g</th>\n",
       "      <th>yds_per_touch</th>\n",
       "      <th>season_count</th>\n",
       "      <th>targets_per_g</th>\n",
       "      <th>touches_per_g</th>\n",
       "      <th>yds_from_scrimmage_per_g</th>\n",
       "      <th>rush_receive_td_per_g</th>\n",
       "      <th>rec_td_per_g</th>\n",
       "      <th>rush_first_down_per_g</th>\n",
       "      <th>fumbles_per_g</th>\n",
       "      <th>rush_td_per_g</th>\n",
       "      <th>rec_first_down_per_g</th>\n",
       "      <th>snap_percentage</th>\n",
       "    </tr>\n",
       "    <tr>\n",
       "      <th>player_id</th>\n",
       "      <th></th>\n",
       "      <th></th>\n",
       "      <th></th>\n",
       "      <th></th>\n",
       "      <th></th>\n",
       "      <th></th>\n",
       "      <th></th>\n",
       "      <th></th>\n",
       "      <th></th>\n",
       "      <th></th>\n",
       "      <th></th>\n",
       "      <th></th>\n",
       "      <th></th>\n",
       "      <th></th>\n",
       "      <th></th>\n",
       "      <th></th>\n",
       "      <th></th>\n",
       "      <th></th>\n",
       "      <th></th>\n",
       "      <th></th>\n",
       "    </tr>\n",
       "  </thead>\n",
       "  <tbody>\n",
       "    <tr>\n",
       "      <th>AdamDa01</th>\n",
       "      <td>12.0875</td>\n",
       "      <td>5.75</td>\n",
       "      <td>70.3125</td>\n",
       "      <td>63.875</td>\n",
       "      <td>7.75</td>\n",
       "      <td>0.0</td>\n",
       "      <td>0.0</td>\n",
       "      <td>0.0</td>\n",
       "      <td>12.0875</td>\n",
       "      <td>8</td>\n",
       "      <td>8.611111</td>\n",
       "      <td>5.592593</td>\n",
       "      <td>68.092593</td>\n",
       "      <td>0.601852</td>\n",
       "      <td>0.601852</td>\n",
       "      <td>0.0</td>\n",
       "      <td>0.046296</td>\n",
       "      <td>0.0</td>\n",
       "      <td>3.37963</td>\n",
       "      <td>0.832297</td>\n",
       "    </tr>\n",
       "  </tbody>\n",
       "</table>\n",
       "</div>"
      ],
      "text/plain": [
       "           rec_yds_per_rec  rec_per_g  rec_yds_per_g  catch_pct  \\\n",
       "player_id                                                         \n",
       "AdamDa01           12.0875       5.75        70.3125     63.875   \n",
       "\n",
       "           rec_yds_per_tgt  rush_yds_per_att  rush_yds_per_g  rush_att_per_g  \\\n",
       "player_id                                                                      \n",
       "AdamDa01              7.75               0.0             0.0             0.0   \n",
       "\n",
       "           yds_per_touch  season_count  targets_per_g  touches_per_g  \\\n",
       "player_id                                                              \n",
       "AdamDa01         12.0875             8       8.611111       5.592593   \n",
       "\n",
       "           yds_from_scrimmage_per_g  rush_receive_td_per_g  rec_td_per_g  \\\n",
       "player_id                                                                  \n",
       "AdamDa01                  68.092593               0.601852      0.601852   \n",
       "\n",
       "           rush_first_down_per_g  fumbles_per_g  rush_td_per_g  \\\n",
       "player_id                                                        \n",
       "AdamDa01                     0.0       0.046296            0.0   \n",
       "\n",
       "           rec_first_down_per_g  snap_percentage  \n",
       "player_id                                         \n",
       "AdamDa01                3.37963         0.832297  "
      ]
     },
     "execution_count": 189,
     "metadata": {},
     "output_type": "execute_result"
    }
   ],
   "source": [
    "career_stats.query('player_id == \"AdamDa01\"')"
   ]
  },
  {
   "cell_type": "markdown",
   "id": "77972ed3",
   "metadata": {},
   "source": [
    "# Add player Position back to data"
   ]
  },
  {
   "cell_type": "code",
   "execution_count": 190,
   "id": "49458f8a",
   "metadata": {},
   "outputs": [],
   "source": [
    "career_stats= career_stats.join(player_to_position)"
   ]
  },
  {
   "cell_type": "markdown",
   "id": "4c498aec",
   "metadata": {},
   "source": [
    "# Remove unecessary fields"
   ]
  },
  {
   "cell_type": "code",
   "execution_count": 201,
   "id": "e1dafdd8",
   "metadata": {
    "scrolled": true
   },
   "outputs": [],
   "source": [
    "player_to_seasons_played = career_stats['season_count']"
   ]
  },
  {
   "cell_type": "code",
   "execution_count": 58,
   "id": "9d9898e6",
   "metadata": {},
   "outputs": [],
   "source": []
  },
  {
   "cell_type": "markdown",
   "id": "0e81087b",
   "metadata": {},
   "source": [
    "## Groupby position and standardize fields"
   ]
  },
  {
   "cell_type": "code",
   "execution_count": 196,
   "id": "a0b93a79",
   "metadata": {},
   "outputs": [],
   "source": [
    "career_groups = career_stats.groupby('position')"
   ]
  },
  {
   "cell_type": "code",
   "execution_count": 197,
   "id": "776354c5",
   "metadata": {},
   "outputs": [],
   "source": [
    "position_group_std_data = {}\n",
    "\n",
    "for group_name, group_dataframe in career_groups:\n",
    "    group_dataframe.drop('position', axis=1, inplace=True)\n",
    "    data = group_dataframe.apply(lambda x: (x - x.min()) / (x.max() - x.min()))\n",
    "    data['fumbles_per_g'] = data['fumbles_per_g'] * -1\n",
    "    \n",
    "    position_group_std_data[group_name] = data"
   ]
  },
  {
   "cell_type": "code",
   "execution_count": 198,
   "id": "64193620",
   "metadata": {
    "scrolled": true
   },
   "outputs": [
    {
     "data": {
      "text/plain": [
       "20"
      ]
     },
     "execution_count": 198,
     "metadata": {},
     "output_type": "execute_result"
    }
   ],
   "source": [
    "len(position_group_std_data['WR'].columns)"
   ]
  },
  {
   "cell_type": "markdown",
   "id": "6de59e01",
   "metadata": {},
   "source": [
    "# Perform PCA on each group"
   ]
  },
  {
   "cell_type": "code",
   "execution_count": 202,
   "id": "386ff4fa",
   "metadata": {},
   "outputs": [],
   "source": [
    "def perform_position_pca(position_df):\n",
    "    pca = PCA(n_components=1)\n",
    "    pca_analysis = pd.DataFrame(\n",
    "    pca.fit_transform(position_df), \n",
    "    columns=['PCA%i' % i for i in range(1)], \n",
    "    index=position_df.index)\n",
    "    \n",
    "    career_stats_final = pd.merge(player_to_seasons_played, pca_analysis, left_index=True, right_index=True)\n",
    "    career_stats_final['career_score'] = career_stats_final.PCA0\n",
    "    career_stats_final.drop('PCA0', axis=1, inplace=True)\n",
    "    \n",
    "#     career_stats_final.to_csv(f'../../ProData/{}_career_stats_no_career_totals.csv')\n",
    "    return career_stats_final.sort_values('career_score', axis=0, ascending=False)"
   ]
  },
  {
   "cell_type": "code",
   "execution_count": 207,
   "id": "4da39b9a",
   "metadata": {},
   "outputs": [],
   "source": [
    "for pos, df in position_group_std_data.items():\n",
    "    pca_df = perform_position_pca(df)\n",
    "    pca_df.to_csv(f'../../ProData/{pos}_career_stats_scored.csv')"
   ]
  },
  {
   "cell_type": "markdown",
   "id": "55759bad",
   "metadata": {},
   "source": [
    "# Aggregate performance metric with career stats"
   ]
  },
  {
   "cell_type": "code",
   "execution_count": 208,
   "id": "775cd6b3",
   "metadata": {
    "scrolled": true
   },
   "outputs": [],
   "source": [
    "rb_scored = pd.read_csv('../../ProData/RB_career_stats_scored.csv')\n",
    "wr_scored = pd.read_csv('../../ProData/WR_career_stats_scored.csv')\n",
    "te_scored = pd.read_csv('../../ProData/TE_career_stats_scored.csv')"
   ]
  },
  {
   "cell_type": "markdown",
   "id": "f1d5ec1d",
   "metadata": {},
   "source": [
    "# Plot Age vs Feature"
   ]
  },
  {
   "cell_type": "code",
   "execution_count": 212,
   "id": "1d56c477",
   "metadata": {},
   "outputs": [
    {
     "data": {
      "text/html": [
       "<div>\n",
       "<style scoped>\n",
       "    .dataframe tbody tr th:only-of-type {\n",
       "        vertical-align: middle;\n",
       "    }\n",
       "\n",
       "    .dataframe tbody tr th {\n",
       "        vertical-align: top;\n",
       "    }\n",
       "\n",
       "    .dataframe thead th {\n",
       "        text-align: right;\n",
       "    }\n",
       "</style>\n",
       "<table border=\"1\" class=\"dataframe\">\n",
       "  <thead>\n",
       "    <tr style=\"text-align: right;\">\n",
       "      <th></th>\n",
       "      <th>player_id</th>\n",
       "      <th>season_count</th>\n",
       "      <th>career_score</th>\n",
       "    </tr>\n",
       "  </thead>\n",
       "  <tbody>\n",
       "    <tr>\n",
       "      <th>53</th>\n",
       "      <td>BrowAn04</td>\n",
       "      <td>12</td>\n",
       "      <td>1.754575</td>\n",
       "    </tr>\n",
       "    <tr>\n",
       "      <th>285</th>\n",
       "      <td>JoneJu02</td>\n",
       "      <td>11</td>\n",
       "      <td>1.735662</td>\n",
       "    </tr>\n",
       "    <tr>\n",
       "      <th>269</th>\n",
       "      <td>JohnCa00</td>\n",
       "      <td>9</td>\n",
       "      <td>1.716101</td>\n",
       "    </tr>\n",
       "    <tr>\n",
       "      <th>509</th>\n",
       "      <td>ThomMi05</td>\n",
       "      <td>5</td>\n",
       "      <td>1.650334</td>\n",
       "    </tr>\n",
       "    <tr>\n",
       "      <th>29</th>\n",
       "      <td>BeckOd00</td>\n",
       "      <td>8</td>\n",
       "      <td>1.609603</td>\n",
       "    </tr>\n",
       "    <tr>\n",
       "      <th>239</th>\n",
       "      <td>HopkDe00</td>\n",
       "      <td>9</td>\n",
       "      <td>1.590440</td>\n",
       "    </tr>\n",
       "    <tr>\n",
       "      <th>86</th>\n",
       "      <td>ChasJa00</td>\n",
       "      <td>1</td>\n",
       "      <td>1.536993</td>\n",
       "    </tr>\n",
       "    <tr>\n",
       "      <th>233</th>\n",
       "      <td>HillTy00</td>\n",
       "      <td>6</td>\n",
       "      <td>1.529592</td>\n",
       "    </tr>\n",
       "    <tr>\n",
       "      <th>7</th>\n",
       "      <td>AlleKe00</td>\n",
       "      <td>9</td>\n",
       "      <td>1.528250</td>\n",
       "    </tr>\n",
       "    <tr>\n",
       "      <th>155</th>\n",
       "      <td>EvanMi00</td>\n",
       "      <td>8</td>\n",
       "      <td>1.506239</td>\n",
       "    </tr>\n",
       "    <tr>\n",
       "      <th>159</th>\n",
       "      <td>FitzLa00</td>\n",
       "      <td>17</td>\n",
       "      <td>1.448150</td>\n",
       "    </tr>\n",
       "    <tr>\n",
       "      <th>1</th>\n",
       "      <td>AdamDa01</td>\n",
       "      <td>8</td>\n",
       "      <td>1.446112</td>\n",
       "    </tr>\n",
       "    <tr>\n",
       "      <th>319</th>\n",
       "      <td>MarsBr00</td>\n",
       "      <td>13</td>\n",
       "      <td>1.415411</td>\n",
       "    </tr>\n",
       "    <tr>\n",
       "      <th>195</th>\n",
       "      <td>GreeA.00</td>\n",
       "      <td>10</td>\n",
       "      <td>1.405837</td>\n",
       "    </tr>\n",
       "    <tr>\n",
       "      <th>266</th>\n",
       "      <td>JohnAn02</td>\n",
       "      <td>14</td>\n",
       "      <td>1.397292</td>\n",
       "    </tr>\n",
       "    <tr>\n",
       "      <th>39</th>\n",
       "      <td>BoldAn00</td>\n",
       "      <td>14</td>\n",
       "      <td>1.387949</td>\n",
       "    </tr>\n",
       "    <tr>\n",
       "      <th>300</th>\n",
       "      <td>KuppCo00</td>\n",
       "      <td>5</td>\n",
       "      <td>1.373034</td>\n",
       "    </tr>\n",
       "    <tr>\n",
       "      <th>257</th>\n",
       "      <td>JeffJu00</td>\n",
       "      <td>2</td>\n",
       "      <td>1.368104</td>\n",
       "    </tr>\n",
       "    <tr>\n",
       "      <th>537</th>\n",
       "      <td>WaynRe00</td>\n",
       "      <td>14</td>\n",
       "      <td>1.318359</td>\n",
       "    </tr>\n",
       "    <tr>\n",
       "      <th>132</th>\n",
       "      <td>DiggSt00</td>\n",
       "      <td>7</td>\n",
       "      <td>1.311580</td>\n",
       "    </tr>\n",
       "  </tbody>\n",
       "</table>\n",
       "</div>"
      ],
      "text/plain": [
       "    player_id  season_count  career_score\n",
       "53   BrowAn04            12      1.754575\n",
       "285  JoneJu02            11      1.735662\n",
       "269  JohnCa00             9      1.716101\n",
       "509  ThomMi05             5      1.650334\n",
       "29   BeckOd00             8      1.609603\n",
       "239  HopkDe00             9      1.590440\n",
       "86   ChasJa00             1      1.536993\n",
       "233  HillTy00             6      1.529592\n",
       "7    AlleKe00             9      1.528250\n",
       "155  EvanMi00             8      1.506239\n",
       "159  FitzLa00            17      1.448150\n",
       "1    AdamDa01             8      1.446112\n",
       "319  MarsBr00            13      1.415411\n",
       "195  GreeA.00            10      1.405837\n",
       "266  JohnAn02            14      1.397292\n",
       "39   BoldAn00            14      1.387949\n",
       "300  KuppCo00             5      1.373034\n",
       "257  JeffJu00             2      1.368104\n",
       "537  WaynRe00            14      1.318359\n",
       "132  DiggSt00             7      1.311580"
      ]
     },
     "execution_count": 212,
     "metadata": {},
     "output_type": "execute_result"
    }
   ],
   "source": [
    "top_50_wr = wr_scored.sort_values('career_score', axis=0, ascending=False).head(50)\n",
    "top_50_wr.head(20)"
   ]
  },
  {
   "cell_type": "code",
   "execution_count": 215,
   "id": "4e34c683",
   "metadata": {},
   "outputs": [
    {
     "data": {
      "text/html": [
       "<div>\n",
       "<style scoped>\n",
       "    .dataframe tbody tr th:only-of-type {\n",
       "        vertical-align: middle;\n",
       "    }\n",
       "\n",
       "    .dataframe tbody tr th {\n",
       "        vertical-align: top;\n",
       "    }\n",
       "\n",
       "    .dataframe thead th {\n",
       "        text-align: right;\n",
       "    }\n",
       "</style>\n",
       "<table border=\"1\" class=\"dataframe\">\n",
       "  <thead>\n",
       "    <tr style=\"text-align: right;\">\n",
       "      <th></th>\n",
       "      <th>player_id</th>\n",
       "      <th>season_count</th>\n",
       "      <th>career_score</th>\n",
       "    </tr>\n",
       "  </thead>\n",
       "  <tbody>\n",
       "    <tr>\n",
       "      <th>231</th>\n",
       "      <td>McCaCh01</td>\n",
       "      <td>5</td>\n",
       "      <td>1.854627</td>\n",
       "    </tr>\n",
       "    <tr>\n",
       "      <th>95</th>\n",
       "      <td>ElliEz00</td>\n",
       "      <td>6</td>\n",
       "      <td>1.770068</td>\n",
       "    </tr>\n",
       "    <tr>\n",
       "      <th>351</th>\n",
       "      <td>TomlLa00</td>\n",
       "      <td>11</td>\n",
       "      <td>1.767135</td>\n",
       "    </tr>\n",
       "    <tr>\n",
       "      <th>204</th>\n",
       "      <td>KamaAl00</td>\n",
       "      <td>5</td>\n",
       "      <td>1.718884</td>\n",
       "    </tr>\n",
       "    <tr>\n",
       "      <th>68</th>\n",
       "      <td>CookDa01</td>\n",
       "      <td>5</td>\n",
       "      <td>1.670815</td>\n",
       "    </tr>\n",
       "    <tr>\n",
       "      <th>140</th>\n",
       "      <td>HarrNa00</td>\n",
       "      <td>1</td>\n",
       "      <td>1.653554</td>\n",
       "    </tr>\n",
       "    <tr>\n",
       "      <th>76</th>\n",
       "      <td>DaviDo01</td>\n",
       "      <td>3</td>\n",
       "      <td>1.625565</td>\n",
       "    </tr>\n",
       "    <tr>\n",
       "      <th>342</th>\n",
       "      <td>TaylJo02</td>\n",
       "      <td>2</td>\n",
       "      <td>1.599314</td>\n",
       "    </tr>\n",
       "    <tr>\n",
       "      <th>135</th>\n",
       "      <td>GurlTo01</td>\n",
       "      <td>6</td>\n",
       "      <td>1.475000</td>\n",
       "    </tr>\n",
       "    <tr>\n",
       "      <th>287</th>\n",
       "      <td>PortCl00</td>\n",
       "      <td>9</td>\n",
       "      <td>1.449085</td>\n",
       "    </tr>\n",
       "    <tr>\n",
       "      <th>21</th>\n",
       "      <td>BellLe00</td>\n",
       "      <td>9</td>\n",
       "      <td>1.377867</td>\n",
       "    </tr>\n",
       "    <tr>\n",
       "      <th>16</th>\n",
       "      <td>BarkSa00</td>\n",
       "      <td>4</td>\n",
       "      <td>1.362188</td>\n",
       "    </tr>\n",
       "    <tr>\n",
       "      <th>4</th>\n",
       "      <td>AlexSh00</td>\n",
       "      <td>9</td>\n",
       "      <td>1.361225</td>\n",
       "    </tr>\n",
       "    <tr>\n",
       "      <th>108</th>\n",
       "      <td>FortMa00</td>\n",
       "      <td>10</td>\n",
       "      <td>1.325702</td>\n",
       "    </tr>\n",
       "    <tr>\n",
       "      <th>125</th>\n",
       "      <td>GordMe00</td>\n",
       "      <td>7</td>\n",
       "      <td>1.267298</td>\n",
       "    </tr>\n",
       "    <tr>\n",
       "      <th>262</th>\n",
       "      <td>MurrDe00</td>\n",
       "      <td>7</td>\n",
       "      <td>1.265086</td>\n",
       "    </tr>\n",
       "    <tr>\n",
       "      <th>167</th>\n",
       "      <td>HuntKa00</td>\n",
       "      <td>5</td>\n",
       "      <td>1.263550</td>\n",
       "    </tr>\n",
       "    <tr>\n",
       "      <th>282</th>\n",
       "      <td>PeteAd01</td>\n",
       "      <td>16</td>\n",
       "      <td>1.238552</td>\n",
       "    </tr>\n",
       "    <tr>\n",
       "      <th>294</th>\n",
       "      <td>RiceRa00</td>\n",
       "      <td>6</td>\n",
       "      <td>1.227390</td>\n",
       "    </tr>\n",
       "    <tr>\n",
       "      <th>59</th>\n",
       "      <td>ChubNi00</td>\n",
       "      <td>4</td>\n",
       "      <td>1.200815</td>\n",
       "    </tr>\n",
       "    <tr>\n",
       "      <th>87</th>\n",
       "      <td>DrewMa00</td>\n",
       "      <td>9</td>\n",
       "      <td>1.178685</td>\n",
       "    </tr>\n",
       "    <tr>\n",
       "      <th>52</th>\n",
       "      <td>CarsCh00</td>\n",
       "      <td>5</td>\n",
       "      <td>1.172309</td>\n",
       "    </tr>\n",
       "    <tr>\n",
       "      <th>176</th>\n",
       "      <td>JackSt00</td>\n",
       "      <td>12</td>\n",
       "      <td>1.172107</td>\n",
       "    </tr>\n",
       "    <tr>\n",
       "      <th>148</th>\n",
       "      <td>HenrDe00</td>\n",
       "      <td>6</td>\n",
       "      <td>1.171668</td>\n",
       "    </tr>\n",
       "    <tr>\n",
       "      <th>183</th>\n",
       "      <td>JohnDa08</td>\n",
       "      <td>7</td>\n",
       "      <td>1.162701</td>\n",
       "    </tr>\n",
       "    <tr>\n",
       "      <th>338</th>\n",
       "      <td>SwifDA00</td>\n",
       "      <td>2</td>\n",
       "      <td>1.154129</td>\n",
       "    </tr>\n",
       "    <tr>\n",
       "      <th>216</th>\n",
       "      <td>LewiJa00</td>\n",
       "      <td>9</td>\n",
       "      <td>1.147134</td>\n",
       "    </tr>\n",
       "    <tr>\n",
       "      <th>233</th>\n",
       "      <td>McCoLe01</td>\n",
       "      <td>12</td>\n",
       "      <td>1.141812</td>\n",
       "    </tr>\n",
       "    <tr>\n",
       "      <th>193</th>\n",
       "      <td>JoneAa00</td>\n",
       "      <td>5</td>\n",
       "      <td>1.140362</td>\n",
       "    </tr>\n",
       "    <tr>\n",
       "      <th>178</th>\n",
       "      <td>JacoJo01</td>\n",
       "      <td>3</td>\n",
       "      <td>1.138252</td>\n",
       "    </tr>\n",
       "    <tr>\n",
       "      <th>366</th>\n",
       "      <td>WestBr00</td>\n",
       "      <td>9</td>\n",
       "      <td>1.123840</td>\n",
       "    </tr>\n",
       "    <tr>\n",
       "      <th>249</th>\n",
       "      <td>MixoJo00</td>\n",
       "      <td>5</td>\n",
       "      <td>1.097893</td>\n",
       "    </tr>\n",
       "    <tr>\n",
       "      <th>219</th>\n",
       "      <td>LyncMa00</td>\n",
       "      <td>13</td>\n",
       "      <td>1.066337</td>\n",
       "    </tr>\n",
       "    <tr>\n",
       "      <th>110</th>\n",
       "      <td>FourLe00</td>\n",
       "      <td>5</td>\n",
       "      <td>1.061798</td>\n",
       "    </tr>\n",
       "    <tr>\n",
       "      <th>57</th>\n",
       "      <td>CharJa00</td>\n",
       "      <td>11</td>\n",
       "      <td>1.035987</td>\n",
       "    </tr>\n",
       "    <tr>\n",
       "      <th>251</th>\n",
       "      <td>MontDa01</td>\n",
       "      <td>3</td>\n",
       "      <td>1.025696</td>\n",
       "    </tr>\n",
       "    <tr>\n",
       "      <th>182</th>\n",
       "      <td>JohnCh04</td>\n",
       "      <td>10</td>\n",
       "      <td>1.012798</td>\n",
       "    </tr>\n",
       "    <tr>\n",
       "      <th>120</th>\n",
       "      <td>GibsAn00</td>\n",
       "      <td>2</td>\n",
       "      <td>0.999808</td>\n",
       "    </tr>\n",
       "    <tr>\n",
       "      <th>188</th>\n",
       "      <td>JohnLa00</td>\n",
       "      <td>10</td>\n",
       "      <td>0.997887</td>\n",
       "    </tr>\n",
       "    <tr>\n",
       "      <th>230</th>\n",
       "      <td>McAlDe00</td>\n",
       "      <td>8</td>\n",
       "      <td>0.997454</td>\n",
       "    </tr>\n",
       "  </tbody>\n",
       "</table>\n",
       "</div>"
      ],
      "text/plain": [
       "    player_id  season_count  career_score\n",
       "231  McCaCh01             5      1.854627\n",
       "95   ElliEz00             6      1.770068\n",
       "351  TomlLa00            11      1.767135\n",
       "204  KamaAl00             5      1.718884\n",
       "68   CookDa01             5      1.670815\n",
       "140  HarrNa00             1      1.653554\n",
       "76   DaviDo01             3      1.625565\n",
       "342  TaylJo02             2      1.599314\n",
       "135  GurlTo01             6      1.475000\n",
       "287  PortCl00             9      1.449085\n",
       "21   BellLe00             9      1.377867\n",
       "16   BarkSa00             4      1.362188\n",
       "4    AlexSh00             9      1.361225\n",
       "108  FortMa00            10      1.325702\n",
       "125  GordMe00             7      1.267298\n",
       "262  MurrDe00             7      1.265086\n",
       "167  HuntKa00             5      1.263550\n",
       "282  PeteAd01            16      1.238552\n",
       "294  RiceRa00             6      1.227390\n",
       "59   ChubNi00             4      1.200815\n",
       "87   DrewMa00             9      1.178685\n",
       "52   CarsCh00             5      1.172309\n",
       "176  JackSt00            12      1.172107\n",
       "148  HenrDe00             6      1.171668\n",
       "183  JohnDa08             7      1.162701\n",
       "338  SwifDA00             2      1.154129\n",
       "216  LewiJa00             9      1.147134\n",
       "233  McCoLe01            12      1.141812\n",
       "193  JoneAa00             5      1.140362\n",
       "178  JacoJo01             3      1.138252\n",
       "366  WestBr00             9      1.123840\n",
       "249  MixoJo00             5      1.097893\n",
       "219  LyncMa00            13      1.066337\n",
       "110  FourLe00             5      1.061798\n",
       "57   CharJa00            11      1.035987\n",
       "251  MontDa01             3      1.025696\n",
       "182  JohnCh04            10      1.012798\n",
       "120  GibsAn00             2      0.999808\n",
       "188  JohnLa00            10      0.997887\n",
       "230  McAlDe00             8      0.997454"
      ]
     },
     "execution_count": 215,
     "metadata": {},
     "output_type": "execute_result"
    }
   ],
   "source": [
    "top_50_rb = rb_scored.sort_values('career_score', axis=0, ascending=False).head(50)\n",
    "top_50_rb.head(40)"
   ]
  },
  {
   "cell_type": "code",
   "execution_count": 214,
   "id": "707993bf",
   "metadata": {},
   "outputs": [
    {
     "data": {
      "text/html": [
       "<div>\n",
       "<style scoped>\n",
       "    .dataframe tbody tr th:only-of-type {\n",
       "        vertical-align: middle;\n",
       "    }\n",
       "\n",
       "    .dataframe tbody tr th {\n",
       "        vertical-align: top;\n",
       "    }\n",
       "\n",
       "    .dataframe thead th {\n",
       "        text-align: right;\n",
       "    }\n",
       "</style>\n",
       "<table border=\"1\" class=\"dataframe\">\n",
       "  <thead>\n",
       "    <tr style=\"text-align: right;\">\n",
       "      <th></th>\n",
       "      <th>player_id</th>\n",
       "      <th>season_count</th>\n",
       "      <th>career_score</th>\n",
       "    </tr>\n",
       "  </thead>\n",
       "  <tbody>\n",
       "    <tr>\n",
       "      <th>124</th>\n",
       "      <td>KelcTr00</td>\n",
       "      <td>9</td>\n",
       "      <td>1.989751</td>\n",
       "    </tr>\n",
       "    <tr>\n",
       "      <th>93</th>\n",
       "      <td>GronRo00</td>\n",
       "      <td>11</td>\n",
       "      <td>1.983560</td>\n",
       "    </tr>\n",
       "    <tr>\n",
       "      <th>129</th>\n",
       "      <td>KittGe00</td>\n",
       "      <td>5</td>\n",
       "      <td>1.732385</td>\n",
       "    </tr>\n",
       "    <tr>\n",
       "      <th>102</th>\n",
       "      <td>HernAa00</td>\n",
       "      <td>3</td>\n",
       "      <td>1.578132</td>\n",
       "    </tr>\n",
       "    <tr>\n",
       "      <th>179</th>\n",
       "      <td>PittKy00</td>\n",
       "      <td>1</td>\n",
       "      <td>1.487152</td>\n",
       "    </tr>\n",
       "    <tr>\n",
       "      <th>85</th>\n",
       "      <td>GrahJi00</td>\n",
       "      <td>12</td>\n",
       "      <td>1.432702</td>\n",
       "    </tr>\n",
       "    <tr>\n",
       "      <th>186</th>\n",
       "      <td>ReedJo02</td>\n",
       "      <td>7</td>\n",
       "      <td>1.429264</td>\n",
       "    </tr>\n",
       "    <tr>\n",
       "      <th>5</th>\n",
       "      <td>AndrMa00</td>\n",
       "      <td>4</td>\n",
       "      <td>1.426805</td>\n",
       "    </tr>\n",
       "    <tr>\n",
       "      <th>57</th>\n",
       "      <td>ErtzZa00</td>\n",
       "      <td>10</td>\n",
       "      <td>1.413148</td>\n",
       "    </tr>\n",
       "    <tr>\n",
       "      <th>263</th>\n",
       "      <td>WittJa00</td>\n",
       "      <td>17</td>\n",
       "      <td>1.412564</td>\n",
       "    </tr>\n",
       "    <tr>\n",
       "      <th>55</th>\n",
       "      <td>EngrEv00</td>\n",
       "      <td>5</td>\n",
       "      <td>1.234185</td>\n",
       "    </tr>\n",
       "    <tr>\n",
       "      <th>213</th>\n",
       "      <td>ShocJe00</td>\n",
       "      <td>10</td>\n",
       "      <td>1.230741</td>\n",
       "    </tr>\n",
       "    <tr>\n",
       "      <th>262</th>\n",
       "      <td>WinsKe01</td>\n",
       "      <td>9</td>\n",
       "      <td>1.230087</td>\n",
       "    </tr>\n",
       "    <tr>\n",
       "      <th>168</th>\n",
       "      <td>OlseGr00</td>\n",
       "      <td>14</td>\n",
       "      <td>1.222354</td>\n",
       "    </tr>\n",
       "    <tr>\n",
       "      <th>39</th>\n",
       "      <td>DaniOw00</td>\n",
       "      <td>10</td>\n",
       "      <td>1.195192</td>\n",
       "    </tr>\n",
       "    <tr>\n",
       "      <th>30</th>\n",
       "      <td>ClarDa00</td>\n",
       "      <td>11</td>\n",
       "      <td>1.122373</td>\n",
       "    </tr>\n",
       "    <tr>\n",
       "      <th>107</th>\n",
       "      <td>HockTJ00</td>\n",
       "      <td>3</td>\n",
       "      <td>1.108211</td>\n",
       "    </tr>\n",
       "    <tr>\n",
       "      <th>98</th>\n",
       "      <td>HeapTo00</td>\n",
       "      <td>12</td>\n",
       "      <td>1.107089</td>\n",
       "    </tr>\n",
       "    <tr>\n",
       "      <th>149</th>\n",
       "      <td>MillHe00</td>\n",
       "      <td>11</td>\n",
       "      <td>1.088021</td>\n",
       "    </tr>\n",
       "    <tr>\n",
       "      <th>42</th>\n",
       "      <td>DaviVe00</td>\n",
       "      <td>15</td>\n",
       "      <td>0.991128</td>\n",
       "    </tr>\n",
       "  </tbody>\n",
       "</table>\n",
       "</div>"
      ],
      "text/plain": [
       "    player_id  season_count  career_score\n",
       "124  KelcTr00             9      1.989751\n",
       "93   GronRo00            11      1.983560\n",
       "129  KittGe00             5      1.732385\n",
       "102  HernAa00             3      1.578132\n",
       "179  PittKy00             1      1.487152\n",
       "85   GrahJi00            12      1.432702\n",
       "186  ReedJo02             7      1.429264\n",
       "5    AndrMa00             4      1.426805\n",
       "57   ErtzZa00            10      1.413148\n",
       "263  WittJa00            17      1.412564\n",
       "55   EngrEv00             5      1.234185\n",
       "213  ShocJe00            10      1.230741\n",
       "262  WinsKe01             9      1.230087\n",
       "168  OlseGr00            14      1.222354\n",
       "39   DaniOw00            10      1.195192\n",
       "30   ClarDa00            11      1.122373\n",
       "107  HockTJ00             3      1.108211\n",
       "98   HeapTo00            12      1.107089\n",
       "149  MillHe00            11      1.088021\n",
       "42   DaviVe00            15      0.991128"
      ]
     },
     "execution_count": 214,
     "metadata": {},
     "output_type": "execute_result"
    }
   ],
   "source": [
    "top_50_te = te_scored.sort_values('career_score', axis=0, ascending=False).head(50)\n",
    "top_50_te.head(20)"
   ]
  },
  {
   "cell_type": "code",
   "execution_count": null,
   "id": "39b7d493",
   "metadata": {},
   "outputs": [],
   "source": []
  }
 ],
 "metadata": {
  "kernelspec": {
   "display_name": "Python 3 (ipykernel)",
   "language": "python",
   "name": "python3"
  },
  "language_info": {
   "codemirror_mode": {
    "name": "ipython",
    "version": 3
   },
   "file_extension": ".py",
   "mimetype": "text/x-python",
   "name": "python",
   "nbconvert_exporter": "python",
   "pygments_lexer": "ipython3",
   "version": "3.9.10"
  }
 },
 "nbformat": 4,
 "nbformat_minor": 5
}
