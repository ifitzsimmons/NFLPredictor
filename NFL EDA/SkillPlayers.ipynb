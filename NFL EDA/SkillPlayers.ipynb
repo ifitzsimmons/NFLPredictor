{
 "cells": [
  {
   "cell_type": "code",
   "execution_count": 2,
   "id": "d18e66c3",
   "metadata": {},
   "outputs": [],
   "source": [
    "import csv\n",
    "import pandas as pd"
   ]
  },
  {
   "cell_type": "code",
   "execution_count": 3,
   "id": "e00d0827",
   "metadata": {},
   "outputs": [],
   "source": [
    "import numpy as np\n",
    "from sklearn.decomposition import PCA"
   ]
  },
  {
   "cell_type": "code",
   "execution_count": 21,
   "id": "83cb1819",
   "metadata": {},
   "outputs": [],
   "source": [
    "sp_df = pd.read_csv('./ProData/csvs/skill_player_stats.csv', header=0)"
   ]
  },
  {
   "cell_type": "code",
   "execution_count": 13,
   "id": "853d5439",
   "metadata": {},
   "outputs": [
    {
     "data": {
      "text/plain": [
       "Index(['Unnamed: 0', 'age', 'team', 'g', 'gs', 'targets', 'rec', 'rec_yds',\n",
       "       'rec_yds_per_rec', 'rec_td', 'rec_first_down', 'rec_long', 'rec_per_g',\n",
       "       'rec_yds_per_g', 'catch_pct', 'rec_yds_per_tgt', 'rush_att', 'rush_yds',\n",
       "       'rush_td', 'rush_first_down', 'rush_long', 'rush_yds_per_att',\n",
       "       'rush_yds_per_g', 'rush_att_per_g', 'touches', 'yds_per_touch',\n",
       "       'yds_from_scrimmage', 'rush_receive_td', 'fumbles', 'av', 'player_id',\n",
       "       'position', 'snaps_played', 'total_snaps', 'snap_played_percentage'],\n",
       "      dtype='object')"
      ]
     },
     "execution_count": 13,
     "metadata": {},
     "output_type": "execute_result"
    }
   ],
   "source": [
    "sp_df.columns"
   ]
  },
  {
   "cell_type": "code",
   "execution_count": 37,
   "id": "bf210b6d",
   "metadata": {},
   "outputs": [],
   "source": [
    "dropped_fb = sp_df[sp_df.position != 'FB']"
   ]
  },
  {
   "cell_type": "code",
   "execution_count": 58,
   "id": "826b0791",
   "metadata": {},
   "outputs": [],
   "source": [
    "reindexed = dropped_fb.drop(['Unnamed: 0', 'team', 'av'], axis=1).set_index(['player_id', 'age', 'position'])"
   ]
  },
  {
   "cell_type": "markdown",
   "id": "2e738033",
   "metadata": {},
   "source": [
    "## Fillna for each player with the player's average\n",
    "Snap Data was only available starting in 2012. For players that span across those time ranges, use their average to fill data from time before it was available."
   ]
  },
  {
   "cell_type": "code",
   "execution_count": 60,
   "id": "83a7625d",
   "metadata": {},
   "outputs": [],
   "source": [
    "fillna_cols = ['snap_played_percentage', 'snaps_played', 'total_snaps']\n",
    "\n",
    "def fill_with_player_averages(group):\n",
    "    group[fillna_cols] = group[fillna_cols].fillna(group[fillna_cols].mean())\n",
    "    return group"
   ]
  },
  {
   "cell_type": "code",
   "execution_count": 61,
   "id": "d35138f3",
   "metadata": {},
   "outputs": [],
   "source": [
    "new = reindexed.groupby('player_id', as_index=False).apply(fill_with_player_averages)"
   ]
  },
  {
   "cell_type": "code",
   "execution_count": 62,
   "id": "e46cfd99",
   "metadata": {},
   "outputs": [
    {
     "data": {
      "text/plain": [
       "4071"
      ]
     },
     "execution_count": 62,
     "metadata": {},
     "output_type": "execute_result"
    }
   ],
   "source": [
    "len(reindexed[reindexed.isnull().any(axis=1)])"
   ]
  },
  {
   "cell_type": "code",
   "execution_count": 63,
   "id": "c68b776d",
   "metadata": {
    "scrolled": false
   },
   "outputs": [
    {
     "data": {
      "text/plain": [
       "2902"
      ]
     },
     "execution_count": 63,
     "metadata": {},
     "output_type": "execute_result"
    }
   ],
   "source": [
    "len(new[new.isnull().any(axis=1)])"
   ]
  },
  {
   "cell_type": "markdown",
   "id": "29e40baf",
   "metadata": {},
   "source": [
    "### Able to reduce number of null snap count data by about 25%"
   ]
  },
  {
   "cell_type": "markdown",
   "id": "02ca6529",
   "metadata": {},
   "source": [
    "## Fill null snap data\n",
    "Find average snap data for each position based on games started and games not started. Plug that in to null data.\n",
    "\n",
    "So if Running Backs who started 12 games and featured in 3 averaged 80% of snaps, a running back who started 12 games and featured in 3 with null snap data will get 80% as well.\n"
   ]
  },
  {
   "cell_type": "code",
   "execution_count": 85,
   "id": "8c67671e",
   "metadata": {},
   "outputs": [],
   "source": [
    "def fill_with_player_averages_from_game_data(group):\n",
    "    group[fillna_cols] = group[fillna_cols].fillna(group[fillna_cols].mean())\n",
    "    return group"
   ]
  },
  {
   "cell_type": "code",
   "execution_count": 64,
   "id": "78742be5",
   "metadata": {},
   "outputs": [],
   "source": [
    "new['games_played_not_started'] = new['g'] - new['gs']"
   ]
  },
  {
   "cell_type": "code",
   "execution_count": 68,
   "id": "fcc27a5b",
   "metadata": {},
   "outputs": [
    {
     "data": {
      "text/html": [
       "<div>\n",
       "<style scoped>\n",
       "    .dataframe tbody tr th:only-of-type {\n",
       "        vertical-align: middle;\n",
       "    }\n",
       "\n",
       "    .dataframe tbody tr th {\n",
       "        vertical-align: top;\n",
       "    }\n",
       "\n",
       "    .dataframe thead th {\n",
       "        text-align: right;\n",
       "    }\n",
       "</style>\n",
       "<table border=\"1\" class=\"dataframe\">\n",
       "  <thead>\n",
       "    <tr style=\"text-align: right;\">\n",
       "      <th></th>\n",
       "      <th></th>\n",
       "      <th></th>\n",
       "      <th>g</th>\n",
       "      <th>gs</th>\n",
       "      <th>targets</th>\n",
       "      <th>rec</th>\n",
       "      <th>rec_yds</th>\n",
       "      <th>rec_yds_per_rec</th>\n",
       "      <th>rec_td</th>\n",
       "      <th>rec_first_down</th>\n",
       "      <th>rec_long</th>\n",
       "      <th>rec_per_g</th>\n",
       "      <th>...</th>\n",
       "      <th>rush_att_per_g</th>\n",
       "      <th>touches</th>\n",
       "      <th>yds_per_touch</th>\n",
       "      <th>yds_from_scrimmage</th>\n",
       "      <th>rush_receive_td</th>\n",
       "      <th>fumbles</th>\n",
       "      <th>snaps_played</th>\n",
       "      <th>total_snaps</th>\n",
       "      <th>snap_played_percentage</th>\n",
       "      <th>games_played_not_started</th>\n",
       "    </tr>\n",
       "    <tr>\n",
       "      <th>player_id</th>\n",
       "      <th>age</th>\n",
       "      <th>position</th>\n",
       "      <th></th>\n",
       "      <th></th>\n",
       "      <th></th>\n",
       "      <th></th>\n",
       "      <th></th>\n",
       "      <th></th>\n",
       "      <th></th>\n",
       "      <th></th>\n",
       "      <th></th>\n",
       "      <th></th>\n",
       "      <th></th>\n",
       "      <th></th>\n",
       "      <th></th>\n",
       "      <th></th>\n",
       "      <th></th>\n",
       "      <th></th>\n",
       "      <th></th>\n",
       "      <th></th>\n",
       "      <th></th>\n",
       "      <th></th>\n",
       "      <th></th>\n",
       "    </tr>\n",
       "  </thead>\n",
       "  <tbody>\n",
       "    <tr>\n",
       "      <th>BechAn00</th>\n",
       "      <th>34</th>\n",
       "      <th>TE</th>\n",
       "      <td>9</td>\n",
       "      <td>5</td>\n",
       "      <td>4</td>\n",
       "      <td>3</td>\n",
       "      <td>26</td>\n",
       "      <td>8.7</td>\n",
       "      <td>0</td>\n",
       "      <td>2</td>\n",
       "      <td>16</td>\n",
       "      <td>0.3</td>\n",
       "      <td>...</td>\n",
       "      <td>0.0</td>\n",
       "      <td>3</td>\n",
       "      <td>8.7</td>\n",
       "      <td>26</td>\n",
       "      <td>0</td>\n",
       "      <td>0</td>\n",
       "      <td>NaN</td>\n",
       "      <td>NaN</td>\n",
       "      <td>NaN</td>\n",
       "      <td>4</td>\n",
       "    </tr>\n",
       "    <tr>\n",
       "      <th>ThomIa00</th>\n",
       "      <th>22</th>\n",
       "      <th>TE</th>\n",
       "      <td>16</td>\n",
       "      <td>6</td>\n",
       "      <td>49</td>\n",
       "      <td>36</td>\n",
       "      <td>333</td>\n",
       "      <td>9.3</td>\n",
       "      <td>2</td>\n",
       "      <td>20</td>\n",
       "      <td>31</td>\n",
       "      <td>2.3</td>\n",
       "      <td>...</td>\n",
       "      <td>0.0</td>\n",
       "      <td>36</td>\n",
       "      <td>9.3</td>\n",
       "      <td>333</td>\n",
       "      <td>2</td>\n",
       "      <td>0</td>\n",
       "      <td>NaN</td>\n",
       "      <td>NaN</td>\n",
       "      <td>NaN</td>\n",
       "      <td>10</td>\n",
       "    </tr>\n",
       "    <tr>\n",
       "      <th>ThomJo05</th>\n",
       "      <th>22</th>\n",
       "      <th>TE</th>\n",
       "      <td>16</td>\n",
       "      <td>10</td>\n",
       "      <td>27</td>\n",
       "      <td>20</td>\n",
       "      <td>215</td>\n",
       "      <td>10.8</td>\n",
       "      <td>4</td>\n",
       "      <td>12</td>\n",
       "      <td>39</td>\n",
       "      <td>1.3</td>\n",
       "      <td>...</td>\n",
       "      <td>0.0</td>\n",
       "      <td>20</td>\n",
       "      <td>10.8</td>\n",
       "      <td>215</td>\n",
       "      <td>4</td>\n",
       "      <td>0</td>\n",
       "      <td>NaN</td>\n",
       "      <td>NaN</td>\n",
       "      <td>NaN</td>\n",
       "      <td>6</td>\n",
       "    </tr>\n",
       "    <tr>\n",
       "      <th>ShocJe00</th>\n",
       "      <th>22</th>\n",
       "      <th>TE</th>\n",
       "      <td>15</td>\n",
       "      <td>14</td>\n",
       "      <td>128</td>\n",
       "      <td>74</td>\n",
       "      <td>894</td>\n",
       "      <td>12.1</td>\n",
       "      <td>2</td>\n",
       "      <td>49</td>\n",
       "      <td>30</td>\n",
       "      <td>4.9</td>\n",
       "      <td>...</td>\n",
       "      <td>0.0</td>\n",
       "      <td>74</td>\n",
       "      <td>12.1</td>\n",
       "      <td>894</td>\n",
       "      <td>2</td>\n",
       "      <td>3</td>\n",
       "      <td>NaN</td>\n",
       "      <td>NaN</td>\n",
       "      <td>NaN</td>\n",
       "      <td>1</td>\n",
       "    </tr>\n",
       "    <tr>\n",
       "      <th>WrigGe00</th>\n",
       "      <th>22</th>\n",
       "      <th>TE</th>\n",
       "      <td>15</td>\n",
       "      <td>1</td>\n",
       "      <td>20</td>\n",
       "      <td>13</td>\n",
       "      <td>150</td>\n",
       "      <td>11.5</td>\n",
       "      <td>2</td>\n",
       "      <td>9</td>\n",
       "      <td>30</td>\n",
       "      <td>0.9</td>\n",
       "      <td>...</td>\n",
       "      <td>0.0</td>\n",
       "      <td>13</td>\n",
       "      <td>11.5</td>\n",
       "      <td>150</td>\n",
       "      <td>2</td>\n",
       "      <td>0</td>\n",
       "      <td>NaN</td>\n",
       "      <td>NaN</td>\n",
       "      <td>NaN</td>\n",
       "      <td>14</td>\n",
       "    </tr>\n",
       "    <tr>\n",
       "      <th>...</th>\n",
       "      <th>...</th>\n",
       "      <th>...</th>\n",
       "      <td>...</td>\n",
       "      <td>...</td>\n",
       "      <td>...</td>\n",
       "      <td>...</td>\n",
       "      <td>...</td>\n",
       "      <td>...</td>\n",
       "      <td>...</td>\n",
       "      <td>...</td>\n",
       "      <td>...</td>\n",
       "      <td>...</td>\n",
       "      <td>...</td>\n",
       "      <td>...</td>\n",
       "      <td>...</td>\n",
       "      <td>...</td>\n",
       "      <td>...</td>\n",
       "      <td>...</td>\n",
       "      <td>...</td>\n",
       "      <td>...</td>\n",
       "      <td>...</td>\n",
       "      <td>...</td>\n",
       "      <td>...</td>\n",
       "    </tr>\n",
       "    <tr>\n",
       "      <th>JacoJo01</th>\n",
       "      <th>21</th>\n",
       "      <th>RB</th>\n",
       "      <td>13</td>\n",
       "      <td>13</td>\n",
       "      <td>27</td>\n",
       "      <td>20</td>\n",
       "      <td>166</td>\n",
       "      <td>8.3</td>\n",
       "      <td>0</td>\n",
       "      <td>8</td>\n",
       "      <td>28</td>\n",
       "      <td>1.5</td>\n",
       "      <td>...</td>\n",
       "      <td>18.6</td>\n",
       "      <td>262</td>\n",
       "      <td>5.0</td>\n",
       "      <td>1316</td>\n",
       "      <td>7</td>\n",
       "      <td>1</td>\n",
       "      <td>NaN</td>\n",
       "      <td>NaN</td>\n",
       "      <td>NaN</td>\n",
       "      <td>0</td>\n",
       "    </tr>\n",
       "    <tr>\n",
       "      <th>BarkSa00</th>\n",
       "      <th>21</th>\n",
       "      <th>RB</th>\n",
       "      <td>16</td>\n",
       "      <td>16</td>\n",
       "      <td>121</td>\n",
       "      <td>91</td>\n",
       "      <td>721</td>\n",
       "      <td>7.9</td>\n",
       "      <td>4</td>\n",
       "      <td>30</td>\n",
       "      <td>57</td>\n",
       "      <td>5.7</td>\n",
       "      <td>...</td>\n",
       "      <td>16.3</td>\n",
       "      <td>352</td>\n",
       "      <td>5.8</td>\n",
       "      <td>2028</td>\n",
       "      <td>15</td>\n",
       "      <td>0</td>\n",
       "      <td>NaN</td>\n",
       "      <td>NaN</td>\n",
       "      <td>NaN</td>\n",
       "      <td>0</td>\n",
       "    </tr>\n",
       "    <tr>\n",
       "      <th>PortCl00</th>\n",
       "      <th>21</th>\n",
       "      <th>RB</th>\n",
       "      <td>16</td>\n",
       "      <td>12</td>\n",
       "      <td>49</td>\n",
       "      <td>33</td>\n",
       "      <td>364</td>\n",
       "      <td>11.0</td>\n",
       "      <td>2</td>\n",
       "      <td>16</td>\n",
       "      <td>66</td>\n",
       "      <td>2.1</td>\n",
       "      <td>...</td>\n",
       "      <td>17.1</td>\n",
       "      <td>306</td>\n",
       "      <td>6.1</td>\n",
       "      <td>1872</td>\n",
       "      <td>17</td>\n",
       "      <td>5</td>\n",
       "      <td>NaN</td>\n",
       "      <td>NaN</td>\n",
       "      <td>NaN</td>\n",
       "      <td>4</td>\n",
       "    </tr>\n",
       "    <tr>\n",
       "      <th>WaltMa00</th>\n",
       "      <th>21</th>\n",
       "      <th>RB</th>\n",
       "      <td>14</td>\n",
       "      <td>0</td>\n",
       "      <td>8</td>\n",
       "      <td>5</td>\n",
       "      <td>41</td>\n",
       "      <td>8.2</td>\n",
       "      <td>0</td>\n",
       "      <td>1</td>\n",
       "      <td>24</td>\n",
       "      <td>0.4</td>\n",
       "      <td>...</td>\n",
       "      <td>1.0</td>\n",
       "      <td>19</td>\n",
       "      <td>3.9</td>\n",
       "      <td>75</td>\n",
       "      <td>0</td>\n",
       "      <td>0</td>\n",
       "      <td>NaN</td>\n",
       "      <td>NaN</td>\n",
       "      <td>NaN</td>\n",
       "      <td>14</td>\n",
       "    </tr>\n",
       "    <tr>\n",
       "      <th>SnelBe00</th>\n",
       "      <th>21</th>\n",
       "      <th>RB</th>\n",
       "      <td>13</td>\n",
       "      <td>2</td>\n",
       "      <td>4</td>\n",
       "      <td>3</td>\n",
       "      <td>23</td>\n",
       "      <td>7.7</td>\n",
       "      <td>0</td>\n",
       "      <td>0</td>\n",
       "      <td>14</td>\n",
       "      <td>0.2</td>\n",
       "      <td>...</td>\n",
       "      <td>8.3</td>\n",
       "      <td>111</td>\n",
       "      <td>4.0</td>\n",
       "      <td>449</td>\n",
       "      <td>2</td>\n",
       "      <td>1</td>\n",
       "      <td>NaN</td>\n",
       "      <td>NaN</td>\n",
       "      <td>NaN</td>\n",
       "      <td>11</td>\n",
       "    </tr>\n",
       "  </tbody>\n",
       "</table>\n",
       "<p>2902 rows × 30 columns</p>\n",
       "</div>"
      ],
      "text/plain": [
       "                         g  gs  targets  rec  rec_yds  rec_yds_per_rec  \\\n",
       "player_id age position                                                   \n",
       "BechAn00  34  TE         9   5        4    3       26              8.7   \n",
       "ThomIa00  22  TE        16   6       49   36      333              9.3   \n",
       "ThomJo05  22  TE        16  10       27   20      215             10.8   \n",
       "ShocJe00  22  TE        15  14      128   74      894             12.1   \n",
       "WrigGe00  22  TE        15   1       20   13      150             11.5   \n",
       "...                     ..  ..      ...  ...      ...              ...   \n",
       "JacoJo01  21  RB        13  13       27   20      166              8.3   \n",
       "BarkSa00  21  RB        16  16      121   91      721              7.9   \n",
       "PortCl00  21  RB        16  12       49   33      364             11.0   \n",
       "WaltMa00  21  RB        14   0        8    5       41              8.2   \n",
       "SnelBe00  21  RB        13   2        4    3       23              7.7   \n",
       "\n",
       "                        rec_td  rec_first_down  rec_long  rec_per_g  ...  \\\n",
       "player_id age position                                               ...   \n",
       "BechAn00  34  TE             0               2        16        0.3  ...   \n",
       "ThomIa00  22  TE             2              20        31        2.3  ...   \n",
       "ThomJo05  22  TE             4              12        39        1.3  ...   \n",
       "ShocJe00  22  TE             2              49        30        4.9  ...   \n",
       "WrigGe00  22  TE             2               9        30        0.9  ...   \n",
       "...                        ...             ...       ...        ...  ...   \n",
       "JacoJo01  21  RB             0               8        28        1.5  ...   \n",
       "BarkSa00  21  RB             4              30        57        5.7  ...   \n",
       "PortCl00  21  RB             2              16        66        2.1  ...   \n",
       "WaltMa00  21  RB             0               1        24        0.4  ...   \n",
       "SnelBe00  21  RB             0               0        14        0.2  ...   \n",
       "\n",
       "                        rush_att_per_g  touches  yds_per_touch  \\\n",
       "player_id age position                                           \n",
       "BechAn00  34  TE                   0.0        3            8.7   \n",
       "ThomIa00  22  TE                   0.0       36            9.3   \n",
       "ThomJo05  22  TE                   0.0       20           10.8   \n",
       "ShocJe00  22  TE                   0.0       74           12.1   \n",
       "WrigGe00  22  TE                   0.0       13           11.5   \n",
       "...                                ...      ...            ...   \n",
       "JacoJo01  21  RB                  18.6      262            5.0   \n",
       "BarkSa00  21  RB                  16.3      352            5.8   \n",
       "PortCl00  21  RB                  17.1      306            6.1   \n",
       "WaltMa00  21  RB                   1.0       19            3.9   \n",
       "SnelBe00  21  RB                   8.3      111            4.0   \n",
       "\n",
       "                        yds_from_scrimmage  rush_receive_td  fumbles  \\\n",
       "player_id age position                                                 \n",
       "BechAn00  34  TE                        26                0        0   \n",
       "ThomIa00  22  TE                       333                2        0   \n",
       "ThomJo05  22  TE                       215                4        0   \n",
       "ShocJe00  22  TE                       894                2        3   \n",
       "WrigGe00  22  TE                       150                2        0   \n",
       "...                                    ...              ...      ...   \n",
       "JacoJo01  21  RB                      1316                7        1   \n",
       "BarkSa00  21  RB                      2028               15        0   \n",
       "PortCl00  21  RB                      1872               17        5   \n",
       "WaltMa00  21  RB                        75                0        0   \n",
       "SnelBe00  21  RB                       449                2        1   \n",
       "\n",
       "                        snaps_played  total_snaps  snap_played_percentage  \\\n",
       "player_id age position                                                      \n",
       "BechAn00  34  TE                 NaN          NaN                     NaN   \n",
       "ThomIa00  22  TE                 NaN          NaN                     NaN   \n",
       "ThomJo05  22  TE                 NaN          NaN                     NaN   \n",
       "ShocJe00  22  TE                 NaN          NaN                     NaN   \n",
       "WrigGe00  22  TE                 NaN          NaN                     NaN   \n",
       "...                              ...          ...                     ...   \n",
       "JacoJo01  21  RB                 NaN          NaN                     NaN   \n",
       "BarkSa00  21  RB                 NaN          NaN                     NaN   \n",
       "PortCl00  21  RB                 NaN          NaN                     NaN   \n",
       "WaltMa00  21  RB                 NaN          NaN                     NaN   \n",
       "SnelBe00  21  RB                 NaN          NaN                     NaN   \n",
       "\n",
       "                        games_played_not_started  \n",
       "player_id age position                            \n",
       "BechAn00  34  TE                               4  \n",
       "ThomIa00  22  TE                              10  \n",
       "ThomJo05  22  TE                               6  \n",
       "ShocJe00  22  TE                               1  \n",
       "WrigGe00  22  TE                              14  \n",
       "...                                          ...  \n",
       "JacoJo01  21  RB                               0  \n",
       "BarkSa00  21  RB                               0  \n",
       "PortCl00  21  RB                               4  \n",
       "WaltMa00  21  RB                              14  \n",
       "SnelBe00  21  RB                              11  \n",
       "\n",
       "[2902 rows x 30 columns]"
      ]
     },
     "execution_count": 68,
     "metadata": {},
     "output_type": "execute_result"
    }
   ],
   "source": [
    "new[new.isnull().any(axis=1)]"
   ]
  },
  {
   "cell_type": "code",
   "execution_count": 79,
   "id": "5bd87ec2",
   "metadata": {},
   "outputs": [],
   "source": [
    "grouped = new.groupby(['position', 'gs', 'games_played_not_started'])"
   ]
  },
  {
   "cell_type": "code",
   "execution_count": 84,
   "id": "90d812a9",
   "metadata": {},
   "outputs": [
    {
     "name": "stdout",
     "output_type": "stream",
     "text": [
      "0.4266666666666666\n"
     ]
    }
   ],
   "source": [
    "for grouping, group in grouped:\n",
    "    if grouping == ('RB', 12, 4):\n",
    "        print(group['snap_played_percentage'].mean())"
   ]
  },
  {
   "cell_type": "code",
   "execution_count": 94,
   "id": "1897ed38",
   "metadata": {},
   "outputs": [],
   "source": [
    "smart_fill = new.groupby(['position', 'gs', 'games_played_not_started']).apply(fill_with_player_averages)"
   ]
  },
  {
   "cell_type": "code",
   "execution_count": 96,
   "id": "5216c8cb",
   "metadata": {},
   "outputs": [
    {
     "data": {
      "text/html": [
       "<div>\n",
       "<style scoped>\n",
       "    .dataframe tbody tr th:only-of-type {\n",
       "        vertical-align: middle;\n",
       "    }\n",
       "\n",
       "    .dataframe tbody tr th {\n",
       "        vertical-align: top;\n",
       "    }\n",
       "\n",
       "    .dataframe thead th {\n",
       "        text-align: right;\n",
       "    }\n",
       "</style>\n",
       "<table border=\"1\" class=\"dataframe\">\n",
       "  <thead>\n",
       "    <tr style=\"text-align: right;\">\n",
       "      <th></th>\n",
       "      <th></th>\n",
       "      <th></th>\n",
       "      <th>g</th>\n",
       "      <th>gs</th>\n",
       "      <th>targets</th>\n",
       "      <th>rec</th>\n",
       "      <th>rec_yds</th>\n",
       "      <th>rec_yds_per_rec</th>\n",
       "      <th>rec_td</th>\n",
       "      <th>rec_first_down</th>\n",
       "      <th>rec_long</th>\n",
       "      <th>rec_per_g</th>\n",
       "      <th>...</th>\n",
       "      <th>rush_att_per_g</th>\n",
       "      <th>touches</th>\n",
       "      <th>yds_per_touch</th>\n",
       "      <th>yds_from_scrimmage</th>\n",
       "      <th>rush_receive_td</th>\n",
       "      <th>fumbles</th>\n",
       "      <th>snaps_played</th>\n",
       "      <th>total_snaps</th>\n",
       "      <th>snap_played_percentage</th>\n",
       "      <th>games_played_not_started</th>\n",
       "    </tr>\n",
       "    <tr>\n",
       "      <th>player_id</th>\n",
       "      <th>age</th>\n",
       "      <th>position</th>\n",
       "      <th></th>\n",
       "      <th></th>\n",
       "      <th></th>\n",
       "      <th></th>\n",
       "      <th></th>\n",
       "      <th></th>\n",
       "      <th></th>\n",
       "      <th></th>\n",
       "      <th></th>\n",
       "      <th></th>\n",
       "      <th></th>\n",
       "      <th></th>\n",
       "      <th></th>\n",
       "      <th></th>\n",
       "      <th></th>\n",
       "      <th></th>\n",
       "      <th></th>\n",
       "      <th></th>\n",
       "      <th></th>\n",
       "      <th></th>\n",
       "      <th></th>\n",
       "    </tr>\n",
       "  </thead>\n",
       "  <tbody>\n",
       "    <tr>\n",
       "      <th rowspan=\"9\" valign=\"top\">PortCl00</th>\n",
       "      <th>22</th>\n",
       "      <th>RB</th>\n",
       "      <td>13</td>\n",
       "      <td>13</td>\n",
       "      <td>51</td>\n",
       "      <td>38</td>\n",
       "      <td>314</td>\n",
       "      <td>8.3</td>\n",
       "      <td>0</td>\n",
       "      <td>10</td>\n",
       "      <td>72</td>\n",
       "      <td>2.9</td>\n",
       "      <td>...</td>\n",
       "      <td>22.3</td>\n",
       "      <td>328</td>\n",
       "      <td>5.8</td>\n",
       "      <td>1905</td>\n",
       "      <td>14</td>\n",
       "      <td>3</td>\n",
       "      <td>417.464286</td>\n",
       "      <td>732.128968</td>\n",
       "      <td>0.526619</td>\n",
       "      <td>0</td>\n",
       "    </tr>\n",
       "    <tr>\n",
       "      <th>23</th>\n",
       "      <th>RB</th>\n",
       "      <td>15</td>\n",
       "      <td>15</td>\n",
       "      <td>57</td>\n",
       "      <td>40</td>\n",
       "      <td>235</td>\n",
       "      <td>5.9</td>\n",
       "      <td>2</td>\n",
       "      <td>10</td>\n",
       "      <td>18</td>\n",
       "      <td>2.7</td>\n",
       "      <td>...</td>\n",
       "      <td>22.9</td>\n",
       "      <td>383</td>\n",
       "      <td>4.0</td>\n",
       "      <td>1550</td>\n",
       "      <td>7</td>\n",
       "      <td>5</td>\n",
       "      <td>513.804206</td>\n",
       "      <td>862.334286</td>\n",
       "      <td>0.565077</td>\n",
       "      <td>0</td>\n",
       "    </tr>\n",
       "    <tr>\n",
       "      <th>24</th>\n",
       "      <th>RB</th>\n",
       "      <td>16</td>\n",
       "      <td>16</td>\n",
       "      <td>41</td>\n",
       "      <td>30</td>\n",
       "      <td>216</td>\n",
       "      <td>7.2</td>\n",
       "      <td>0</td>\n",
       "      <td>13</td>\n",
       "      <td>23</td>\n",
       "      <td>1.9</td>\n",
       "      <td>...</td>\n",
       "      <td>22.0</td>\n",
       "      <td>382</td>\n",
       "      <td>4.5</td>\n",
       "      <td>1732</td>\n",
       "      <td>11</td>\n",
       "      <td>3</td>\n",
       "      <td>602.385859</td>\n",
       "      <td>980.316162</td>\n",
       "      <td>0.600105</td>\n",
       "      <td>0</td>\n",
       "    </tr>\n",
       "    <tr>\n",
       "      <th>28</th>\n",
       "      <th>RB</th>\n",
       "      <td>8</td>\n",
       "      <td>8</td>\n",
       "      <td>12</td>\n",
       "      <td>9</td>\n",
       "      <td>57</td>\n",
       "      <td>6.3</td>\n",
       "      <td>1</td>\n",
       "      <td>2</td>\n",
       "      <td>10</td>\n",
       "      <td>1.1</td>\n",
       "      <td>...</td>\n",
       "      <td>15.5</td>\n",
       "      <td>133</td>\n",
       "      <td>4.1</td>\n",
       "      <td>551</td>\n",
       "      <td>2</td>\n",
       "      <td>1</td>\n",
       "      <td>325.333333</td>\n",
       "      <td>518.333333</td>\n",
       "      <td>0.630000</td>\n",
       "      <td>0</td>\n",
       "    </tr>\n",
       "    <tr>\n",
       "      <th>29</th>\n",
       "      <th>RB</th>\n",
       "      <td>5</td>\n",
       "      <td>5</td>\n",
       "      <td>9</td>\n",
       "      <td>5</td>\n",
       "      <td>55</td>\n",
       "      <td>11.0</td>\n",
       "      <td>0</td>\n",
       "      <td>4</td>\n",
       "      <td>14</td>\n",
       "      <td>1.0</td>\n",
       "      <td>...</td>\n",
       "      <td>10.8</td>\n",
       "      <td>59</td>\n",
       "      <td>4.8</td>\n",
       "      <td>282</td>\n",
       "      <td>2</td>\n",
       "      <td>0</td>\n",
       "      <td>216.750000</td>\n",
       "      <td>467.875000</td>\n",
       "      <td>0.535000</td>\n",
       "      <td>0</td>\n",
       "    </tr>\n",
       "    <tr>\n",
       "      <th>25</th>\n",
       "      <th>RB</th>\n",
       "      <td>8</td>\n",
       "      <td>7</td>\n",
       "      <td>26</td>\n",
       "      <td>17</td>\n",
       "      <td>170</td>\n",
       "      <td>10.0</td>\n",
       "      <td>0</td>\n",
       "      <td>4</td>\n",
       "      <td>74</td>\n",
       "      <td>2.1</td>\n",
       "      <td>...</td>\n",
       "      <td>15.9</td>\n",
       "      <td>144</td>\n",
       "      <td>4.8</td>\n",
       "      <td>693</td>\n",
       "      <td>7</td>\n",
       "      <td>0</td>\n",
       "      <td>150.000000</td>\n",
       "      <td>500.000000</td>\n",
       "      <td>0.300000</td>\n",
       "      <td>1</td>\n",
       "    </tr>\n",
       "    <tr>\n",
       "      <th>26</th>\n",
       "      <th>RB</th>\n",
       "      <td>16</td>\n",
       "      <td>16</td>\n",
       "      <td>60</td>\n",
       "      <td>47</td>\n",
       "      <td>389</td>\n",
       "      <td>8.3</td>\n",
       "      <td>0</td>\n",
       "      <td>19</td>\n",
       "      <td>54</td>\n",
       "      <td>2.9</td>\n",
       "      <td>...</td>\n",
       "      <td>20.3</td>\n",
       "      <td>372</td>\n",
       "      <td>4.4</td>\n",
       "      <td>1651</td>\n",
       "      <td>11</td>\n",
       "      <td>6</td>\n",
       "      <td>602.385859</td>\n",
       "      <td>980.316162</td>\n",
       "      <td>0.600105</td>\n",
       "      <td>0</td>\n",
       "    </tr>\n",
       "    <tr>\n",
       "      <th>27</th>\n",
       "      <th>RB</th>\n",
       "      <td>16</td>\n",
       "      <td>16</td>\n",
       "      <td>35</td>\n",
       "      <td>28</td>\n",
       "      <td>218</td>\n",
       "      <td>7.8</td>\n",
       "      <td>0</td>\n",
       "      <td>11</td>\n",
       "      <td>29</td>\n",
       "      <td>1.8</td>\n",
       "      <td>...</td>\n",
       "      <td>21.4</td>\n",
       "      <td>370</td>\n",
       "      <td>4.6</td>\n",
       "      <td>1705</td>\n",
       "      <td>9</td>\n",
       "      <td>3</td>\n",
       "      <td>602.385859</td>\n",
       "      <td>980.316162</td>\n",
       "      <td>0.600105</td>\n",
       "      <td>0</td>\n",
       "    </tr>\n",
       "    <tr>\n",
       "      <th>21</th>\n",
       "      <th>RB</th>\n",
       "      <td>16</td>\n",
       "      <td>12</td>\n",
       "      <td>49</td>\n",
       "      <td>33</td>\n",
       "      <td>364</td>\n",
       "      <td>11.0</td>\n",
       "      <td>2</td>\n",
       "      <td>16</td>\n",
       "      <td>66</td>\n",
       "      <td>2.1</td>\n",
       "      <td>...</td>\n",
       "      <td>17.1</td>\n",
       "      <td>306</td>\n",
       "      <td>6.1</td>\n",
       "      <td>1872</td>\n",
       "      <td>17</td>\n",
       "      <td>5</td>\n",
       "      <td>447.250000</td>\n",
       "      <td>1013.083333</td>\n",
       "      <td>0.426667</td>\n",
       "      <td>4</td>\n",
       "    </tr>\n",
       "  </tbody>\n",
       "</table>\n",
       "<p>9 rows × 30 columns</p>\n",
       "</div>"
      ],
      "text/plain": [
       "                         g  gs  targets  rec  rec_yds  rec_yds_per_rec  \\\n",
       "player_id age position                                                   \n",
       "PortCl00  22  RB        13  13       51   38      314              8.3   \n",
       "          23  RB        15  15       57   40      235              5.9   \n",
       "          24  RB        16  16       41   30      216              7.2   \n",
       "          28  RB         8   8       12    9       57              6.3   \n",
       "          29  RB         5   5        9    5       55             11.0   \n",
       "          25  RB         8   7       26   17      170             10.0   \n",
       "          26  RB        16  16       60   47      389              8.3   \n",
       "          27  RB        16  16       35   28      218              7.8   \n",
       "          21  RB        16  12       49   33      364             11.0   \n",
       "\n",
       "                        rec_td  rec_first_down  rec_long  rec_per_g  ...  \\\n",
       "player_id age position                                               ...   \n",
       "PortCl00  22  RB             0              10        72        2.9  ...   \n",
       "          23  RB             2              10        18        2.7  ...   \n",
       "          24  RB             0              13        23        1.9  ...   \n",
       "          28  RB             1               2        10        1.1  ...   \n",
       "          29  RB             0               4        14        1.0  ...   \n",
       "          25  RB             0               4        74        2.1  ...   \n",
       "          26  RB             0              19        54        2.9  ...   \n",
       "          27  RB             0              11        29        1.8  ...   \n",
       "          21  RB             2              16        66        2.1  ...   \n",
       "\n",
       "                        rush_att_per_g  touches  yds_per_touch  \\\n",
       "player_id age position                                           \n",
       "PortCl00  22  RB                  22.3      328            5.8   \n",
       "          23  RB                  22.9      383            4.0   \n",
       "          24  RB                  22.0      382            4.5   \n",
       "          28  RB                  15.5      133            4.1   \n",
       "          29  RB                  10.8       59            4.8   \n",
       "          25  RB                  15.9      144            4.8   \n",
       "          26  RB                  20.3      372            4.4   \n",
       "          27  RB                  21.4      370            4.6   \n",
       "          21  RB                  17.1      306            6.1   \n",
       "\n",
       "                        yds_from_scrimmage  rush_receive_td  fumbles  \\\n",
       "player_id age position                                                 \n",
       "PortCl00  22  RB                      1905               14        3   \n",
       "          23  RB                      1550                7        5   \n",
       "          24  RB                      1732               11        3   \n",
       "          28  RB                       551                2        1   \n",
       "          29  RB                       282                2        0   \n",
       "          25  RB                       693                7        0   \n",
       "          26  RB                      1651               11        6   \n",
       "          27  RB                      1705                9        3   \n",
       "          21  RB                      1872               17        5   \n",
       "\n",
       "                        snaps_played  total_snaps  snap_played_percentage  \\\n",
       "player_id age position                                                      \n",
       "PortCl00  22  RB          417.464286   732.128968                0.526619   \n",
       "          23  RB          513.804206   862.334286                0.565077   \n",
       "          24  RB          602.385859   980.316162                0.600105   \n",
       "          28  RB          325.333333   518.333333                0.630000   \n",
       "          29  RB          216.750000   467.875000                0.535000   \n",
       "          25  RB          150.000000   500.000000                0.300000   \n",
       "          26  RB          602.385859   980.316162                0.600105   \n",
       "          27  RB          602.385859   980.316162                0.600105   \n",
       "          21  RB          447.250000  1013.083333                0.426667   \n",
       "\n",
       "                        games_played_not_started  \n",
       "player_id age position                            \n",
       "PortCl00  22  RB                               0  \n",
       "          23  RB                               0  \n",
       "          24  RB                               0  \n",
       "          28  RB                               0  \n",
       "          29  RB                               0  \n",
       "          25  RB                               1  \n",
       "          26  RB                               0  \n",
       "          27  RB                               0  \n",
       "          21  RB                               4  \n",
       "\n",
       "[9 rows x 30 columns]"
      ]
     },
     "execution_count": 96,
     "metadata": {},
     "output_type": "execute_result"
    }
   ],
   "source": [
    "test.query('player_id == \"PortCl00\"')"
   ]
  },
  {
   "cell_type": "code",
   "execution_count": 97,
   "id": "eecec512",
   "metadata": {},
   "outputs": [
    {
     "data": {
      "text/plain": [
       "59"
      ]
     },
     "execution_count": 97,
     "metadata": {},
     "output_type": "execute_result"
    }
   ],
   "source": [
    "len(smart_fill[smart_fill.isnull().any(axis=1)])"
   ]
  },
  {
   "cell_type": "markdown",
   "id": "e017976c",
   "metadata": {},
   "source": [
    "## For any left over nulls, fill with position average for games started"
   ]
  },
  {
   "cell_type": "code",
   "execution_count": 100,
   "id": "e1285c17",
   "metadata": {},
   "outputs": [],
   "source": [
    "dumb_fill = smart_fill.groupby(['position', 'gs']).apply(fill_with_player_averages)"
   ]
  },
  {
   "cell_type": "code",
   "execution_count": 104,
   "id": "1b3462a4",
   "metadata": {},
   "outputs": [],
   "source": [
    "clean_data = dumb_fill.drop('games_played_not_started', axis=1)"
   ]
  },
  {
   "cell_type": "code",
   "execution_count": 107,
   "id": "357a2df6",
   "metadata": {
    "scrolled": true
   },
   "outputs": [],
   "source": [
    "# penalize fumbles\n",
    "clean_data['fumbles'] = clean_data['fumbles'] * -1"
   ]
  },
  {
   "cell_type": "code",
   "execution_count": 108,
   "id": "462e0162",
   "metadata": {},
   "outputs": [
    {
     "data": {
      "text/plain": [
       "g                          11.637301\n",
       "gs                          5.747667\n",
       "targets                    39.726380\n",
       "rec                        24.899623\n",
       "rec_yds                   288.707876\n",
       "rec_yds_per_rec             9.812330\n",
       "rec_td                      1.758310\n",
       "rec_first_down             13.837891\n",
       "rec_long                   30.830195\n",
       "rec_per_g                   1.935566\n",
       "rec_yds_per_g              22.154364\n",
       "catch_pct                  59.194629\n",
       "rec_yds_per_tgt             6.154921\n",
       "rush_att                   29.685115\n",
       "rush_yds                  126.527428\n",
       "rush_td                     0.875225\n",
       "rush_first_down             6.395448\n",
       "rush_long                  11.469953\n",
       "rush_yds_per_att            2.272376\n",
       "rush_yds_per_g             10.047405\n",
       "rush_att_per_g              2.392173\n",
       "touches                    54.584739\n",
       "yds_per_touch               8.999312\n",
       "yds_from_scrimmage        415.235304\n",
       "rush_receive_td             2.633535\n",
       "fumbles                    -0.769609\n",
       "snaps_played              356.229149\n",
       "total_snaps               734.438125\n",
       "snap_played_percentage      0.433840\n",
       "dtype: float64"
      ]
     },
     "execution_count": 108,
     "metadata": {},
     "output_type": "execute_result"
    }
   ],
   "source": [
    "clean_data.mean()"
   ]
  },
  {
   "cell_type": "code",
   "execution_count": 109,
   "id": "afdf2c70",
   "metadata": {},
   "outputs": [],
   "source": [
    "norm_cols = [col for col in clean_data.columns] "
   ]
  },
  {
   "cell_type": "code",
   "execution_count": 255,
   "id": "434ab48d",
   "metadata": {},
   "outputs": [],
   "source": [
    "normalized_qb_df = qbs_df"
   ]
  },
  {
   "cell_type": "code",
   "execution_count": 118,
   "id": "d31e2e1f",
   "metadata": {},
   "outputs": [],
   "source": [
    "normalized_data = clean_data.groupby('position').apply(lambda x: (x - x.min()) / (x.max() - x.min()))"
   ]
  },
  {
   "cell_type": "code",
   "execution_count": 137,
   "id": "7a56be44",
   "metadata": {
    "scrolled": true
   },
   "outputs": [
    {
     "data": {
      "text/plain": [
       "{'RB', 'TE', 'WR'}"
      ]
     },
     "execution_count": 137,
     "metadata": {},
     "output_type": "execute_result"
    }
   ],
   "source": [
    "ndf = normalized_data.reset_index(['age', 'position', 'player_id'])\n",
    "set(ndf['position'].values)"
   ]
  },
  {
   "cell_type": "code",
   "execution_count": 135,
   "id": "69a52f4a",
   "metadata": {},
   "outputs": [],
   "source": [
    "normalized_rb = ndf[ndf['position'] == 'RB'].set_index(['player_id', 'age']).drop('position', axis=1)"
   ]
  },
  {
   "cell_type": "code",
   "execution_count": 138,
   "id": "21505896",
   "metadata": {},
   "outputs": [],
   "source": [
    "normalized_te = ndf[ndf['position'] == 'TE'].set_index(['player_id', 'age']).drop('position', axis=1)"
   ]
  },
  {
   "cell_type": "code",
   "execution_count": 139,
   "id": "5191bded",
   "metadata": {},
   "outputs": [],
   "source": [
    "normalized_wr = ndf[ndf['position'] == 'WR'].set_index(['player_id', 'age']).drop('position', axis=1)"
   ]
  },
  {
   "cell_type": "markdown",
   "id": "038a84fa",
   "metadata": {},
   "source": [
    "# Running Back Plots"
   ]
  },
  {
   "cell_type": "code",
   "execution_count": 140,
   "id": "04caff08",
   "metadata": {},
   "outputs": [],
   "source": [
    "pca = PCA(n_components=1)"
   ]
  },
  {
   "cell_type": "code",
   "execution_count": 141,
   "id": "2787e4aa",
   "metadata": {},
   "outputs": [],
   "source": [
    "pca_analysis = pd.DataFrame(\n",
    "    pca.fit_transform(normalized_rb), \n",
    "    columns=['PCA%i' % i for i in range(1)], \n",
    "    index=normalized_rb.index)"
   ]
  },
  {
   "cell_type": "markdown",
   "id": "f1d5ec1d",
   "metadata": {},
   "source": [
    "# Plot Age vs Feature"
   ]
  },
  {
   "cell_type": "code",
   "execution_count": 142,
   "id": "fbe6c33d",
   "metadata": {},
   "outputs": [],
   "source": [
    "import matplotlib.pyplot as plt"
   ]
  },
  {
   "cell_type": "code",
   "execution_count": 143,
   "id": "6beacd5e",
   "metadata": {},
   "outputs": [],
   "source": [
    "pca_analysis.reset_index('age', inplace=True)"
   ]
  },
  {
   "cell_type": "code",
   "execution_count": 144,
   "id": "1d56c477",
   "metadata": {},
   "outputs": [],
   "source": [
    "top_50 = pca_analysis.sort_values('PCA0', axis=0, ascending=False).head(50)"
   ]
  },
  {
   "cell_type": "code",
   "execution_count": 192,
   "id": "4e34c683",
   "metadata": {},
   "outputs": [],
   "source": [
    "top_50"
   ]
  },
  {
   "cell_type": "code",
   "execution_count": 193,
   "id": "9e991182",
   "metadata": {},
   "outputs": [],
   "source": [
    "#top_50.groupby('player_id').size()"
   ]
  },
  {
   "cell_type": "code",
   "execution_count": 194,
   "id": "49ba3a55",
   "metadata": {
    "scrolled": true
   },
   "outputs": [],
   "source": [
    "#pca_analysis.sort_values('PCA0', axis=0).head(20)"
   ]
  },
  {
   "cell_type": "code",
   "execution_count": 174,
   "id": "da748448",
   "metadata": {},
   "outputs": [],
   "source": [
    "players_per_age = pca_analysis.groupby('age').size().to_frame().reset_index('age')"
   ]
  },
  {
   "cell_type": "code",
   "execution_count": 178,
   "id": "9609efea",
   "metadata": {},
   "outputs": [],
   "source": [
    "players_per_age = players_per_age[players_per_age['age'] != 0]"
   ]
  },
  {
   "cell_type": "code",
   "execution_count": 181,
   "id": "ad62acff",
   "metadata": {},
   "outputs": [],
   "source": [
    "average_pca_per_age = pca_analysis.groupby('age').mean().reset_index('age')\n",
    "average_pca_per_age = average_pca_per_age[average_pca_per_age['age'] != 0]"
   ]
  },
  {
   "cell_type": "code",
   "execution_count": 229,
   "id": "9ff08733",
   "metadata": {
    "scrolled": true
   },
   "outputs": [
    {
     "data": {
      "image/png": "[encoded data removed]",
      "text/plain": [
       "<Figure size 432x288 with 1 Axes>"
      ]
     },
     "metadata": {
      "needs_background": "light"
     },
     "output_type": "display_data"
    }
   ],
   "source": [
    "plt.plot(players_per_age['age'], players_per_age[0])\n",
    "plt.title('RB Number of Players vs. Age')\n",
    "plt.xlabel('Age')\n",
    "plt.ylabel('Number of Players')\n",
    "plt.savefig('players_v_age.png')\n",
    "plt.show()"
   ]
  },
  {
   "cell_type": "code",
   "execution_count": 230,
   "id": "96ba80ef",
   "metadata": {
    "scrolled": true
   },
   "outputs": [
    {
     "data": {
      "image/png": "[encoded data removed]",
      "text/plain": [
       "<Figure size 432x288 with 1 Axes>"
      ]
     },
     "metadata": {
      "needs_background": "light"
     },
     "output_type": "display_data"
    }
   ],
   "source": [
    "plt.plot(average_pca_per_age['age'], average_pca_per_age['PCA0'])\n",
    "plt.title('Average RB Performance vs. Age')\n",
    "plt.xlabel('Age')\n",
    "plt.ylabel('Average Performance Score')\n",
    "plt.savefig('perf_v_age.png')\n",
    "plt.show()"
   ]
  },
  {
   "cell_type": "markdown",
   "id": "43fb2dc0",
   "metadata": {},
   "source": [
    "# Wide Receiver Plots"
   ]
  },
  {
   "cell_type": "code",
   "execution_count": 140,
   "id": "a378d250",
   "metadata": {},
   "outputs": [],
   "source": [
    "pca = PCA(n_components=1)"
   ]
  },
  {
   "cell_type": "code",
   "execution_count": 195,
   "id": "96be3ab0",
   "metadata": {},
   "outputs": [],
   "source": [
    "wr_pca_analysis = pd.DataFrame(\n",
    "    pca.fit_transform(normalized_wr), \n",
    "    columns=['PCA%i' % i for i in range(1)], \n",
    "    index=normalized_wr.index)"
   ]
  },
  {
   "cell_type": "markdown",
   "id": "f45ba778",
   "metadata": {},
   "source": [
    "# Plot Age vs Feature"
   ]
  },
  {
   "cell_type": "code",
   "execution_count": 198,
   "id": "ad1693fc",
   "metadata": {},
   "outputs": [],
   "source": [
    "wr_pca_analysis.reset_index('age', inplace=True)"
   ]
  },
  {
   "cell_type": "code",
   "execution_count": 220,
   "id": "c4ac66ac",
   "metadata": {},
   "outputs": [],
   "source": [
    "wr_top_50 = wr_pca_analysis.sort_values('PCA0', axis=0, ascending=False).head(50)"
   ]
  },
  {
   "cell_type": "code",
   "execution_count": 222,
   "id": "fe619e42",
   "metadata": {},
   "outputs": [],
   "source": [
    "#wr_top_50"
   ]
  },
  {
   "cell_type": "code",
   "execution_count": 193,
   "id": "fe91a0fc",
   "metadata": {},
   "outputs": [],
   "source": [
    "#top_50.groupby('player_id').size()"
   ]
  },
  {
   "cell_type": "code",
   "execution_count": 194,
   "id": "5158745a",
   "metadata": {
    "scrolled": true
   },
   "outputs": [],
   "source": [
    "#pca_analysis.sort_values('PCA0', axis=0).head(20)"
   ]
  },
  {
   "cell_type": "code",
   "execution_count": 199,
   "id": "d0e4f69e",
   "metadata": {},
   "outputs": [],
   "source": [
    "wr_players_per_age = wr_pca_analysis.groupby('age').size().to_frame().reset_index('age')"
   ]
  },
  {
   "cell_type": "code",
   "execution_count": 200,
   "id": "8cf38d9a",
   "metadata": {},
   "outputs": [],
   "source": [
    "wr_players_per_age = wr_players_per_age[wr_players_per_age['age'] != 0]"
   ]
  },
  {
   "cell_type": "code",
   "execution_count": 201,
   "id": "cc635008",
   "metadata": {},
   "outputs": [],
   "source": [
    "wr_average_pca_per_age = wr_pca_analysis.groupby('age').mean().reset_index('age')\n",
    "wr_average_pca_per_age = wr_average_pca_per_age[wr_average_pca_per_age['age'] != 0]"
   ]
  },
  {
   "cell_type": "code",
   "execution_count": 231,
   "id": "814647d1",
   "metadata": {
    "scrolled": true
   },
   "outputs": [
    {
     "data": {
      "image/png": "[encoded data removed]",
      "text/plain": [
       "<Figure size 432x288 with 1 Axes>"
      ]
     },
     "metadata": {
      "needs_background": "light"
     },
     "output_type": "display_data"
    }
   ],
   "source": [
    "fig, ax = plt.subplots()\n",
    "plt.plot(wr_players_per_age['age'], wr_players_per_age[0])\n",
    "plt.title('WR Player Count vs. Age')\n",
    "plt.xlabel('Age')\n",
    "plt.ylabel('Number of Players')\n",
    "plt.savefig('wr_players_v_age.png')\n",
    "plt.show()"
   ]
  },
  {
   "cell_type": "code",
   "execution_count": 232,
   "id": "10e0e2d5",
   "metadata": {
    "scrolled": true
   },
   "outputs": [
    {
     "data": {
      "image/png": "[encoded data removed]",
      "text/plain": [
       "<Figure size 432x288 with 1 Axes>"
      ]
     },
     "metadata": {
      "needs_background": "light"
     },
     "output_type": "display_data"
    }
   ],
   "source": [
    "fig, ax = plt.subplots()\n",
    "plt.plot(wr_average_pca_per_age['age'], wr_average_pca_per_age['PCA0'])\n",
    "plt.title('Average WR Performance vs. Age')\n",
    "plt.xlabel('Age')\n",
    "plt.ylabel('Average Performance Score')\n",
    "plt.savefig('wr_perf_v_age.png')\n",
    "plt.show()"
   ]
  },
  {
   "cell_type": "markdown",
   "id": "8d8c53cb",
   "metadata": {},
   "source": [
    "# Tight End Plots"
   ]
  },
  {
   "cell_type": "code",
   "execution_count": 140,
   "id": "e21cb33f",
   "metadata": {},
   "outputs": [],
   "source": [
    "pca = PCA(n_components=1)"
   ]
  },
  {
   "cell_type": "code",
   "execution_count": 207,
   "id": "9f16f66f",
   "metadata": {},
   "outputs": [],
   "source": [
    "te_pca_analysis = pd.DataFrame(\n",
    "    pca.fit_transform(normalized_te), \n",
    "    columns=['PCA%i' % i for i in range(1)], \n",
    "    index=normalized_te.index)"
   ]
  },
  {
   "cell_type": "markdown",
   "id": "7e939d80",
   "metadata": {},
   "source": [
    "# Plot Age vs Feature"
   ]
  },
  {
   "cell_type": "code",
   "execution_count": 208,
   "id": "ce3d944b",
   "metadata": {},
   "outputs": [],
   "source": [
    "te_pca_analysis.reset_index('age', inplace=True)"
   ]
  },
  {
   "cell_type": "code",
   "execution_count": 223,
   "id": "60f992ff",
   "metadata": {},
   "outputs": [],
   "source": [
    "te_top_50 = te_pca_analysis.sort_values('PCA0', axis=0, ascending=False).head(50)"
   ]
  },
  {
   "cell_type": "code",
   "execution_count": 225,
   "id": "7a3f8c87",
   "metadata": {},
   "outputs": [],
   "source": [
    "#te_top_50"
   ]
  },
  {
   "cell_type": "code",
   "execution_count": 193,
   "id": "2560b511",
   "metadata": {},
   "outputs": [],
   "source": [
    "#top_50.groupby('player_id').size()"
   ]
  },
  {
   "cell_type": "code",
   "execution_count": 194,
   "id": "e820863b",
   "metadata": {
    "scrolled": true
   },
   "outputs": [],
   "source": [
    "#pca_analysis.sort_values('PCA0', axis=0).head(20)"
   ]
  },
  {
   "cell_type": "code",
   "execution_count": 209,
   "id": "91d5d715",
   "metadata": {},
   "outputs": [],
   "source": [
    "te_players_per_age = te_pca_analysis.groupby('age').size().to_frame().reset_index('age')"
   ]
  },
  {
   "cell_type": "code",
   "execution_count": 210,
   "id": "fd239d86",
   "metadata": {},
   "outputs": [],
   "source": [
    "te_players_per_age = te_players_per_age[te_players_per_age['age'] != 0]"
   ]
  },
  {
   "cell_type": "code",
   "execution_count": 211,
   "id": "32df156c",
   "metadata": {},
   "outputs": [],
   "source": [
    "te_average_pca_per_age = te_pca_analysis.groupby('age').mean().reset_index('age')\n",
    "te_average_pca_per_age = te_average_pca_per_age[te_average_pca_per_age['age'] != 0]"
   ]
  },
  {
   "cell_type": "code",
   "execution_count": 233,
   "id": "ebeffc3d",
   "metadata": {
    "scrolled": true
   },
   "outputs": [
    {
     "data": {
      "image/png": "[encoded data removed]",
      "text/plain": [
       "<Figure size 432x288 with 1 Axes>"
      ]
     },
     "metadata": {
      "needs_background": "light"
     },
     "output_type": "display_data"
    }
   ],
   "source": [
    "fig, ax = plt.subplots()\n",
    "plt.plot(te_players_per_age['age'], te_players_per_age[0])\n",
    "plt.title('TE Player Count vs. Age')\n",
    "plt.xlabel('Age')\n",
    "plt.ylabel('Number of Players')\n",
    "plt.savefig('TE_players_v_age.png')\n",
    "plt.show()"
   ]
  },
  {
   "cell_type": "code",
   "execution_count": 234,
   "id": "e0b04c7e",
   "metadata": {
    "scrolled": false
   },
   "outputs": [
    {
     "data": {
      "image/png": "[encoded data removed]",
      "text/plain": [
       "<Figure size 432x288 with 1 Axes>"
      ]
     },
     "metadata": {
      "needs_background": "light"
     },
     "output_type": "display_data"
    }
   ],
   "source": [
    "\n",
    "plt.plot(te_average_pca_per_age['age'], te_average_pca_per_age['PCA0'])\n",
    "plt.title('Average TE Performance vs. Age')\n",
    "plt.xlabel('Age')\n",
    "plt.ylabel('Average Performance Score')\n",
    "plt.savefig('TE_perf_v_age.png')\n",
    "plt.show()"
   ]
  }
 ],
 "metadata": {
  "kernelspec": {
   "display_name": "Python 3",
   "language": "python",
   "name": "python3"
  },
  "language_info": {
   "codemirror_mode": {
    "name": "ipython",
    "version": 3
   },
   "file_extension": ".py",
   "mimetype": "text/x-python",
   "name": "python",
   "nbconvert_exporter": "python",
   "pygments_lexer": "ipython3",
   "version": "3.8.7"
  }
 },
 "nbformat": 4,
 "nbformat_minor": 5
}
