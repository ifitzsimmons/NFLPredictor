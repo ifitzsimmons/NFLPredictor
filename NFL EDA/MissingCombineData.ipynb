{
 "cells": [
  {
   "cell_type": "markdown",
   "id": "75160274",
   "metadata": {},
   "source": [
    "# Find info about missing combine data.\n",
    "\n",
    "This script will find the percentage of missing data by expected field in the combine data as well as the percentage of players that did not participate in the combine at all."
   ]
  },
  {
   "cell_type": "code",
   "execution_count": 1,
   "id": "fccac22e",
   "metadata": {},
   "outputs": [],
   "source": [
    "import json\n",
    "import os"
   ]
  },
  {
   "cell_type": "code",
   "execution_count": 19,
   "id": "1fdc8259",
   "metadata": {},
   "outputs": [],
   "source": [
    "combine_data = {}\n",
    "for root, _, files in os.walk('./ProData/cleaned/combine'):\n",
    "    for file in files:\n",
    "        with open(f'./ProData/cleaned/combine/{file}') as combine_file:\n",
    "            combine_data = {**combine_data, **json.load(combine_file)  }"
   ]
  },
  {
   "cell_type": "code",
   "execution_count": 23,
   "id": "d6463c38",
   "metadata": {},
   "outputs": [],
   "source": [
    "total_players = len(combine_data.keys())"
   ]
  },
  {
   "cell_type": "code",
   "execution_count": 29,
   "id": "20b7189e",
   "metadata": {},
   "outputs": [],
   "source": [
    "all_combine = list(combine_data.values())"
   ]
  },
  {
   "cell_type": "code",
   "execution_count": 31,
   "id": "ae6f1456",
   "metadata": {},
   "outputs": [],
   "source": [
    "missing_data = {\n",
    "  'height': 0,\n",
    "  'weight': 0,\n",
    "  'forty_yd': 0,\n",
    "  'bench_reps': 0,\n",
    "  'broad_jump': 0,\n",
    "  'shuttle': 0,\n",
    "  'cone': 0,\n",
    "  'vertical': 0,\n",
    "  'DNP': 0  \n",
    "}"
   ]
  },
  {
   "cell_type": "code",
   "execution_count": 34,
   "id": "593570f0",
   "metadata": {},
   "outputs": [],
   "source": [
    "for combine_obj in all_combine:\n",
    "    if not combine_obj:\n",
    "        for key in missing_data:\n",
    "            missing_data[key] += 1\n",
    "    else:\n",
    "        for key, value in combine_obj.items():\n",
    "            if value == 0:\n",
    "                missing_data[key] += 1"
   ]
  },
  {
   "cell_type": "code",
   "execution_count": 35,
   "id": "12367a2f",
   "metadata": {},
   "outputs": [
    {
     "data": {
      "text/plain": [
       "{'height': 806,\n",
       " 'weight': 805,\n",
       " 'forty_yd': 986,\n",
       " 'bench_reps': 2085,\n",
       " 'broad_jump': 1750,\n",
       " 'shuttle': 2285,\n",
       " 'cone': 2341,\n",
       " 'vertical': 1704,\n",
       " 'DNP': 791}"
      ]
     },
     "execution_count": 35,
     "metadata": {},
     "output_type": "execute_result"
    }
   ],
   "source": [
    "missing_data"
   ]
  },
  {
   "cell_type": "code",
   "execution_count": 36,
   "id": "99530f5e",
   "metadata": {},
   "outputs": [],
   "source": [
    "percent_missing = {key: value / total_players for key, value in missing_data.items()}"
   ]
  },
  {
   "cell_type": "code",
   "execution_count": 37,
   "id": "7c9a6c3e",
   "metadata": {},
   "outputs": [
    {
     "data": {
      "text/plain": [
       "{'height': 0.15302828934877538,\n",
       " 'weight': 0.15283842794759825,\n",
       " 'forty_yd': 0.1872033415606607,\n",
       " 'bench_reps': 0.3958610214543383,\n",
       " 'broad_jump': 0.3322574520599962,\n",
       " 'shuttle': 0.43383330168976647,\n",
       " 'cone': 0.44446554015568634,\n",
       " 'vertical': 0.32352382760584775,\n",
       " 'DNP': 0.15018036833111828}"
      ]
     },
     "execution_count": 37,
     "metadata": {},
     "output_type": "execute_result"
    }
   ],
   "source": [
    "percent_missing"
   ]
  }
 ],
 "metadata": {
  "kernelspec": {
   "display_name": "Python 3",
   "language": "python",
   "name": "python3"
  },
  "language_info": {
   "codemirror_mode": {
    "name": "ipython",
    "version": 3
   },
   "file_extension": ".py",
   "mimetype": "text/x-python",
   "name": "python",
   "nbconvert_exporter": "python",
   "pygments_lexer": "ipython3",
   "version": "3.8.7"
  }
 },
 "nbformat": 4,
 "nbformat_minor": 5
}
