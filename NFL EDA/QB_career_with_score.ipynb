{
 "cells": [
  {
   "cell_type": "code",
   "execution_count": 221,
   "id": "d18e66c3",
   "metadata": {},
   "outputs": [],
   "source": [
    "import pandas as pd\n",
    "import numpy as np\n",
    "from sklearn.decomposition import PCA"
   ]
  },
  {
   "cell_type": "code",
   "execution_count": 222,
   "id": "83cb1819",
   "metadata": {},
   "outputs": [],
   "source": [
    "quarterbacks_df = pd.read_csv('./ProData/csvs/qb_stats.csv', header=0)"
   ]
  },
  {
   "cell_type": "code",
   "execution_count": 223,
   "id": "3639d632",
   "metadata": {},
   "outputs": [],
   "source": [
    "drop_columns = [col for col in quarterbacks_df.columns if col.startswith(('catch', 'rec', 'targets'))]"
   ]
  },
  {
   "cell_type": "code",
   "execution_count": 224,
   "id": "b2ac8ffb",
   "metadata": {},
   "outputs": [],
   "source": [
    "drop_columns.extend(['Unnamed: 0', 'team', 'rush_receive_td', 'av'])"
   ]
  },
  {
   "cell_type": "code",
   "execution_count": 225,
   "id": "9ab54fec",
   "metadata": {
    "scrolled": true
   },
   "outputs": [],
   "source": [
    "qbs_df = quarterbacks_df.drop(drop_columns, axis=1)"
   ]
  },
  {
   "cell_type": "code",
   "execution_count": 226,
   "id": "f7a6b714",
   "metadata": {},
   "outputs": [],
   "source": [
    "# Add column with value 1 so that when we group by player \n",
    "# and sum we get a count of the number of seasons\n",
    "qbs_df['season_count'] = 1"
   ]
  },
  {
   "cell_type": "markdown",
   "id": "58963958",
   "metadata": {},
   "source": [
    "# Fill nulls and zeros"
   ]
  },
  {
   "cell_type": "markdown",
   "id": "fe10d004",
   "metadata": {},
   "source": [
    "## Fillna for each player with the player's average\n",
    "QBR was only available starting in 2006 and snap data in 2012. For players that span across those time ranges, use their average to fill data from time before it was available."
   ]
  },
  {
   "cell_type": "code",
   "execution_count": 227,
   "id": "a8b7eb55",
   "metadata": {},
   "outputs": [],
   "source": [
    "fillna_cols = ['qbr', 'snap_played_percentage', 'snaps_played', 'total_snaps']"
   ]
  },
  {
   "cell_type": "code",
   "execution_count": 228,
   "id": "48181a37",
   "metadata": {},
   "outputs": [],
   "source": [
    "def fill_with_player_averages(group):\n",
    "    group[fillna_cols] = group[fillna_cols].replace(0, group[fillna_cols].mean())\n",
    "    group[fillna_cols] = group[fillna_cols].fillna(group[fillna_cols].mean())\n",
    "    return group"
   ]
  },
  {
   "cell_type": "code",
   "execution_count": 229,
   "id": "d3133c54",
   "metadata": {},
   "outputs": [],
   "source": [
    "new = qbs_df.groupby('player_id', as_index=False).apply(fill_with_player_averages)"
   ]
  },
  {
   "cell_type": "markdown",
   "id": "3a86c595",
   "metadata": {},
   "source": [
    "## Fill zeros and nulls with all average"
   ]
  },
  {
   "cell_type": "code",
   "execution_count": 230,
   "id": "9aac0560",
   "metadata": {},
   "outputs": [],
   "source": [
    "new[fillna_cols] = new[fillna_cols].fillna(new[fillna_cols].mean())"
   ]
  },
  {
   "cell_type": "code",
   "execution_count": 231,
   "id": "201805dc",
   "metadata": {},
   "outputs": [],
   "source": [
    "new[fillna_cols] = new[fillna_cols].replace(0, new[fillna_cols].mean())"
   ]
  },
  {
   "cell_type": "code",
   "execution_count": 232,
   "id": "1a4a80df",
   "metadata": {},
   "outputs": [],
   "source": [
    "new.dropna(inplace=True)"
   ]
  },
  {
   "cell_type": "code",
   "execution_count": 233,
   "id": "4067604f",
   "metadata": {},
   "outputs": [
    {
     "data": {
      "text/plain": [
       "1029"
      ]
     },
     "execution_count": 233,
     "metadata": {},
     "output_type": "execute_result"
    }
   ],
   "source": [
    "len(new)"
   ]
  },
  {
   "cell_type": "code",
   "execution_count": 234,
   "id": "7fbdb216",
   "metadata": {},
   "outputs": [
    {
     "data": {
      "text/plain": [
       "1099"
      ]
     },
     "execution_count": 234,
     "metadata": {},
     "output_type": "execute_result"
    }
   ],
   "source": [
    "len(qbs_df)"
   ]
  },
  {
   "cell_type": "markdown",
   "id": "81529b50",
   "metadata": {},
   "source": [
    "# Aggregate career statistics for each player"
   ]
  },
  {
   "cell_type": "code",
   "execution_count": 235,
   "id": "ae9cf842",
   "metadata": {},
   "outputs": [],
   "source": [
    "career_stats = new.groupby('player_id').sum()"
   ]
  },
  {
   "cell_type": "code",
   "execution_count": 251,
   "id": "51a111a9",
   "metadata": {},
   "outputs": [],
   "source": [
    "per_game_avg_fields = [\n",
    "    ('pass_att_per_game', 'pass_att'), \n",
    "    ('pass_yds_per_g', 'pass_yds'), \n",
    "    ('rush_yds_per_g', 'rush_yds'),\n",
    "    ('rush_att_per_g', 'rush_att'),\n",
    "    ('fumbles_per_g', 'fumbles'),\n",
    "    ('pass_td_per_g', 'pass_td'),\n",
    "    ('rush_td_per_g', 'rush_td')\n",
    "]"
   ]
  },
  {
   "cell_type": "code",
   "execution_count": 252,
   "id": "22e49986",
   "metadata": {},
   "outputs": [],
   "source": [
    "for (new_field, metric) in per_game_avg_fields:\n",
    "    career_stats[new_field] = career_stats[metric] / career_stats.g"
   ]
  },
  {
   "cell_type": "code",
   "execution_count": 253,
   "id": "d990957f",
   "metadata": {},
   "outputs": [],
   "source": [
    "career_stats['win_percentage'] = career_stats['wins'] / career_stats.gs\n",
    "career_stats['pass_yds_per_cmp'] = career_stats.pass_yds / career_stats.pass_cmp\n",
    "career_stats['rush_yds_per_att'] = career_stats.rush_yds / career_stats.rush_att\n",
    "career_stats['qbr_avg'] = career_stats.qbr / career_stats.season_count\n",
    "career_stats['avg_pass_rating_per_season'] = career_stats.pass_rating / career_stats.season_count\n",
    "career_stats['snap_percentage'] = career_stats.snaps_played / career_stats.total_snaps"
   ]
  },
  {
   "cell_type": "code",
   "execution_count": 254,
   "id": "16ed3b64",
   "metadata": {},
   "outputs": [],
   "source": [
    "per_attempt_stats = [\n",
    "    ('pass_cmp_perc', 'pass_cmp'), \n",
    "    ('pass_td_perc', 'pass_td'), \n",
    "    ('pass_int_perc', 'pass_int'),\n",
    "    ('pass_yds_per_att', 'pass_yds'),  \n",
    "]"
   ]
  },
  {
   "cell_type": "code",
   "execution_count": 255,
   "id": "fb560aba",
   "metadata": {},
   "outputs": [],
   "source": [
    "for (new_field, metric) in per_attempt_stats:\n",
    "    career_stats[new_field] = career_stats[metric] / career_stats.pass_att"
   ]
  },
  {
   "cell_type": "code",
   "execution_count": 256,
   "id": "a70485ab",
   "metadata": {},
   "outputs": [
    {
     "data": {
      "text/html": [
       "<div>\n",
       "<style scoped>\n",
       "    .dataframe tbody tr th:only-of-type {\n",
       "        vertical-align: middle;\n",
       "    }\n",
       "\n",
       "    .dataframe tbody tr th {\n",
       "        vertical-align: top;\n",
       "    }\n",
       "\n",
       "    .dataframe thead th {\n",
       "        text-align: right;\n",
       "    }\n",
       "</style>\n",
       "<table border=\"1\" class=\"dataframe\">\n",
       "  <thead>\n",
       "    <tr style=\"text-align: right;\">\n",
       "      <th></th>\n",
       "      <th>pass_yds_per_g</th>\n",
       "      <th>pass_cmp_perc</th>\n",
       "      <th>pass_yds_per_cmp</th>\n",
       "      <th>season_count</th>\n",
       "      <th>qbr_avg</th>\n",
       "      <th>win_percentage</th>\n",
       "      <th>avg_pass_rating_per_season</th>\n",
       "      <th>snap_percentage</th>\n",
       "    </tr>\n",
       "    <tr>\n",
       "      <th>player_id</th>\n",
       "      <th></th>\n",
       "      <th></th>\n",
       "      <th></th>\n",
       "      <th></th>\n",
       "      <th></th>\n",
       "      <th></th>\n",
       "      <th></th>\n",
       "      <th></th>\n",
       "    </tr>\n",
       "  </thead>\n",
       "  <tbody>\n",
       "    <tr>\n",
       "      <th>BradTo00</th>\n",
       "      <td>266.358306</td>\n",
       "      <td>0.640707</td>\n",
       "      <td>11.680046</td>\n",
       "      <td>20</td>\n",
       "      <td>67.071591</td>\n",
       "      <td>0.767974</td>\n",
       "      <td>97.9</td>\n",
       "      <td>0.974461</td>\n",
       "    </tr>\n",
       "  </tbody>\n",
       "</table>\n",
       "</div>"
      ],
      "text/plain": [
       "           pass_yds_per_g  pass_cmp_perc  pass_yds_per_cmp  season_count  \\\n",
       "player_id                                                                  \n",
       "BradTo00       266.358306       0.640707         11.680046            20   \n",
       "\n",
       "             qbr_avg  win_percentage  avg_pass_rating_per_season  \\\n",
       "player_id                                                          \n",
       "BradTo00   67.071591        0.767974                        97.9   \n",
       "\n",
       "           snap_percentage  \n",
       "player_id                   \n",
       "BradTo00          0.974461  "
      ]
     },
     "execution_count": 256,
     "metadata": {},
     "output_type": "execute_result"
    }
   ],
   "source": [
    "career_stats.query('player_id == \"BradTo00\"')[[\n",
    "    'pass_yds_per_g', 'pass_cmp_perc', 'pass_yds_per_cmp', 'season_count',\n",
    "    'qbr_avg', 'win_percentage', 'avg_pass_rating_per_season', 'snap_percentage'\n",
    "]]"
   ]
  },
  {
   "cell_type": "markdown",
   "id": "4c498aec",
   "metadata": {},
   "source": [
    "# Remove unecessary fields"
   ]
  },
  {
   "cell_type": "code",
   "execution_count": 282,
   "id": "e1dafdd8",
   "metadata": {
    "scrolled": true
   },
   "outputs": [],
   "source": [
    "player_to_seasons_played = career_stats['season_count']"
   ]
  },
  {
   "cell_type": "code",
   "execution_count": 268,
   "id": "9d9898e6",
   "metadata": {},
   "outputs": [],
   "source": [
    "career_stats_clean = career_stats.drop([\n",
    "    'age', 'fumbles', 'pass_long', 'pass_adj_yds_per_att',\n",
    "    'pass_rating', 'qbr', 'pass_sacked_perc',\n",
    "    'pass_net_yds_per_att', 'pass_adj_net_yds_per_att',\n",
    "    'rush_long', 'touches', 'yds_per_touch', \n",
    "    'yds_from_scrimmage', 'total_snaps', 'snap_played_percentage',\n",
    "    # Test\n",
    "    'g', 'gs', 'snaps_played', 'season_count', 'rush_att', 'rush_td'\n",
    "], axis=1)"
   ]
  },
  {
   "cell_type": "markdown",
   "id": "0e81087b",
   "metadata": {},
   "source": [
    "## Remove Fields that penalize longevity\n",
    "`[pass_int, pass_sacked, pass_sacked_yds, wins, losses, ties]`\n",
    "* use pass_int_perc instead of total interceptions\n",
    "* prefer win percentage to wins/ties/losses"
   ]
  },
  {
   "cell_type": "code",
   "execution_count": 269,
   "id": "a0b93a79",
   "metadata": {},
   "outputs": [],
   "source": [
    "career_stats_clean.drop([\n",
    "    'pass_int', 'pass_sacked', 'pass_sacked_yds', 'wins', 'losses', 'ties',\n",
    "    'pass_cmp', 'pass_att', 'pass_yds', 'pass_td', 'pass_first_down', \n",
    "    'rush_yds', 'rush_first_down',\n",
    "], axis=1, inplace=True)"
   ]
  },
  {
   "cell_type": "code",
   "execution_count": 270,
   "id": "d31e2e1f",
   "metadata": {},
   "outputs": [],
   "source": [
    "normalized_qb_df = career_stats_clean.apply(lambda x: (x - x.min()) / (x.max() - x.min()))"
   ]
  },
  {
   "cell_type": "markdown",
   "id": "da26d003",
   "metadata": {
    "scrolled": false
   },
   "source": [
    "## Penalize Negative fields (lower is better)\n",
    "`[pass_int_perc, fumbles`]"
   ]
  },
  {
   "cell_type": "code",
   "execution_count": 271,
   "id": "7c5e694a",
   "metadata": {},
   "outputs": [],
   "source": [
    "negative_fields = ['pass_int_perc', 'fumbles_per_g']\n",
    "normalized_qb_df[negative_fields] = normalized_qb_df[negative_fields] * -1"
   ]
  },
  {
   "cell_type": "code",
   "execution_count": 272,
   "id": "7aa4f549",
   "metadata": {
    "scrolled": true
   },
   "outputs": [
    {
     "data": {
      "text/plain": [
       "{'pass_cmp_perc': {'BradTo00': 0.6407065068179738},\n",
       " 'pass_td_perc': {'BradTo00': 0.27729477441200695},\n",
       " 'pass_int_perc': {'BradTo00': -0.08968609865470852},\n",
       " 'pass_yds_per_att': {'BradTo00': 0.6525754834531259},\n",
       " 'pass_yds_per_cmp': {'BradTo00': 0.2995286387658906},\n",
       " 'pass_yds_per_g': {'BradTo00': 0.8787632079299167},\n",
       " 'comebacks': {'BradTo00': 1.0},\n",
       " 'gwd': {'BradTo00': 0.9433962264150944},\n",
       " 'rush_yds_per_att': {'BradTo00': 0.3332126696832579},\n",
       " 'rush_yds_per_g': {'BradTo00': 0.09672335531225582},\n",
       " 'rush_att_per_g': {'BradTo00': 0.19047126420712696},\n",
       " 'win_percentage': {'BradTo00': 0.7679738562091504},\n",
       " 'pass_att_per_game': {'BradTo00': 0.8953836759587969},\n",
       " 'fumbles_per_g': {'BradTo00': -0.20846905537459284},\n",
       " 'pass_td_per_g': {'BradTo00': 0.8101998152559676},\n",
       " 'qbr_avg': {'BradTo00': 0.9224737039819683},\n",
       " 'avg_pass_rating_per_season': {'BradTo00': 0.8389031705227078},\n",
       " 'snap_percentage': {'BradTo00': 0.9735966661221027},\n",
       " 'rush_td_per_g': {'BradTo00': 0.15728245695672405}}"
      ]
     },
     "execution_count": 272,
     "metadata": {},
     "output_type": "execute_result"
    }
   ],
   "source": [
    "normalized_qb_df.query('player_id == \"BradTo00\"').to_dict()"
   ]
  },
  {
   "cell_type": "code",
   "execution_count": 273,
   "id": "b62a2ccc",
   "metadata": {},
   "outputs": [],
   "source": [
    "normalized_qb_df.fillna(0, inplace=True)"
   ]
  },
  {
   "cell_type": "code",
   "execution_count": 266,
   "id": "64193620",
   "metadata": {},
   "outputs": [
    {
     "data": {
      "text/plain": [
       "20"
      ]
     },
     "execution_count": 266,
     "metadata": {},
     "output_type": "execute_result"
    }
   ],
   "source": [
    "len(normalized_qb_df.columns)"
   ]
  },
  {
   "cell_type": "code",
   "execution_count": 275,
   "id": "04caff08",
   "metadata": {},
   "outputs": [],
   "source": [
    "pca = PCA(n_components=1)"
   ]
  },
  {
   "cell_type": "code",
   "execution_count": 276,
   "id": "2787e4aa",
   "metadata": {},
   "outputs": [],
   "source": [
    "pca_analysis = pd.DataFrame(\n",
    "    pca.fit_transform(normalized_qb_df), \n",
    "    columns=['PCA%i' % i for i in range(1)], \n",
    "    index=normalized_qb_df.index)"
   ]
  },
  {
   "cell_type": "markdown",
   "id": "55759bad",
   "metadata": {},
   "source": [
    "# Aggregate performance metric with career stats"
   ]
  },
  {
   "cell_type": "code",
   "execution_count": 283,
   "id": "c58b6da9",
   "metadata": {},
   "outputs": [],
   "source": [
    "career_stats_final = pd.merge(player_to_seasons_played, pca_analysis, left_index=True, right_index=True)"
   ]
  },
  {
   "cell_type": "code",
   "execution_count": 284,
   "id": "d34e08f5",
   "metadata": {},
   "outputs": [],
   "source": [
    "career_stats_final['career_score'] = career_stats_final.PCA0\n",
    "career_stats_final.drop('PCA0', axis=1, inplace=True)"
   ]
  },
  {
   "cell_type": "code",
   "execution_count": 285,
   "id": "775cd6b3",
   "metadata": {},
   "outputs": [],
   "source": [
    "career_stats_final.to_csv('./ProData/qb_career_stats_no_career_totals.csv')"
   ]
  },
  {
   "cell_type": "markdown",
   "id": "f1d5ec1d",
   "metadata": {},
   "source": [
    "# Plot Age vs Feature"
   ]
  },
  {
   "cell_type": "code",
   "execution_count": 288,
   "id": "1d56c477",
   "metadata": {},
   "outputs": [],
   "source": [
    "top_50 = career_stats_final.sort_values('career_score', axis=0, ascending=False).head(50)"
   ]
  },
  {
   "cell_type": "code",
   "execution_count": 291,
   "id": "4e34c683",
   "metadata": {},
   "outputs": [
    {
     "data": {
      "text/html": [
       "<div>\n",
       "<style scoped>\n",
       "    .dataframe tbody tr th:only-of-type {\n",
       "        vertical-align: middle;\n",
       "    }\n",
       "\n",
       "    .dataframe tbody tr th {\n",
       "        vertical-align: top;\n",
       "    }\n",
       "\n",
       "    .dataframe thead th {\n",
       "        text-align: right;\n",
       "    }\n",
       "</style>\n",
       "<table border=\"1\" class=\"dataframe\">\n",
       "  <thead>\n",
       "    <tr style=\"text-align: right;\">\n",
       "      <th></th>\n",
       "      <th>career_score</th>\n",
       "      <th>season_count</th>\n",
       "    </tr>\n",
       "    <tr>\n",
       "      <th>player_id</th>\n",
       "      <th></th>\n",
       "      <th></th>\n",
       "    </tr>\n",
       "  </thead>\n",
       "  <tbody>\n",
       "    <tr>\n",
       "      <th>BradTo00</th>\n",
       "      <td>1.299568</td>\n",
       "      <td>20</td>\n",
       "    </tr>\n",
       "    <tr>\n",
       "      <th>BreeDr00</th>\n",
       "      <td>1.258259</td>\n",
       "      <td>20</td>\n",
       "    </tr>\n",
       "    <tr>\n",
       "      <th>RoetBe00</th>\n",
       "      <td>1.142879</td>\n",
       "      <td>18</td>\n",
       "    </tr>\n",
       "    <tr>\n",
       "      <th>MahoPa00</th>\n",
       "      <td>1.137151</td>\n",
       "      <td>5</td>\n",
       "    </tr>\n",
       "    <tr>\n",
       "      <th>RyanMa00</th>\n",
       "      <td>1.107806</td>\n",
       "      <td>14</td>\n",
       "    </tr>\n",
       "    <tr>\n",
       "      <th>WilsRu00</th>\n",
       "      <td>1.105767</td>\n",
       "      <td>10</td>\n",
       "    </tr>\n",
       "    <tr>\n",
       "      <th>RodgAa00</th>\n",
       "      <td>1.078353</td>\n",
       "      <td>17</td>\n",
       "    </tr>\n",
       "    <tr>\n",
       "      <th>StafMa00</th>\n",
       "      <td>1.062311</td>\n",
       "      <td>13</td>\n",
       "    </tr>\n",
       "    <tr>\n",
       "      <th>LuckAn00</th>\n",
       "      <td>1.048096</td>\n",
       "      <td>6</td>\n",
       "    </tr>\n",
       "    <tr>\n",
       "      <th>WatsDe00</th>\n",
       "      <td>0.997253</td>\n",
       "      <td>4</td>\n",
       "    </tr>\n",
       "    <tr>\n",
       "      <th>HerbJu00</th>\n",
       "      <td>0.978008</td>\n",
       "      <td>2</td>\n",
       "    </tr>\n",
       "    <tr>\n",
       "      <th>RivePh00</th>\n",
       "      <td>0.958377</td>\n",
       "      <td>17</td>\n",
       "    </tr>\n",
       "    <tr>\n",
       "      <th>PresDa01</th>\n",
       "      <td>0.939505</td>\n",
       "      <td>6</td>\n",
       "    </tr>\n",
       "    <tr>\n",
       "      <th>AlleJo02</th>\n",
       "      <td>0.935403</td>\n",
       "      <td>4</td>\n",
       "    </tr>\n",
       "    <tr>\n",
       "      <th>NewtCa00</th>\n",
       "      <td>0.909281</td>\n",
       "      <td>10</td>\n",
       "    </tr>\n",
       "    <tr>\n",
       "      <th>MurrKy00</th>\n",
       "      <td>0.893454</td>\n",
       "      <td>3</td>\n",
       "    </tr>\n",
       "    <tr>\n",
       "      <th>TannRy00</th>\n",
       "      <td>0.859064</td>\n",
       "      <td>9</td>\n",
       "    </tr>\n",
       "    <tr>\n",
       "      <th>PalmCa00</th>\n",
       "      <td>0.857208</td>\n",
       "      <td>14</td>\n",
       "    </tr>\n",
       "    <tr>\n",
       "      <th>JackLa00</th>\n",
       "      <td>0.844919</td>\n",
       "      <td>4</td>\n",
       "    </tr>\n",
       "    <tr>\n",
       "      <th>MannEl00</th>\n",
       "      <td>0.834439</td>\n",
       "      <td>16</td>\n",
       "    </tr>\n",
       "  </tbody>\n",
       "</table>\n",
       "</div>"
      ],
      "text/plain": [
       "           career_score  season_count\n",
       "player_id                            \n",
       "BradTo00       1.299568            20\n",
       "BreeDr00       1.258259            20\n",
       "RoetBe00       1.142879            18\n",
       "MahoPa00       1.137151             5\n",
       "RyanMa00       1.107806            14\n",
       "WilsRu00       1.105767            10\n",
       "RodgAa00       1.078353            17\n",
       "StafMa00       1.062311            13\n",
       "LuckAn00       1.048096             6\n",
       "WatsDe00       0.997253             4\n",
       "HerbJu00       0.978008             2\n",
       "RivePh00       0.958377            17\n",
       "PresDa01       0.939505             6\n",
       "AlleJo02       0.935403             4\n",
       "NewtCa00       0.909281            10\n",
       "MurrKy00       0.893454             3\n",
       "TannRy00       0.859064             9\n",
       "PalmCa00       0.857208            14\n",
       "JackLa00       0.844919             4\n",
       "MannEl00       0.834439            16"
      ]
     },
     "execution_count": 291,
     "metadata": {},
     "output_type": "execute_result"
    }
   ],
   "source": [
    "top_50[['career_score', 'season_count']].head(20)"
   ]
  }
 ],
 "metadata": {
  "kernelspec": {
   "display_name": "Python 3",
   "language": "python",
   "name": "python3"
  },
  "language_info": {
   "codemirror_mode": {
    "name": "ipython",
    "version": 3
   },
   "file_extension": ".py",
   "mimetype": "text/x-python",
   "name": "python",
   "nbconvert_exporter": "python",
   "pygments_lexer": "ipython3",
   "version": "3.8.7"
  }
 },
 "nbformat": 4,
 "nbformat_minor": 5
}
