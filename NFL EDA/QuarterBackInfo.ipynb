{
 "cells": [
  {
   "cell_type": "code",
   "execution_count": 1,
   "id": "d18e66c3",
   "metadata": {},
   "outputs": [],
   "source": [
    "import csv\n",
    "import pandas as pd"
   ]
  },
  {
   "cell_type": "code",
   "execution_count": 39,
   "id": "e00d0827",
   "metadata": {},
   "outputs": [],
   "source": [
    "import numpy as np\n",
    "from sklearn.decomposition import PCA"
   ]
  },
  {
   "cell_type": "code",
   "execution_count": 149,
   "id": "83cb1819",
   "metadata": {},
   "outputs": [],
   "source": [
    "quarterbacks_df = pd.read_csv('./ProData/csvs/qb_stats.csv', header=0)"
   ]
  },
  {
   "cell_type": "code",
   "execution_count": 250,
   "id": "3f19f3cf",
   "metadata": {},
   "outputs": [],
   "source": [
    "player_id_and_age_df = quarterbacks_df[['age', 'player_id']].set_index('player_id')"
   ]
  },
  {
   "cell_type": "code",
   "execution_count": 251,
   "id": "3639d632",
   "metadata": {},
   "outputs": [],
   "source": [
    "drop_columns = [col for col in quarterbacks_df.columns if col.startswith(('catch', 'rec', 'targets'))]"
   ]
  },
  {
   "cell_type": "code",
   "execution_count": 252,
   "id": "b2ac8ffb",
   "metadata": {},
   "outputs": [],
   "source": [
    "drop_columns.extend(['Unnamed: 0', 'team', 'rush_receive_td', 'av'])"
   ]
  },
  {
   "cell_type": "code",
   "execution_count": 253,
   "id": "9ab54fec",
   "metadata": {
    "scrolled": true
   },
   "outputs": [],
   "source": [
    "qbs_df = quarterbacks_df.drop(drop_columns, axis=1)"
   ]
  },
  {
   "cell_type": "code",
   "execution_count": 254,
   "id": "afdf2c70",
   "metadata": {},
   "outputs": [],
   "source": [
    "norm_cols = [col for col in qbs_df.columns if col not in ['player_id', 'age']] "
   ]
  },
  {
   "cell_type": "code",
   "execution_count": 255,
   "id": "434ab48d",
   "metadata": {},
   "outputs": [],
   "source": [
    "normalized_qb_df = qbs_df"
   ]
  },
  {
   "cell_type": "code",
   "execution_count": 256,
   "id": "d31e2e1f",
   "metadata": {},
   "outputs": [],
   "source": [
    "normalized_qb_df[norm_cols] = qbs_df[norm_cols].apply(lambda x: (x - x.min()) / (x.max() - x.min()))"
   ]
  },
  {
   "cell_type": "code",
   "execution_count": 257,
   "id": "7a56be44",
   "metadata": {
    "scrolled": false
   },
   "outputs": [
    {
     "data": {
      "text/html": [
       "<div>\n",
       "<style scoped>\n",
       "    .dataframe tbody tr th:only-of-type {\n",
       "        vertical-align: middle;\n",
       "    }\n",
       "\n",
       "    .dataframe tbody tr th {\n",
       "        vertical-align: top;\n",
       "    }\n",
       "\n",
       "    .dataframe thead th {\n",
       "        text-align: right;\n",
       "    }\n",
       "</style>\n",
       "<table border=\"1\" class=\"dataframe\">\n",
       "  <thead>\n",
       "    <tr style=\"text-align: right;\">\n",
       "      <th></th>\n",
       "      <th>age</th>\n",
       "      <th>g</th>\n",
       "      <th>gs</th>\n",
       "      <th>pass_cmp</th>\n",
       "      <th>pass_att</th>\n",
       "      <th>pass_cmp_perc</th>\n",
       "      <th>pass_yds</th>\n",
       "      <th>pass_td</th>\n",
       "      <th>pass_td_perc</th>\n",
       "      <th>pass_int</th>\n",
       "      <th>...</th>\n",
       "      <th>yds_from_scrimmage</th>\n",
       "      <th>fumbles</th>\n",
       "      <th>snaps_played</th>\n",
       "      <th>total_snaps</th>\n",
       "      <th>snap_played_percentage</th>\n",
       "      <th>wins</th>\n",
       "      <th>losses</th>\n",
       "      <th>ties</th>\n",
       "      <th>win_percentage</th>\n",
       "      <th>player_id</th>\n",
       "    </tr>\n",
       "  </thead>\n",
       "  <tbody>\n",
       "    <tr>\n",
       "      <th>0</th>\n",
       "      <td>43</td>\n",
       "      <td>1.0000</td>\n",
       "      <td>1.0000</td>\n",
       "      <td>0.851380</td>\n",
       "      <td>0.839065</td>\n",
       "      <td>0.657</td>\n",
       "      <td>0.846168</td>\n",
       "      <td>0.80</td>\n",
       "      <td>0.132</td>\n",
       "      <td>0.400000</td>\n",
       "      <td>...</td>\n",
       "      <td>0.017199</td>\n",
       "      <td>0.190476</td>\n",
       "      <td>0.842798</td>\n",
       "      <td>0.673750</td>\n",
       "      <td>0.95</td>\n",
       "      <td>0.6875</td>\n",
       "      <td>0.357143</td>\n",
       "      <td>0.0</td>\n",
       "      <td>0.687500</td>\n",
       "      <td>BradTo00</td>\n",
       "    </tr>\n",
       "    <tr>\n",
       "      <th>1</th>\n",
       "      <td>38</td>\n",
       "      <td>0.2500</td>\n",
       "      <td>0.2500</td>\n",
       "      <td>0.193206</td>\n",
       "      <td>0.202201</td>\n",
       "      <td>0.619</td>\n",
       "      <td>0.190876</td>\n",
       "      <td>0.12</td>\n",
       "      <td>0.082</td>\n",
       "      <td>0.166667</td>\n",
       "      <td>...</td>\n",
       "      <td>0.018018</td>\n",
       "      <td>0.142857</td>\n",
       "      <td>0.204115</td>\n",
       "      <td>0.160000</td>\n",
       "      <td>0.97</td>\n",
       "      <td>0.0625</td>\n",
       "      <td>0.214286</td>\n",
       "      <td>0.0</td>\n",
       "      <td>0.250000</td>\n",
       "      <td>MannEl00</td>\n",
       "    </tr>\n",
       "    <tr>\n",
       "      <th>2</th>\n",
       "      <td>38</td>\n",
       "      <td>1.0000</td>\n",
       "      <td>1.0000</td>\n",
       "      <td>0.819533</td>\n",
       "      <td>0.737276</td>\n",
       "      <td>0.720</td>\n",
       "      <td>0.791606</td>\n",
       "      <td>0.46</td>\n",
       "      <td>0.086</td>\n",
       "      <td>0.266667</td>\n",
       "      <td>...</td>\n",
       "      <td>0.022113</td>\n",
       "      <td>0.238095</td>\n",
       "      <td>0.849383</td>\n",
       "      <td>0.645000</td>\n",
       "      <td>1.00</td>\n",
       "      <td>0.6875</td>\n",
       "      <td>0.357143</td>\n",
       "      <td>0.0</td>\n",
       "      <td>0.687500</td>\n",
       "      <td>BreeDr00</td>\n",
       "    </tr>\n",
       "    <tr>\n",
       "      <th>3</th>\n",
       "      <td>38</td>\n",
       "      <td>0.3750</td>\n",
       "      <td>0.0625</td>\n",
       "      <td>0.106157</td>\n",
       "      <td>0.092160</td>\n",
       "      <td>0.746</td>\n",
       "      <td>0.106569</td>\n",
       "      <td>0.06</td>\n",
       "      <td>0.090</td>\n",
       "      <td>0.033333</td>\n",
       "      <td>...</td>\n",
       "      <td>0.009828</td>\n",
       "      <td>0.047619</td>\n",
       "      <td>0.081481</td>\n",
       "      <td>0.257500</td>\n",
       "      <td>0.24</td>\n",
       "      <td>0.0000</td>\n",
       "      <td>0.000000</td>\n",
       "      <td>0.0</td>\n",
       "      <td>0.000000</td>\n",
       "      <td>SchaMa00</td>\n",
       "    </tr>\n",
       "    <tr>\n",
       "      <th>4</th>\n",
       "      <td>38</td>\n",
       "      <td>0.4375</td>\n",
       "      <td>0.4375</td>\n",
       "      <td>0.348195</td>\n",
       "      <td>0.367263</td>\n",
       "      <td>0.614</td>\n",
       "      <td>0.361679</td>\n",
       "      <td>0.18</td>\n",
       "      <td>0.068</td>\n",
       "      <td>0.233333</td>\n",
       "      <td>...</td>\n",
       "      <td>0.022113</td>\n",
       "      <td>0.095238</td>\n",
       "      <td>0.377778</td>\n",
       "      <td>0.301875</td>\n",
       "      <td>0.95</td>\n",
       "      <td>0.1875</td>\n",
       "      <td>0.285714</td>\n",
       "      <td>0.0</td>\n",
       "      <td>0.428571</td>\n",
       "      <td>PalmCa00</td>\n",
       "    </tr>\n",
       "  </tbody>\n",
       "</table>\n",
       "<p>5 rows × 46 columns</p>\n",
       "</div>"
      ],
      "text/plain": [
       "   age       g      gs  pass_cmp  pass_att  pass_cmp_perc  pass_yds  pass_td  \\\n",
       "0   43  1.0000  1.0000  0.851380  0.839065          0.657  0.846168     0.80   \n",
       "1   38  0.2500  0.2500  0.193206  0.202201          0.619  0.190876     0.12   \n",
       "2   38  1.0000  1.0000  0.819533  0.737276          0.720  0.791606     0.46   \n",
       "3   38  0.3750  0.0625  0.106157  0.092160          0.746  0.106569     0.06   \n",
       "4   38  0.4375  0.4375  0.348195  0.367263          0.614  0.361679     0.18   \n",
       "\n",
       "   pass_td_perc  pass_int  ...  yds_from_scrimmage   fumbles  snaps_played  \\\n",
       "0         0.132  0.400000  ...            0.017199  0.190476      0.842798   \n",
       "1         0.082  0.166667  ...            0.018018  0.142857      0.204115   \n",
       "2         0.086  0.266667  ...            0.022113  0.238095      0.849383   \n",
       "3         0.090  0.033333  ...            0.009828  0.047619      0.081481   \n",
       "4         0.068  0.233333  ...            0.022113  0.095238      0.377778   \n",
       "\n",
       "   total_snaps  snap_played_percentage    wins    losses  ties  \\\n",
       "0     0.673750                    0.95  0.6875  0.357143   0.0   \n",
       "1     0.160000                    0.97  0.0625  0.214286   0.0   \n",
       "2     0.645000                    1.00  0.6875  0.357143   0.0   \n",
       "3     0.257500                    0.24  0.0000  0.000000   0.0   \n",
       "4     0.301875                    0.95  0.1875  0.285714   0.0   \n",
       "\n",
       "   win_percentage  player_id  \n",
       "0        0.687500   BradTo00  \n",
       "1        0.250000   MannEl00  \n",
       "2        0.687500   BreeDr00  \n",
       "3        0.000000   SchaMa00  \n",
       "4        0.428571   PalmCa00  \n",
       "\n",
       "[5 rows x 46 columns]"
      ]
     },
     "execution_count": 257,
     "metadata": {},
     "output_type": "execute_result"
    }
   ],
   "source": [
    "normalized_qb_df.head()"
   ]
  },
  {
   "cell_type": "code",
   "execution_count": 258,
   "id": "6104c882",
   "metadata": {
    "scrolled": true
   },
   "outputs": [],
   "source": [
    "normalized_qb_df.set_index(['player_id', 'age'], inplace=True)"
   ]
  },
  {
   "cell_type": "code",
   "execution_count": 347,
   "id": "db039c37",
   "metadata": {
    "scrolled": true
   },
   "outputs": [
    {
     "data": {
      "text/plain": [
       "Index(['g', 'gs', 'pass_cmp', 'pass_att', 'pass_cmp_perc', 'pass_yds',\n",
       "       'pass_td', 'pass_td_perc', 'pass_int', 'pass_int_perc',\n",
       "       'pass_first_down', 'pass_long', 'pass_yds_per_att',\n",
       "       'pass_adj_yds_per_att', 'pass_yds_per_cmp', 'pass_yds_per_g',\n",
       "       'pass_rating', 'qbr', 'pass_sacked', 'pass_sacked_yds',\n",
       "       'pass_sacked_perc', 'pass_net_yds_per_att', 'pass_adj_net_yds_per_att',\n",
       "       'comebacks', 'gwd', 'rush_att', 'rush_yds', 'rush_td',\n",
       "       'rush_first_down', 'rush_long', 'rush_yds_per_att', 'rush_yds_per_g',\n",
       "       'rush_att_per_g', 'touches', 'yds_per_touch', 'yds_from_scrimmage',\n",
       "       'fumbles', 'snaps_played', 'total_snaps', 'snap_played_percentage',\n",
       "       'wins', 'losses', 'ties', 'win_percentage'],\n",
       "      dtype='object')"
      ]
     },
     "execution_count": 347,
     "metadata": {},
     "output_type": "execute_result"
    }
   ],
   "source": [
    "normalized_qb_df.columns"
   ]
  },
  {
   "cell_type": "markdown",
   "id": "3dc96d99",
   "metadata": {},
   "source": [
    "## Fill Null\n",
    "For columns that were always available (not advanced metrics) fill with 0"
   ]
  },
  {
   "cell_type": "code",
   "execution_count": 260,
   "id": "6fdab369",
   "metadata": {},
   "outputs": [],
   "source": [
    "colums_to_fill_with_zero = [\n",
    "    'comebacks', 'fumbles', 'gwd', 'losses', 'pass_adj_net_yds_per_att',\n",
    "    'pass_adj_yds_per_att', 'pass_att', 'pass_cmp', 'pass_cmp_perc', 'pass_first_down',\n",
    "    'pass_int', 'pass_int_perc', 'pass_long', 'pass_net_yds_per_att',\n",
    "    'pass_rating', 'pass_sacked', 'pass_sacked_perc', 'pass_sacked_yds',\n",
    "    'pass_td', 'pass_td_perc', 'pass_yds', 'pass_yds_per_att',\n",
    "    'pass_yds_per_cmp', 'pass_yds_per_g', 'ties', 'win_percentage', 'wins',\n",
    "    'rush_att', 'rush_att_per_g','rush_first_down','rush_long','rush_td',\n",
    "    'rush_yds', 'rush_yds_per_att', 'rush_yds_per_g', 'touches',\n",
    "    'yds_from_scrimmage'\n",
    "]\n",
    "fill_null_object = {key:0 for key in colums_to_fill_with_zero}"
   ]
  },
  {
   "cell_type": "code",
   "execution_count": 312,
   "id": "3b760ccd",
   "metadata": {},
   "outputs": [],
   "source": [
    "df = normalized_qb_df.fillna(value=fill_null_object, axis=0)"
   ]
  },
  {
   "cell_type": "code",
   "execution_count": 313,
   "id": "43773b1b",
   "metadata": {},
   "outputs": [],
   "source": [
    "normal_qb_dropna = df.dropna(axis=1)"
   ]
  },
  {
   "cell_type": "code",
   "execution_count": 263,
   "id": "d84aea31",
   "metadata": {
    "scrolled": true
   },
   "outputs": [
    {
     "data": {
      "text/plain": [
       "['qbr',\n",
       " 'snap_played_percentage',\n",
       " 'snaps_played',\n",
       " 'total_snaps',\n",
       " 'yds_per_touch']"
      ]
     },
     "execution_count": 263,
     "metadata": {},
     "output_type": "execute_result"
    }
   ],
   "source": [
    "sorted(set(df.columns) - set(normal_qb_dropna.columns))"
   ]
  },
  {
   "cell_type": "code",
   "execution_count": 195,
   "id": "0eba4339",
   "metadata": {},
   "outputs": [
    {
     "data": {
      "text/plain": [
       "165"
      ]
     },
     "execution_count": 195,
     "metadata": {},
     "output_type": "execute_result"
    }
   ],
   "source": [
    "len(df[df['qbr'] == 0])"
   ]
  },
  {
   "cell_type": "code",
   "execution_count": 196,
   "id": "b5198c28",
   "metadata": {
    "scrolled": true
   },
   "outputs": [
    {
     "data": {
      "text/plain": [
       "1099"
      ]
     },
     "execution_count": 196,
     "metadata": {},
     "output_type": "execute_result"
    }
   ],
   "source": [
    "len(df)"
   ]
  },
  {
   "cell_type": "code",
   "execution_count": 236,
   "id": "f5f11856",
   "metadata": {},
   "outputs": [
    {
     "data": {
      "text/plain": [
       "1099"
      ]
     },
     "execution_count": 236,
     "metadata": {},
     "output_type": "execute_result"
    }
   ],
   "source": [
    "len(df[df.isnull()])"
   ]
  },
  {
   "cell_type": "markdown",
   "id": "70bb7ce3",
   "metadata": {},
   "source": [
    "## Fillna for each player with the player's average\n",
    "QBR was only available starting in 2006 and snap data in 2012. For players that span across those time ranges, use their average to fill data from time before it was available."
   ]
  },
  {
   "cell_type": "code",
   "execution_count": 264,
   "id": "9c4086f4",
   "metadata": {},
   "outputs": [],
   "source": [
    "fillna_cols = ['qbr', 'snap_played_percentage', 'snaps_played', 'total_snaps']"
   ]
  },
  {
   "cell_type": "code",
   "execution_count": 274,
   "id": "f49eac13",
   "metadata": {},
   "outputs": [],
   "source": [
    "def fill_with_player_averages(group):\n",
    "    group[fillna_cols] = group[fillna_cols].replace(0, group[fillna_cols].mean())\n",
    "    group[fillna_cols] = group[fillna_cols].fillna(group[fillna_cols].mean())\n",
    "    return group"
   ]
  },
  {
   "cell_type": "code",
   "execution_count": 314,
   "id": "1c527eb4",
   "metadata": {},
   "outputs": [],
   "source": [
    "new = df.groupby('player_id', as_index=False).apply(fill_with_player_averages)"
   ]
  },
  {
   "cell_type": "code",
   "execution_count": 315,
   "id": "16d28c7b",
   "metadata": {},
   "outputs": [
    {
     "data": {
      "text/plain": [
       "player_id  age\n",
       "BradTo00   43     0.950\n",
       "           38     0.990\n",
       "           34     0.973\n",
       "           23     0.973\n",
       "           35     0.980\n",
       "           39     0.960\n",
       "           42     0.990\n",
       "           32     0.973\n",
       "           24     0.973\n",
       "           28     0.973\n",
       "           29     0.973\n",
       "           44     0.960\n",
       "           25     0.973\n",
       "           33     0.973\n",
       "           26     0.973\n",
       "           30     0.973\n",
       "           31     0.973\n",
       "           27     0.973\n",
       "           41     0.980\n",
       "           36     1.000\n",
       "           37     0.940\n",
       "           40     0.980\n",
       "Name: snap_played_percentage, dtype: float64"
      ]
     },
     "execution_count": 315,
     "metadata": {},
     "output_type": "execute_result"
    }
   ],
   "source": [
    "new.query('player_id==\"BradTo00\"')['snap_played_percentage']"
   ]
  },
  {
   "cell_type": "markdown",
   "id": "8a301ffd",
   "metadata": {},
   "source": [
    "## Fill zeros and nulls with all average"
   ]
  },
  {
   "cell_type": "code",
   "execution_count": 316,
   "id": "319759c8",
   "metadata": {},
   "outputs": [],
   "source": [
    "new[fillna_cols] = new[fillna_cols].fillna(new[fillna_cols].mean())"
   ]
  },
  {
   "cell_type": "code",
   "execution_count": 317,
   "id": "5c716815",
   "metadata": {},
   "outputs": [],
   "source": [
    "new[fillna_cols] = new[fillna_cols].replace(0, new[fillna_cols].mean())"
   ]
  },
  {
   "cell_type": "code",
   "execution_count": 318,
   "id": "a23cc0cb",
   "metadata": {},
   "outputs": [],
   "source": [
    "normal_qb_dropna = new.dropna(axis=1)"
   ]
  },
  {
   "cell_type": "code",
   "execution_count": 323,
   "id": "9165c6ae",
   "metadata": {
    "scrolled": true
   },
   "outputs": [
    {
     "data": {
      "text/plain": [
       "Index(['g', 'gs', 'pass_cmp', 'pass_att', 'pass_cmp_perc', 'pass_yds',\n",
       "       'pass_td', 'pass_td_perc', 'pass_int', 'pass_int_perc',\n",
       "       'pass_first_down', 'pass_long', 'pass_yds_per_att',\n",
       "       'pass_adj_yds_per_att', 'pass_yds_per_cmp', 'pass_yds_per_g',\n",
       "       'pass_rating', 'qbr', 'pass_sacked', 'pass_sacked_yds',\n",
       "       'pass_sacked_perc', 'pass_net_yds_per_att', 'pass_adj_net_yds_per_att',\n",
       "       'comebacks', 'gwd', 'rush_att', 'rush_yds', 'rush_td',\n",
       "       'rush_first_down', 'rush_long', 'rush_yds_per_att', 'rush_yds_per_g',\n",
       "       'rush_att_per_g', 'touches', 'yds_from_scrimmage', 'fumbles',\n",
       "       'snaps_played', 'total_snaps', 'snap_played_percentage', 'wins',\n",
       "       'losses', 'ties', 'win_percentage'],\n",
       "      dtype='object')"
      ]
     },
     "execution_count": 323,
     "metadata": {},
     "output_type": "execute_result"
    }
   ],
   "source": [
    "normal_qb_dropna.columns"
   ]
  },
  {
   "cell_type": "code",
   "execution_count": 332,
   "id": "04caff08",
   "metadata": {},
   "outputs": [],
   "source": [
    "pca = PCA(n_components=1)"
   ]
  },
  {
   "cell_type": "code",
   "execution_count": 333,
   "id": "2787e4aa",
   "metadata": {},
   "outputs": [],
   "source": [
    "pca_analysis = pd.DataFrame(\n",
    "    pca.fit_transform(normal_qb_dropna), \n",
    "    columns=['PCA%i' % i for i in range(1)], \n",
    "    index=normal_qb_dropna.index)"
   ]
  },
  {
   "cell_type": "markdown",
   "id": "f1d5ec1d",
   "metadata": {},
   "source": [
    "# Plot Age vs Feature"
   ]
  },
  {
   "cell_type": "code",
   "execution_count": 334,
   "id": "fbe6c33d",
   "metadata": {},
   "outputs": [],
   "source": [
    "import matplotlib.pyplot as plt"
   ]
  },
  {
   "cell_type": "code",
   "execution_count": 335,
   "id": "6beacd5e",
   "metadata": {},
   "outputs": [],
   "source": [
    "pca_analysis.reset_index('age', inplace=True)"
   ]
  },
  {
   "cell_type": "code",
   "execution_count": 348,
   "id": "1d56c477",
   "metadata": {},
   "outputs": [],
   "source": [
    "top_50 = pca_analysis.sort_values('PCA0', axis=0, ascending=False).head(50)"
   ]
  },
  {
   "cell_type": "code",
   "execution_count": 362,
   "id": "4e34c683",
   "metadata": {},
   "outputs": [],
   "source": [
    "top50 = top_50.reset_index('player_id')"
   ]
  },
  {
   "cell_type": "code",
   "execution_count": 372,
   "id": "f74c7c54",
   "metadata": {},
   "outputs": [
    {
     "data": {
      "text/html": [
       "<div>\n",
       "<style scoped>\n",
       "    .dataframe tbody tr th:only-of-type {\n",
       "        vertical-align: middle;\n",
       "    }\n",
       "\n",
       "    .dataframe tbody tr th {\n",
       "        vertical-align: top;\n",
       "    }\n",
       "\n",
       "    .dataframe thead th {\n",
       "        text-align: right;\n",
       "    }\n",
       "</style>\n",
       "<table border=\"1\" class=\"dataframe\">\n",
       "  <thead>\n",
       "    <tr style=\"text-align: right;\">\n",
       "      <th></th>\n",
       "      <th>player_id</th>\n",
       "      <th>age</th>\n",
       "      <th>PCA0</th>\n",
       "    </tr>\n",
       "  </thead>\n",
       "  <tbody>\n",
       "  </tbody>\n",
       "</table>\n",
       "</div>"
      ],
      "text/plain": [
       "Empty DataFrame\n",
       "Columns: [player_id, age, PCA0]\n",
       "Index: []"
      ]
     },
     "execution_count": 372,
     "metadata": {},
     "output_type": "execute_result"
    }
   ],
   "source": [
    "sorted_stats = pca_analysis.sort_values('PCA0', axis=0, ascending=False)\n",
    "sorted_stats.reset_index('player_id', inplace=True)\n",
    "sorted_stats[sorted_stats['player_id'] == 'MannPe00']"
   ]
  },
  {
   "cell_type": "code",
   "execution_count": 350,
   "id": "9e991182",
   "metadata": {},
   "outputs": [],
   "source": [
    "#top_50.groupby('player_id').size()"
   ]
  },
  {
   "cell_type": "code",
   "execution_count": 351,
   "id": "49ba3a55",
   "metadata": {},
   "outputs": [],
   "source": [
    "#pca_analysis.sort_values('PCA0', axis=0).head(20)"
   ]
  },
  {
   "cell_type": "code",
   "execution_count": 353,
   "id": "ecd5cbeb",
   "metadata": {},
   "outputs": [],
   "source": [
    "players_per_age = pca_analysis.groupby('age').size().to_frame().reset_index('age')\n",
    "players_per_age = players_per_age[players_per_age['age'] != 0]\n",
    "\n",
    "average_pca_per_age = pca_analysis.groupby('age').mean().reset_index('age')\n",
    "average_pca_per_age = average_pca_per_age[average_pca_per_age['age'] != 0]"
   ]
  },
  {
   "cell_type": "code",
   "execution_count": 373,
   "id": "a31ca2fa",
   "metadata": {},
   "outputs": [
    {
     "data": {
      "image/png": "[encoded data removed]",
      "text/plain": [
       "<Figure size 432x288 with 1 Axes>"
      ]
     },
     "metadata": {
      "needs_background": "light"
     },
     "output_type": "display_data"
    }
   ],
   "source": [
    "plt.plot(players_per_age['age'], players_per_age[0])\n",
    "plt.title('QB Number of Players vs. Age')\n",
    "plt.xlabel('Age')\n",
    "plt.ylabel('Number of Players')\n",
    "plt.savefig('qb_player_v_age.png')\n",
    "plt.show()"
   ]
  },
  {
   "cell_type": "code",
   "execution_count": 374,
   "id": "9ff08733",
   "metadata": {
    "scrolled": true
   },
   "outputs": [
    {
     "data": {
      "image/png": "[encoded data removed]",
      "text/plain": [
       "<Figure size 432x288 with 1 Axes>"
      ]
     },
     "metadata": {
      "needs_background": "light"
     },
     "output_type": "display_data"
    }
   ],
   "source": [
    "plt.plot(average_pca_per_age['age'], average_pca_per_age['PCA0'])\n",
    "plt.title('Average QB Performance vs. Age')\n",
    "plt.xlabel('Age')\n",
    "plt.ylabel('Average Performance Score')\n",
    "plt.savefig('qb_perf_v_age.png')\n",
    "plt.show()"
   ]
  },
  {
   "cell_type": "code",
   "execution_count": 320,
   "id": "e4410127",
   "metadata": {},
   "outputs": [],
   "source": [
    "df_for_plotting = normal_qb_dropna.reset_index('age')"
   ]
  },
  {
   "cell_type": "code",
   "execution_count": 324,
   "id": "9258ec4f",
   "metadata": {
    "scrolled": true
   },
   "outputs": [
    {
     "data": {
      "text/plain": [
       "<matplotlib.collections.PathCollection at 0x15e60e1c0>"
      ]
     },
     "execution_count": 324,
     "metadata": {},
     "output_type": "execute_result"
    },
    {
     "data": {
      "image/png": "[encoded data removed]",
      "text/plain": [
       "<Figure size 432x288 with 1 Axes>"
      ]
     },
     "metadata": {
      "needs_background": "light"
     },
     "output_type": "display_data"
    }
   ],
   "source": [
    "fig, ax = plt.subplots()\n",
    "ax.scatter(df_for_plotting['age'], df_for_plotting['pass_yds_per_g'], c=df_for_plotting['age'])"
   ]
  }
 ],
 "metadata": {
  "kernelspec": {
   "display_name": "Python 3",
   "language": "python",
   "name": "python3"
  },
  "language_info": {
   "codemirror_mode": {
    "name": "ipython",
    "version": 3
   },
   "file_extension": ".py",
   "mimetype": "text/x-python",
   "name": "python",
   "nbconvert_exporter": "python",
   "pygments_lexer": "ipython3",
   "version": "3.8.7"
  }
 },
 "nbformat": 4,
 "nbformat_minor": 5
}
