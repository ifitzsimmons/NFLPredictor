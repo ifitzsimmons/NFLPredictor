{
 "cells": [
  {
   "cell_type": "code",
   "execution_count": 1,
   "id": "d18e66c3",
   "metadata": {},
   "outputs": [],
   "source": [
    "import csv\n",
    "import pandas as pd"
   ]
  },
  {
   "cell_type": "code",
   "execution_count": 2,
   "id": "e00d0827",
   "metadata": {},
   "outputs": [],
   "source": [
    "import numpy as np\n",
    "from sklearn.decomposition import PCA"
   ]
  },
  {
   "cell_type": "code",
   "execution_count": 3,
   "id": "83cb1819",
   "metadata": {},
   "outputs": [],
   "source": [
    "quarterbacks_df = pd.read_csv('./ProData/csvs/qb_stats.csv', header=0)"
   ]
  },
  {
   "cell_type": "code",
   "execution_count": 4,
   "id": "3f19f3cf",
   "metadata": {},
   "outputs": [],
   "source": [
    "player_id_and_age_df = quarterbacks_df[['age', 'player_id']].set_index('player_id')"
   ]
  },
  {
   "cell_type": "code",
   "execution_count": 5,
   "id": "3639d632",
   "metadata": {},
   "outputs": [],
   "source": [
    "drop_columns = [col for col in quarterbacks_df.columns if col.startswith(('catch', 'rec', 'targets'))]"
   ]
  },
  {
   "cell_type": "code",
   "execution_count": 6,
   "id": "b2ac8ffb",
   "metadata": {},
   "outputs": [],
   "source": [
    "drop_columns.extend(['Unnamed: 0', 'team', 'rush_receive_td', 'av'])"
   ]
  },
  {
   "cell_type": "code",
   "execution_count": 7,
   "id": "9ab54fec",
   "metadata": {
    "scrolled": true
   },
   "outputs": [],
   "source": [
    "qbs_df = quarterbacks_df.drop(drop_columns, axis=1)"
   ]
  },
  {
   "cell_type": "markdown",
   "id": "3dc96d99",
   "metadata": {},
   "source": [
    "## Fill Null\n",
    "For columns that were always available (not advanced metrics) fill with 0"
   ]
  },
  {
   "cell_type": "code",
   "execution_count": 8,
   "id": "6fdab369",
   "metadata": {},
   "outputs": [],
   "source": [
    "colums_to_fill_with_zero = [\n",
    "    'comebacks', 'fumbles', 'gwd', 'losses', 'pass_adj_net_yds_per_att',\n",
    "    'pass_adj_yds_per_att', 'pass_att', 'pass_cmp', 'pass_cmp_perc', 'pass_first_down',\n",
    "    'pass_int', 'pass_int_perc', 'pass_long', 'pass_net_yds_per_att',\n",
    "    'pass_rating', 'pass_sacked', 'pass_sacked_perc', 'pass_sacked_yds',\n",
    "    'pass_td', 'pass_td_perc', 'pass_yds', 'pass_yds_per_att',\n",
    "    'pass_yds_per_cmp', 'pass_yds_per_g', 'ties', 'win_percentage', 'wins',\n",
    "    'rush_att', 'rush_att_per_g','rush_first_down','rush_long','rush_td',\n",
    "    'rush_yds', 'rush_yds_per_att', 'rush_yds_per_g', 'touches',\n",
    "    'yds_from_scrimmage'\n",
    "]\n",
    "fill_null_object = {key:0 for key in colums_to_fill_with_zero}"
   ]
  },
  {
   "cell_type": "code",
   "execution_count": 9,
   "id": "3b760ccd",
   "metadata": {},
   "outputs": [],
   "source": [
    "df = qbs_df.fillna(value=fill_null_object, axis=0)"
   ]
  },
  {
   "cell_type": "markdown",
   "id": "70bb7ce3",
   "metadata": {},
   "source": [
    "## Fillna for each player with the player's average\n",
    "QBR was only available starting in 2006 and snap data in 2012. For players that span across those time ranges, use their average to fill data from time before it was available."
   ]
  },
  {
   "cell_type": "code",
   "execution_count": 10,
   "id": "9c4086f4",
   "metadata": {},
   "outputs": [],
   "source": [
    "fillna_cols = ['qbr', 'snap_played_percentage', 'snaps_played', 'total_snaps']"
   ]
  },
  {
   "cell_type": "code",
   "execution_count": 11,
   "id": "f49eac13",
   "metadata": {},
   "outputs": [],
   "source": [
    "def fill_with_player_averages(group):\n",
    "    group[fillna_cols] = group[fillna_cols].replace(0, group[fillna_cols].mean())\n",
    "    group[fillna_cols] = group[fillna_cols].fillna(group[fillna_cols].mean())\n",
    "    return group"
   ]
  },
  {
   "cell_type": "code",
   "execution_count": 12,
   "id": "1c527eb4",
   "metadata": {},
   "outputs": [],
   "source": [
    "new = df.groupby('player_id', as_index=False).apply(fill_with_player_averages)"
   ]
  },
  {
   "cell_type": "code",
   "execution_count": 13,
   "id": "16d28c7b",
   "metadata": {},
   "outputs": [
    {
     "data": {
      "text/plain": [
       "0       0.950\n",
       "8       0.990\n",
       "29      0.973\n",
       "160     0.973\n",
       "206     0.980\n",
       "214     0.960\n",
       "216     0.990\n",
       "248     0.973\n",
       "356     0.973\n",
       "461     0.973\n",
       "541     0.973\n",
       "563     0.960\n",
       "654     0.973\n",
       "717     0.973\n",
       "806     0.973\n",
       "891     0.973\n",
       "943     0.973\n",
       "1023    0.973\n",
       "1050    0.980\n",
       "1060    1.000\n",
       "1083    0.940\n",
       "1098    0.980\n",
       "Name: snap_played_percentage, dtype: float64"
      ]
     },
     "execution_count": 13,
     "metadata": {},
     "output_type": "execute_result"
    }
   ],
   "source": [
    "new.query('player_id==\"BradTo00\"')['snap_played_percentage']"
   ]
  },
  {
   "cell_type": "markdown",
   "id": "8a301ffd",
   "metadata": {},
   "source": [
    "## Fill zeros and nulls with all average"
   ]
  },
  {
   "cell_type": "code",
   "execution_count": 14,
   "id": "319759c8",
   "metadata": {},
   "outputs": [],
   "source": [
    "new[fillna_cols] = new[fillna_cols].fillna(new[fillna_cols].mean())"
   ]
  },
  {
   "cell_type": "code",
   "execution_count": 15,
   "id": "5c716815",
   "metadata": {},
   "outputs": [],
   "source": [
    "new[fillna_cols] = new[fillna_cols].replace(0, new[fillna_cols].mean())"
   ]
  },
  {
   "cell_type": "code",
   "execution_count": 16,
   "id": "a23cc0cb",
   "metadata": {},
   "outputs": [],
   "source": [
    "qb_dropna = new.dropna(axis=1)"
   ]
  },
  {
   "cell_type": "code",
   "execution_count": 17,
   "id": "9165c6ae",
   "metadata": {
    "scrolled": false
   },
   "outputs": [
    {
     "data": {
      "text/plain": [
       "Index(['age', 'g', 'gs', 'pass_cmp', 'pass_att', 'pass_cmp_perc', 'pass_yds',\n",
       "       'pass_td', 'pass_td_perc', 'pass_int', 'pass_int_perc',\n",
       "       'pass_first_down', 'pass_long', 'pass_yds_per_att',\n",
       "       'pass_adj_yds_per_att', 'pass_yds_per_cmp', 'pass_yds_per_g',\n",
       "       'pass_rating', 'qbr', 'pass_sacked', 'pass_sacked_yds',\n",
       "       'pass_sacked_perc', 'pass_net_yds_per_att', 'pass_adj_net_yds_per_att',\n",
       "       'comebacks', 'gwd', 'rush_att', 'rush_yds', 'rush_td',\n",
       "       'rush_first_down', 'rush_long', 'rush_yds_per_att', 'rush_yds_per_g',\n",
       "       'rush_att_per_g', 'touches', 'yds_from_scrimmage', 'fumbles',\n",
       "       'snaps_played', 'total_snaps', 'snap_played_percentage', 'wins',\n",
       "       'losses', 'ties', 'win_percentage', 'player_id', 'position'],\n",
       "      dtype='object')"
      ]
     },
     "execution_count": 17,
     "metadata": {},
     "output_type": "execute_result"
    }
   ],
   "source": [
    "qb_dropna.columns"
   ]
  },
  {
   "cell_type": "code",
   "execution_count": 26,
   "id": "92bd0bf2",
   "metadata": {},
   "outputs": [],
   "source": [
    "age_group = qb_dropna.groupby('age').mean().reset_index('age')"
   ]
  },
  {
   "cell_type": "markdown",
   "id": "f1d5ec1d",
   "metadata": {},
   "source": [
    "# Plot Age vs Feature"
   ]
  },
  {
   "cell_type": "code",
   "execution_count": 19,
   "id": "fbe6c33d",
   "metadata": {},
   "outputs": [],
   "source": [
    "import matplotlib.pyplot as plt"
   ]
  },
  {
   "cell_type": "code",
   "execution_count": 29,
   "id": "ee8a4087",
   "metadata": {
    "scrolled": true
   },
   "outputs": [],
   "source": [
    "age_group = age_group[age_group['age'] != 0]"
   ]
  },
  {
   "cell_type": "code",
   "execution_count": 34,
   "id": "bf829894",
   "metadata": {},
   "outputs": [
    {
     "data": {
      "image/png": "[encoded data removed]",
      "text/plain": [
       "<Figure size 432x288 with 1 Axes>"
      ]
     },
     "metadata": {
      "needs_background": "light"
     },
     "output_type": "display_data"
    }
   ],
   "source": [
    "fig = plt.figure()\n",
    "plt.bar(age_group['age'], age_group['pass_yds'])\n",
    "plt.xlabel('age')\n",
    "plt.ylabel('Average Passing Yards')\n",
    "plt.title('Average Passing Yards vs. Age')\n",
    "plt.show()"
   ]
  },
  {
   "cell_type": "code",
   "execution_count": 35,
   "id": "1a2a5696",
   "metadata": {},
   "outputs": [
    {
     "data": {
      "image/png": "[encoded data removed]",
      "text/plain": [
       "<Figure size 432x288 with 1 Axes>"
      ]
     },
     "metadata": {
      "needs_background": "light"
     },
     "output_type": "display_data"
    }
   ],
   "source": [
    "fig = plt.figure()\n",
    "plt.bar(age_group['age'], age_group['pass_rating'])\n",
    "plt.xlabel('age')\n",
    "plt.ylabel('Average Passer Rating')\n",
    "plt.title('Average Passer Rating vs. Age')\n",
    "plt.show()"
   ]
  },
  {
   "cell_type": "code",
   "execution_count": 36,
   "id": "9c0a8200",
   "metadata": {},
   "outputs": [
    {
     "data": {
      "image/png": "[encoded data removed]",
      "text/plain": [
       "<Figure size 432x288 with 1 Axes>"
      ]
     },
     "metadata": {
      "needs_background": "light"
     },
     "output_type": "display_data"
    }
   ],
   "source": [
    "fig = plt.figure()\n",
    "plt.bar(age_group['age'], age_group['pass_int_perc'])\n",
    "plt.xlabel('age')\n",
    "plt.ylabel('Average Intercepted Pass Percentage')\n",
    "plt.title('verage Intercepted Pass Percentage vs. Age')\n",
    "plt.show()"
   ]
  },
  {
   "cell_type": "code",
   "execution_count": 37,
   "id": "4841fc12",
   "metadata": {},
   "outputs": [
    {
     "data": {
      "image/png": "[encoded data removed]",
      "text/plain": [
       "<Figure size 432x288 with 1 Axes>"
      ]
     },
     "metadata": {
      "needs_background": "light"
     },
     "output_type": "display_data"
    }
   ],
   "source": [
    "fig = plt.figure()\n",
    "plt.bar(age_group['age'], age_group['pass_yds_per_att'])\n",
    "plt.xlabel('age')\n",
    "plt.ylabel('Average Passing Yard per Attempt')\n",
    "plt.title('Average Passing Yard per Attempt vs. Age')\n",
    "plt.show()"
   ]
  }
 ],
 "metadata": {
  "kernelspec": {
   "display_name": "Python 3",
   "language": "python",
   "name": "python3"
  },
  "language_info": {
   "codemirror_mode": {
    "name": "ipython",
    "version": 3
   },
   "file_extension": ".py",
   "mimetype": "text/x-python",
   "name": "python",
   "nbconvert_exporter": "python",
   "pygments_lexer": "ipython3",
   "version": "3.8.7"
  }
 },
 "nbformat": 4,
 "nbformat_minor": 5
}
