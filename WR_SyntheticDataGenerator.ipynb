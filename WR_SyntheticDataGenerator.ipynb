{
 "cells": [
  {
   "cell_type": "markdown",
   "metadata": {},
   "source": [
    "## Generate more WR sample data"
   ]
  },
  {
   "cell_type": "code",
   "execution_count": 6,
   "metadata": {},
   "outputs": [
    {
     "name": "stdout",
     "output_type": "stream",
     "text": [
      "\u001b[33mDEPRECATION: Configuring installation scheme with distutils config files is deprecated and will no longer work in the near future. If you are using a Homebrew or Linuxbrew Python, please see discussion at https://github.com/Homebrew/homebrew-core/issues/76621\u001b[0m\n",
      "Requirement already satisfied: pandas in /opt/homebrew/lib/python3.9/site-packages (1.4.1)\n",
      "Requirement already satisfied: sklearn in /opt/homebrew/lib/python3.9/site-packages (0.0)\n",
      "Requirement already satisfied: pytz>=2020.1 in /opt/homebrew/lib/python3.9/site-packages (from pandas) (2021.3)\n",
      "Requirement already satisfied: numpy>=1.20.0 in /opt/homebrew/lib/python3.9/site-packages (from pandas) (1.22.2)\n",
      "Requirement already satisfied: python-dateutil>=2.8.1 in /opt/homebrew/lib/python3.9/site-packages (from pandas) (2.8.2)\n",
      "Requirement already satisfied: scikit-learn in /opt/homebrew/lib/python3.9/site-packages (from sklearn) (1.0.2)\n",
      "Requirement already satisfied: six>=1.5 in /opt/homebrew/lib/python3.9/site-packages (from python-dateutil>=2.8.1->pandas) (1.16.0)\n",
      "Requirement already satisfied: scipy>=1.1.0 in /opt/homebrew/lib/python3.9/site-packages (from scikit-learn->sklearn) (1.8.0)\n",
      "Requirement already satisfied: threadpoolctl>=2.0.0 in /opt/homebrew/lib/python3.9/site-packages (from scikit-learn->sklearn) (3.1.0)\n",
      "Requirement already satisfied: joblib>=0.11 in /opt/homebrew/lib/python3.9/site-packages (from scikit-learn->sklearn) (1.1.0)\n",
      "\u001b[33mWARNING: You are using pip version 21.3.1; however, version 22.0.3 is available.\n",
      "You should consider upgrading via the '/opt/homebrew/opt/python@3.9/bin/python3.9 -m pip install --upgrade pip' command.\u001b[0m\n",
      "\u001b[33mDEPRECATION: Configuring installation scheme with distutils config files is deprecated and will no longer work in the near future. If you are using a Homebrew or Linuxbrew Python, please see discussion at https://github.com/Homebrew/homebrew-core/issues/76621\u001b[0m\n",
      "Requirement already satisfied: matplotlib in /opt/homebrew/lib/python3.9/site-packages (3.5.1)\n",
      "Requirement already satisfied: fonttools>=4.22.0 in /opt/homebrew/lib/python3.9/site-packages (from matplotlib) (4.29.1)\n",
      "Requirement already satisfied: pillow>=6.2.0 in /opt/homebrew/lib/python3.9/site-packages (from matplotlib) (9.0.1)\n",
      "Requirement already satisfied: kiwisolver>=1.0.1 in /opt/homebrew/lib/python3.9/site-packages (from matplotlib) (1.3.2)\n",
      "Requirement already satisfied: pyparsing>=2.2.1 in /opt/homebrew/lib/python3.9/site-packages (from matplotlib) (3.0.7)\n",
      "Requirement already satisfied: cycler>=0.10 in /opt/homebrew/lib/python3.9/site-packages (from matplotlib) (0.11.0)\n",
      "Requirement already satisfied: python-dateutil>=2.7 in /opt/homebrew/lib/python3.9/site-packages (from matplotlib) (2.8.2)\n",
      "Requirement already satisfied: numpy>=1.17 in /opt/homebrew/lib/python3.9/site-packages (from matplotlib) (1.22.2)\n",
      "Requirement already satisfied: packaging>=20.0 in /opt/homebrew/lib/python3.9/site-packages (from matplotlib) (21.3)\n",
      "Requirement already satisfied: six>=1.5 in /opt/homebrew/lib/python3.9/site-packages (from python-dateutil>=2.7->matplotlib) (1.16.0)\n",
      "\u001b[33mWARNING: You are using pip version 21.3.1; however, version 22.0.3 is available.\n",
      "You should consider upgrading via the '/opt/homebrew/opt/python@3.9/bin/python3.9 -m pip install --upgrade pip' command.\u001b[0m\n"
     ]
    }
   ],
   "source": [
    "!pip3 install pandas sklearn\n",
    "!pip3 install matplotlib"
   ]
  },
  {
   "cell_type": "code",
   "execution_count": 26,
   "metadata": {},
   "outputs": [],
   "source": [
    "import json\n",
    "import pandas as pd\n",
    "import re\n",
    "from sklearn.metrics import confusion_matrix\n",
    "from sklearn.model_selection import train_test_split"
   ]
  },
  {
   "cell_type": "code",
   "execution_count": 8,
   "metadata": {},
   "outputs": [],
   "source": [
    "import numpy as np\n",
    "\n",
    "# Needed for plotting\n",
    "import matplotlib.colors\n",
    "import matplotlib.pyplot as plt\n",
    "from mpl_toolkits.mplot3d import Axes3D\n",
    "\n",
    "# Needed for generating classification, regression and clustering datasets\n",
    "import sklearn.datasets as dt\n",
    "\n",
    "# Needed for generating data from an existing dataset\n",
    "from sklearn.neighbors import KernelDensity\n",
    "from sklearn.model_selection import GridSearchCV"
   ]
  },
  {
   "cell_type": "markdown",
   "metadata": {},
   "source": [
    "# Import College and Pro Datasets"
   ]
  },
  {
   "cell_type": "code",
   "execution_count": 9,
   "metadata": {},
   "outputs": [],
   "source": [
    "skill_players = pd.read_csv('../ProData/csvs/skill_player_stats.csv', header=0)\n",
    "college_wr_data = pd.read_csv('../CollegeData/all_receiving.csv')"
   ]
  },
  {
   "cell_type": "markdown",
   "metadata": {},
   "source": [
    "# Aggregate Pro Data and Standardize"
   ]
  },
  {
   "cell_type": "code",
   "execution_count": 10,
   "metadata": {},
   "outputs": [],
   "source": [
    "drop_columns = ['Unnamed: 0', 'team', 'av']"
   ]
  },
  {
   "cell_type": "code",
   "execution_count": 11,
   "metadata": {},
   "outputs": [],
   "source": [
    "skills_df = skill_players.drop(drop_columns, axis=1)"
   ]
  },
  {
   "cell_type": "code",
   "execution_count": 12,
   "metadata": {},
   "outputs": [],
   "source": [
    "# Add column with value 1 so that when we group by player \n",
    "# and sum we get a count of the number of seasons\n",
    "skills_df['season_count'] = 1"
   ]
  },
  {
   "cell_type": "markdown",
   "metadata": {},
   "source": [
    "## Fill null with the player's average"
   ]
  },
  {
   "cell_type": "code",
   "execution_count": 13,
   "metadata": {},
   "outputs": [],
   "source": [
    "fillna_cols = ['snap_played_percentage', 'snaps_played', 'total_snaps']\n",
    "\n",
    "def fill_with_player_averages(group):\n",
    "    group[fillna_cols] = group[fillna_cols].fillna(group[fillna_cols].mean())\n",
    "    return group"
   ]
  },
  {
   "cell_type": "code",
   "execution_count": 14,
   "metadata": {},
   "outputs": [],
   "source": [
    "new = skills_df.groupby('player_id', as_index=False).apply(fill_with_player_averages)"
   ]
  },
  {
   "cell_type": "markdown",
   "metadata": {},
   "source": [
    "## For any left over nulls, fill with position average for games started"
   ]
  },
  {
   "cell_type": "code",
   "execution_count": 15,
   "metadata": {},
   "outputs": [],
   "source": [
    "new[fillna_cols] = new[fillna_cols].fillna(new[fillna_cols].mean())"
   ]
  },
  {
   "cell_type": "code",
   "execution_count": 16,
   "metadata": {},
   "outputs": [],
   "source": [
    "new[fillna_cols] = new[fillna_cols].replace(0, new[fillna_cols].mean())"
   ]
  },
  {
   "cell_type": "code",
   "execution_count": 17,
   "metadata": {},
   "outputs": [],
   "source": [
    "new.dropna(inplace=True)"
   ]
  },
  {
   "cell_type": "markdown",
   "id": "e017976c",
   "metadata": {},
   "source": [
    "## Map player_id to position\n",
    "After grouping and aggregating data, non-numeric features will be removed. By saving the position and player ID, we can add the position back to the player's data after aggregation."
   ]
  },
  {
   "cell_type": "code",
   "execution_count": 18,
   "metadata": {},
   "outputs": [],
   "source": [
    "player_to_position = new[['player_id', 'position']].drop_duplicates().set_index('player_id')"
   ]
  },
  {
   "cell_type": "markdown",
   "metadata": {},
   "source": [
    "# Aggregate career statistics for each player\n",
    "Roll up every season each player playerd into one data point using averages and percentages as opposed to career totals."
   ]
  },
  {
   "cell_type": "code",
   "execution_count": 19,
   "id": "ae9cf842",
   "metadata": {},
   "outputs": [],
   "source": [
    "career_stats = new.groupby('player_id').sum()"
   ]
  },
  {
   "cell_type": "code",
   "execution_count": 20,
   "id": "1b0638bf",
   "metadata": {},
   "outputs": [],
   "source": [
    "fields_to_divide_by_season = [\n",
    "    'rec_yds_per_rec', 'catch_pct', 'rec_yds_per_tgt',\n",
    "    'rush_yds_per_att', 'rush_att_per_g', 'yds_per_touch'\n",
    "]\n",
    "\n",
    "fields_to_divide_by_season.extend([col for col in career_stats.columns if col.endswith('per_g')])"
   ]
  },
  {
   "cell_type": "code",
   "execution_count": 21,
   "id": "533c059e",
   "metadata": {},
   "outputs": [],
   "source": [
    "for field in fields_to_divide_by_season:\n",
    "    career_stats[field] = career_stats[field] / career_stats.season_count"
   ]
  },
  {
   "cell_type": "code",
   "execution_count": 22,
   "id": "787f7924",
   "metadata": {},
   "outputs": [],
   "source": [
    "per_game_avg_fields = [\n",
    "    ('targets_per_g', 'targets'),\n",
    "    ('touches_per_g', 'touches'),\n",
    "    ('yds_from_scrimmage_per_g', 'yds_from_scrimmage'),\n",
    "    ('rush_receive_td_per_g', 'rush_receive_td'),\n",
    "    ('rec_td_per_g', 'rec_td'),\n",
    "    ('rush_first_down_per_g', 'rush_first_down'),\n",
    "    ('fumbles_per_g', 'fumbles'),\n",
    "    ('rush_td_per_g', 'rush_td'),\n",
    "    ('rec_first_down_per_g', 'rec_first_down'),\n",
    "]"
   ]
  },
  {
   "cell_type": "code",
   "execution_count": 23,
   "id": "c6433693",
   "metadata": {},
   "outputs": [],
   "source": [
    "for (new_field, metric) in per_game_avg_fields:\n",
    "    career_stats[new_field] = career_stats[metric] / career_stats.g"
   ]
  },
  {
   "cell_type": "code",
   "execution_count": 24,
   "id": "d990957f",
   "metadata": {},
   "outputs": [],
   "source": [
    "career_stats['snap_percentage'] = career_stats.snaps_played / career_stats.total_snaps"
   ]
  },
  {
   "cell_type": "code",
   "execution_count": 75,
   "id": "c7370e31",
   "metadata": {},
   "outputs": [],
   "source": [
    "def get_fields_to_remove(career_stats):\n",
    "    per_game_fields = [col for col in career_stats.columns if col.endswith('per_g')]\n",
    "    not_per_game_fields = [col for col in career_stats.columns if not col.endswith('per_g')]\n",
    "\n",
    "    fields_to_remove = []\n",
    "\n",
    "    for field in not_per_game_fields:\n",
    "        for field_2 in per_game_fields:\n",
    "            base_field = re.match('.*(?=_per_g)', field_2)\n",
    "            if base_field[0] == field:\n",
    "                fields_to_remove.append(field)\n",
    "                continue\n",
    "    return fields_to_remove\n",
    "\n",
    "pro_fields_to_remove = get_fields_to_remove(career_stats)\n",
    "pro_fields_to_remove.extend([\n",
    "    'age', 'rec_long', 'rush_long', 'total_snaps', \n",
    "    'snap_played_percentage','g', 'gs', 'snaps_played'\n",
    "])"
   ]
  },
  {
   "cell_type": "code",
   "execution_count": 28,
   "id": "f0db7483",
   "metadata": {},
   "outputs": [],
   "source": [
    "career_stats = career_stats.drop(pro_fields_to_remove, axis=1)"
   ]
  },
  {
   "cell_type": "code",
   "execution_count": 29,
   "id": "a70485ab",
   "metadata": {
    "scrolled": true
   },
   "outputs": [
    {
     "data": {
      "text/html": [
       "<div>\n",
       "<style scoped>\n",
       "    .dataframe tbody tr th:only-of-type {\n",
       "        vertical-align: middle;\n",
       "    }\n",
       "\n",
       "    .dataframe tbody tr th {\n",
       "        vertical-align: top;\n",
       "    }\n",
       "\n",
       "    .dataframe thead th {\n",
       "        text-align: right;\n",
       "    }\n",
       "</style>\n",
       "<table border=\"1\" class=\"dataframe\">\n",
       "  <thead>\n",
       "    <tr style=\"text-align: right;\">\n",
       "      <th></th>\n",
       "      <th>rec_yds_per_rec</th>\n",
       "      <th>rec_per_g</th>\n",
       "      <th>rec_yds_per_g</th>\n",
       "      <th>catch_pct</th>\n",
       "      <th>rec_yds_per_tgt</th>\n",
       "      <th>rush_yds_per_att</th>\n",
       "      <th>rush_yds_per_g</th>\n",
       "      <th>rush_att_per_g</th>\n",
       "      <th>yds_per_touch</th>\n",
       "      <th>season_count</th>\n",
       "      <th>targets_per_g</th>\n",
       "      <th>touches_per_g</th>\n",
       "      <th>yds_from_scrimmage_per_g</th>\n",
       "      <th>rush_receive_td_per_g</th>\n",
       "      <th>rec_td_per_g</th>\n",
       "      <th>rush_first_down_per_g</th>\n",
       "      <th>fumbles_per_g</th>\n",
       "      <th>rush_td_per_g</th>\n",
       "      <th>rec_first_down_per_g</th>\n",
       "      <th>snap_percentage</th>\n",
       "    </tr>\n",
       "    <tr>\n",
       "      <th>player_id</th>\n",
       "      <th></th>\n",
       "      <th></th>\n",
       "      <th></th>\n",
       "      <th></th>\n",
       "      <th></th>\n",
       "      <th></th>\n",
       "      <th></th>\n",
       "      <th></th>\n",
       "      <th></th>\n",
       "      <th></th>\n",
       "      <th></th>\n",
       "      <th></th>\n",
       "      <th></th>\n",
       "      <th></th>\n",
       "      <th></th>\n",
       "      <th></th>\n",
       "      <th></th>\n",
       "      <th></th>\n",
       "      <th></th>\n",
       "      <th></th>\n",
       "    </tr>\n",
       "  </thead>\n",
       "  <tbody>\n",
       "    <tr>\n",
       "      <th>AdamDa01</th>\n",
       "      <td>12.0875</td>\n",
       "      <td>5.75</td>\n",
       "      <td>70.3125</td>\n",
       "      <td>63.875</td>\n",
       "      <td>7.75</td>\n",
       "      <td>0.0</td>\n",
       "      <td>0.0</td>\n",
       "      <td>0.0</td>\n",
       "      <td>12.0875</td>\n",
       "      <td>8</td>\n",
       "      <td>8.611111</td>\n",
       "      <td>5.592593</td>\n",
       "      <td>68.092593</td>\n",
       "      <td>0.601852</td>\n",
       "      <td>0.601852</td>\n",
       "      <td>0.0</td>\n",
       "      <td>0.046296</td>\n",
       "      <td>0.0</td>\n",
       "      <td>3.37963</td>\n",
       "      <td>0.832297</td>\n",
       "    </tr>\n",
       "  </tbody>\n",
       "</table>\n",
       "</div>"
      ],
      "text/plain": [
       "           rec_yds_per_rec  rec_per_g  rec_yds_per_g  catch_pct  \\\n",
       "player_id                                                         \n",
       "AdamDa01           12.0875       5.75        70.3125     63.875   \n",
       "\n",
       "           rec_yds_per_tgt  rush_yds_per_att  rush_yds_per_g  rush_att_per_g  \\\n",
       "player_id                                                                      \n",
       "AdamDa01              7.75               0.0             0.0             0.0   \n",
       "\n",
       "           yds_per_touch  season_count  targets_per_g  touches_per_g  \\\n",
       "player_id                                                              \n",
       "AdamDa01         12.0875             8       8.611111       5.592593   \n",
       "\n",
       "           yds_from_scrimmage_per_g  rush_receive_td_per_g  rec_td_per_g  \\\n",
       "player_id                                                                  \n",
       "AdamDa01                  68.092593               0.601852      0.601852   \n",
       "\n",
       "           rush_first_down_per_g  fumbles_per_g  rush_td_per_g  \\\n",
       "player_id                                                        \n",
       "AdamDa01                     0.0       0.046296            0.0   \n",
       "\n",
       "           rec_first_down_per_g  snap_percentage  \n",
       "player_id                                         \n",
       "AdamDa01                3.37963         0.832297  "
      ]
     },
     "execution_count": 29,
     "metadata": {},
     "output_type": "execute_result"
    }
   ],
   "source": [
    "career_stats.query('player_id == \"AdamDa01\"')"
   ]
  },
  {
   "cell_type": "markdown",
   "metadata": {},
   "source": [
    "## Add position back to dataset"
   ]
  },
  {
   "cell_type": "code",
   "execution_count": 30,
   "metadata": {},
   "outputs": [],
   "source": [
    "career_stats_with_position = career_stats.join(player_to_position)"
   ]
  },
  {
   "cell_type": "markdown",
   "metadata": {},
   "source": [
    "## Extract WR Data"
   ]
  },
  {
   "cell_type": "code",
   "execution_count": 33,
   "metadata": {},
   "outputs": [],
   "source": [
    "wr_data = career_stats_with_position[career_stats_with_position.position == 'WR']"
   ]
  },
  {
   "cell_type": "code",
   "execution_count": null,
   "metadata": {},
   "outputs": [],
   "source": []
  },
  {
   "cell_type": "markdown",
   "metadata": {},
   "source": [
    "# Aggregate College Dataset"
   ]
  },
  {
   "cell_type": "code",
   "execution_count": 79,
   "metadata": {},
   "outputs": [],
   "source": [
    "college_wr_data['season_count'] = 1\n",
    "grouped_data = college_wr_data.groupby('playerId').sum()\n",
    "college_feature_data = grouped_data\n",
    "for feature in grouped_data:\n",
    "    if feature == 'g':\n",
    "        college_feature_data['g'] = grouped_data['g']\n",
    "        continue\n",
    "    elif '_per_' in feature:\n",
    "        college_feature_data[feature] = college_feature_data[feature] / college_feature_data.season_count\n",
    "    else:\n",
    "        college_feature_data[f'{feature}_per_g'] = grouped_data[feature] / grouped_data['g']"
   ]
  },
  {
   "cell_type": "code",
   "execution_count": 83,
   "metadata": {},
   "outputs": [],
   "source": [
    "college_fields_to_remove = get_fields_to_remove(college_feature_data)\n",
    "college_fields_to_remove.append('season_count_per_g')\n",
    "college_feature_data.drop(college_fields_to_remove, axis=1, inplace=True)"
   ]
  },
  {
   "cell_type": "code",
   "execution_count": 84,
   "metadata": {
    "scrolled": true
   },
   "outputs": [
    {
     "data": {
      "text/plain": [
       "Index(['g', 'rec_yds_per_rec', 'rush_yds_per_att', 'scrim_yds_per_att',\n",
       "       'rec_per_g', 'rec_yds_per_g', 'rec_td_per_g', 'rush_att_per_g',\n",
       "       'rush_yds_per_g', 'rush_td_per_g', 'scrim_att_per_g', 'scrim_yds_per_g',\n",
       "       'scrim_td_per_g'],\n",
       "      dtype='object')"
      ]
     },
     "execution_count": 84,
     "metadata": {},
     "output_type": "execute_result"
    }
   ],
   "source": [
    "college_feature_data.columns"
   ]
  },
  {
   "cell_type": "markdown",
   "metadata": {},
   "source": [
    "# Add CollegeId to professional dataset and then inner join"
   ]
  },
  {
   "cell_type": "code",
   "execution_count": 38,
   "metadata": {},
   "outputs": [],
   "source": [
    "match_data = {}\n",
    "with open('./NFL EDA/matches.json', 'r') as match_file:\n",
    "  match_data = json.load(match_file)"
   ]
  },
  {
   "cell_type": "code",
   "execution_count": 39,
   "metadata": {},
   "outputs": [],
   "source": [
    "player_id_tuple = [(match['nfl_id'], match['college_id']) for match in match_data]\n",
    "\n",
    "nfl_id, college_id = list(zip(*player_id_tuple))\n",
    "player_ids = pd.DataFrame.from_dict({\n",
    "  'nfl_id': nfl_id,\n",
    "  'college_id': college_id\n",
    "}).set_index('nfl_id')"
   ]
  },
  {
   "cell_type": "code",
   "execution_count": 116,
   "metadata": {},
   "outputs": [],
   "source": [
    "pro_data_with_college_id = wr_data.join(player_ids, how='inner')"
   ]
  },
  {
   "cell_type": "code",
   "execution_count": 110,
   "metadata": {},
   "outputs": [],
   "source": [
    "pro_data_with_college_id.to_csv('./Pro_WR_Career_Data_with_College_Id.csv')"
   ]
  },
  {
   "cell_type": "code",
   "execution_count": 117,
   "metadata": {},
   "outputs": [],
   "source": [
    "pro_data_with_college_id.reset_index(inplace=True)\n",
    "pro_data_with_college_id = pro_data_with_college_id.add_suffix('_pro')\n",
    "pro_data_with_college_id['college_id'] = pro_data_with_college_id['college_id_pro']\n",
    "pro_data_with_college_id.drop(['college_id_pro', 'index_pro'], axis=1, inplace=True)"
   ]
  },
  {
   "cell_type": "code",
   "execution_count": 118,
   "metadata": {},
   "outputs": [],
   "source": [
    "college_feature_data.reset_index(inplace=True)"
   ]
  },
  {
   "cell_type": "code",
   "execution_count": 119,
   "metadata": {},
   "outputs": [],
   "source": [
    "combined_data = pro_data_with_college_id.merge(\n",
    "    college_feature_data,\n",
    "    left_on='college_id',\n",
    "    right_on='playerId',\n",
    "    suffixes=['_pro', '_college'],\n",
    "    how='inner'\n",
    ")"
   ]
  },
  {
   "cell_type": "code",
   "execution_count": 120,
   "metadata": {},
   "outputs": [],
   "source": [
    "combined_data = combined_data.drop('index', axis=1)"
   ]
  },
  {
   "cell_type": "code",
   "execution_count": 121,
   "metadata": {
    "scrolled": true
   },
   "outputs": [
    {
     "data": {
      "text/plain": [
       "455"
      ]
     },
     "execution_count": 121,
     "metadata": {},
     "output_type": "execute_result"
    }
   ],
   "source": [
    "len(combined_data)"
   ]
  },
  {
   "cell_type": "code",
   "execution_count": 122,
   "metadata": {},
   "outputs": [],
   "source": [
    "combined_data.to_csv('./College_And_Pro_WR_CareerData.csv')"
   ]
  },
  {
   "cell_type": "markdown",
   "metadata": {},
   "source": [
    "# Create Synthetic Data"
   ]
  },
  {
   "cell_type": "code",
   "execution_count": 61,
   "metadata": {},
   "outputs": [],
   "source": [
    "import numpy as np\n",
    "\n",
    "# # Needed for plotting\n",
    "# import matplotlib.colors\n",
    "# import matplotlib.pyplot as plt\n",
    "# from mpl_toolkits.mplot3d import Axes3D\n",
    "\n",
    "# # Needed for generating classification, regression and clustering datasets\n",
    "# import sklearn.datasets as dt\n",
    "\n",
    "# Needed for generating data from an existing dataset\n",
    "from sklearn.neighbors import KernelDensity\n",
    "from sklearn.model_selection import GridSearchCV"
   ]
  },
  {
   "cell_type": "code",
   "execution_count": 94,
   "metadata": {},
   "outputs": [],
   "source": [
    "# Define the seed so that results can be reproduced\n",
    "seed = 11\n",
    "rand_state = 11"
   ]
  },
  {
   "cell_type": "code",
   "execution_count": 124,
   "metadata": {},
   "outputs": [],
   "source": [
    "train_data = combined_data.drop(['college_id', 'playerId', 'position_pro'], axis=1)"
   ]
  },
  {
   "cell_type": "code",
   "execution_count": 125,
   "metadata": {},
   "outputs": [],
   "source": [
    "# Fit a kernel density model using GridSearchCV to determine the best parameter for bandwidth\n",
    "bandwidth_params = {'bandwidth': np.arange(0.01,1,0.05)}\n",
    "grid_search = GridSearchCV(KernelDensity(), bandwidth_params)\n",
    "grid_search.fit(train_data)\n",
    "kde = grid_search.best_estimator_\n",
    "\n",
    "# Generate/sample 8 new faces from this dataset\n",
    "new_data = kde.sample(2000, random_state=rand_state)\n",
    "synthetic_data = pd.DataFrame.from_records(new_data, columns=train_data.columns)\n"
   ]
  },
  {
   "cell_type": "code",
   "execution_count": 126,
   "metadata": {},
   "outputs": [
    {
     "data": {
      "text/html": [
       "<div>\n",
       "<style scoped>\n",
       "    .dataframe tbody tr th:only-of-type {\n",
       "        vertical-align: middle;\n",
       "    }\n",
       "\n",
       "    .dataframe tbody tr th {\n",
       "        vertical-align: top;\n",
       "    }\n",
       "\n",
       "    .dataframe thead th {\n",
       "        text-align: right;\n",
       "    }\n",
       "</style>\n",
       "<table border=\"1\" class=\"dataframe\">\n",
       "  <thead>\n",
       "    <tr style=\"text-align: right;\">\n",
       "      <th></th>\n",
       "      <th>rec_yds_per_rec_pro</th>\n",
       "      <th>rec_per_g_pro</th>\n",
       "      <th>rec_yds_per_g_pro</th>\n",
       "      <th>catch_pct_pro</th>\n",
       "      <th>rec_yds_per_tgt_pro</th>\n",
       "      <th>rush_yds_per_att_pro</th>\n",
       "      <th>rush_yds_per_g_pro</th>\n",
       "      <th>rush_att_per_g_pro</th>\n",
       "      <th>yds_per_touch_pro</th>\n",
       "      <th>season_count_pro</th>\n",
       "      <th>...</th>\n",
       "      <th>scrim_yds_per_att</th>\n",
       "      <th>rec_per_g</th>\n",
       "      <th>rec_yds_per_g</th>\n",
       "      <th>rec_td_per_g</th>\n",
       "      <th>rush_att_per_g</th>\n",
       "      <th>rush_yds_per_g</th>\n",
       "      <th>rush_td_per_g</th>\n",
       "      <th>scrim_att_per_g</th>\n",
       "      <th>scrim_yds_per_g</th>\n",
       "      <th>scrim_td_per_g</th>\n",
       "    </tr>\n",
       "  </thead>\n",
       "  <tbody>\n",
       "    <tr>\n",
       "      <th>0</th>\n",
       "      <td>12.920178</td>\n",
       "      <td>2.506718</td>\n",
       "      <td>30.102957</td>\n",
       "      <td>49.719250</td>\n",
       "      <td>6.097599</td>\n",
       "      <td>2.516050</td>\n",
       "      <td>1.702839</td>\n",
       "      <td>-1.161315</td>\n",
       "      <td>13.503552</td>\n",
       "      <td>4.561261</td>\n",
       "      <td>...</td>\n",
       "      <td>13.594572</td>\n",
       "      <td>5.365196</td>\n",
       "      <td>88.521555</td>\n",
       "      <td>0.411062</td>\n",
       "      <td>2.336268</td>\n",
       "      <td>5.499654</td>\n",
       "      <td>-0.534142</td>\n",
       "      <td>6.263915</td>\n",
       "      <td>94.216866</td>\n",
       "      <td>-0.508675</td>\n",
       "    </tr>\n",
       "    <tr>\n",
       "      <th>1</th>\n",
       "      <td>13.631427</td>\n",
       "      <td>1.027938</td>\n",
       "      <td>14.404005</td>\n",
       "      <td>67.128489</td>\n",
       "      <td>8.866538</td>\n",
       "      <td>-0.320312</td>\n",
       "      <td>-1.147866</td>\n",
       "      <td>0.219630</td>\n",
       "      <td>14.021723</td>\n",
       "      <td>4.634700</td>\n",
       "      <td>...</td>\n",
       "      <td>15.968334</td>\n",
       "      <td>4.483120</td>\n",
       "      <td>80.355576</td>\n",
       "      <td>-0.160566</td>\n",
       "      <td>-0.104481</td>\n",
       "      <td>0.551911</td>\n",
       "      <td>-0.900498</td>\n",
       "      <td>5.226173</td>\n",
       "      <td>79.968721</td>\n",
       "      <td>0.241271</td>\n",
       "    </tr>\n",
       "    <tr>\n",
       "      <th>2</th>\n",
       "      <td>13.043600</td>\n",
       "      <td>7.166934</td>\n",
       "      <td>83.339870</td>\n",
       "      <td>69.020924</td>\n",
       "      <td>10.088185</td>\n",
       "      <td>5.971695</td>\n",
       "      <td>-0.813025</td>\n",
       "      <td>0.046359</td>\n",
       "      <td>14.938563</td>\n",
       "      <td>2.997772</td>\n",
       "      <td>...</td>\n",
       "      <td>11.362909</td>\n",
       "      <td>5.707668</td>\n",
       "      <td>80.067826</td>\n",
       "      <td>1.690494</td>\n",
       "      <td>0.808875</td>\n",
       "      <td>0.304265</td>\n",
       "      <td>0.781420</td>\n",
       "      <td>5.139380</td>\n",
       "      <td>81.647464</td>\n",
       "      <td>0.770418</td>\n",
       "    </tr>\n",
       "    <tr>\n",
       "      <th>3</th>\n",
       "      <td>13.475311</td>\n",
       "      <td>1.534359</td>\n",
       "      <td>7.327607</td>\n",
       "      <td>67.998193</td>\n",
       "      <td>7.361610</td>\n",
       "      <td>1.272094</td>\n",
       "      <td>0.620708</td>\n",
       "      <td>-1.358463</td>\n",
       "      <td>13.926447</td>\n",
       "      <td>0.777793</td>\n",
       "      <td>...</td>\n",
       "      <td>9.736818</td>\n",
       "      <td>2.378874</td>\n",
       "      <td>22.689172</td>\n",
       "      <td>-3.281119</td>\n",
       "      <td>1.023816</td>\n",
       "      <td>5.567331</td>\n",
       "      <td>1.135430</td>\n",
       "      <td>3.102424</td>\n",
       "      <td>30.466355</td>\n",
       "      <td>0.987394</td>\n",
       "    </tr>\n",
       "    <tr>\n",
       "      <th>4</th>\n",
       "      <td>16.449291</td>\n",
       "      <td>3.632731</td>\n",
       "      <td>69.783382</td>\n",
       "      <td>60.629014</td>\n",
       "      <td>9.871173</td>\n",
       "      <td>1.121441</td>\n",
       "      <td>2.447580</td>\n",
       "      <td>0.773306</td>\n",
       "      <td>16.414860</td>\n",
       "      <td>9.838162</td>\n",
       "      <td>...</td>\n",
       "      <td>13.707873</td>\n",
       "      <td>4.157653</td>\n",
       "      <td>71.996765</td>\n",
       "      <td>0.406409</td>\n",
       "      <td>0.914378</td>\n",
       "      <td>8.171408</td>\n",
       "      <td>-1.541317</td>\n",
       "      <td>4.911633</td>\n",
       "      <td>78.636446</td>\n",
       "      <td>0.250861</td>\n",
       "    </tr>\n",
       "    <tr>\n",
       "      <th>...</th>\n",
       "      <td>...</td>\n",
       "      <td>...</td>\n",
       "      <td>...</td>\n",
       "      <td>...</td>\n",
       "      <td>...</td>\n",
       "      <td>...</td>\n",
       "      <td>...</td>\n",
       "      <td>...</td>\n",
       "      <td>...</td>\n",
       "      <td>...</td>\n",
       "      <td>...</td>\n",
       "      <td>...</td>\n",
       "      <td>...</td>\n",
       "      <td>...</td>\n",
       "      <td>...</td>\n",
       "      <td>...</td>\n",
       "      <td>...</td>\n",
       "      <td>...</td>\n",
       "      <td>...</td>\n",
       "      <td>...</td>\n",
       "      <td>...</td>\n",
       "    </tr>\n",
       "    <tr>\n",
       "      <th>1995</th>\n",
       "      <td>15.827375</td>\n",
       "      <td>0.981684</td>\n",
       "      <td>33.342295</td>\n",
       "      <td>63.452903</td>\n",
       "      <td>11.565156</td>\n",
       "      <td>-1.916145</td>\n",
       "      <td>0.613330</td>\n",
       "      <td>1.680740</td>\n",
       "      <td>16.034245</td>\n",
       "      <td>3.045555</td>\n",
       "      <td>...</td>\n",
       "      <td>14.364315</td>\n",
       "      <td>2.836295</td>\n",
       "      <td>50.787155</td>\n",
       "      <td>0.354783</td>\n",
       "      <td>-0.376047</td>\n",
       "      <td>0.978344</td>\n",
       "      <td>0.828132</td>\n",
       "      <td>4.188590</td>\n",
       "      <td>49.828517</td>\n",
       "      <td>1.412072</td>\n",
       "    </tr>\n",
       "    <tr>\n",
       "      <th>1996</th>\n",
       "      <td>8.354010</td>\n",
       "      <td>2.820466</td>\n",
       "      <td>22.487967</td>\n",
       "      <td>49.109317</td>\n",
       "      <td>3.945074</td>\n",
       "      <td>0.934562</td>\n",
       "      <td>1.282902</td>\n",
       "      <td>0.166285</td>\n",
       "      <td>8.301482</td>\n",
       "      <td>6.197101</td>\n",
       "      <td>...</td>\n",
       "      <td>17.017755</td>\n",
       "      <td>3.927428</td>\n",
       "      <td>77.483794</td>\n",
       "      <td>0.610065</td>\n",
       "      <td>-0.330179</td>\n",
       "      <td>0.695940</td>\n",
       "      <td>-0.811871</td>\n",
       "      <td>4.845797</td>\n",
       "      <td>77.714471</td>\n",
       "      <td>1.016284</td>\n",
       "    </tr>\n",
       "    <tr>\n",
       "      <th>1997</th>\n",
       "      <td>8.321823</td>\n",
       "      <td>2.050399</td>\n",
       "      <td>33.939478</td>\n",
       "      <td>32.779032</td>\n",
       "      <td>6.290951</td>\n",
       "      <td>0.635451</td>\n",
       "      <td>-0.310918</td>\n",
       "      <td>-0.022197</td>\n",
       "      <td>7.539523</td>\n",
       "      <td>4.021361</td>\n",
       "      <td>...</td>\n",
       "      <td>12.611050</td>\n",
       "      <td>2.628443</td>\n",
       "      <td>81.454673</td>\n",
       "      <td>0.566019</td>\n",
       "      <td>-0.692465</td>\n",
       "      <td>2.366390</td>\n",
       "      <td>-1.645301</td>\n",
       "      <td>3.549630</td>\n",
       "      <td>85.612856</td>\n",
       "      <td>0.440606</td>\n",
       "    </tr>\n",
       "    <tr>\n",
       "      <th>1998</th>\n",
       "      <td>15.762549</td>\n",
       "      <td>1.556822</td>\n",
       "      <td>35.566673</td>\n",
       "      <td>45.156703</td>\n",
       "      <td>6.644437</td>\n",
       "      <td>-2.820178</td>\n",
       "      <td>-0.012299</td>\n",
       "      <td>0.763661</td>\n",
       "      <td>16.403174</td>\n",
       "      <td>3.018775</td>\n",
       "      <td>...</td>\n",
       "      <td>16.215372</td>\n",
       "      <td>1.918688</td>\n",
       "      <td>51.550231</td>\n",
       "      <td>2.019247</td>\n",
       "      <td>-2.132208</td>\n",
       "      <td>0.627170</td>\n",
       "      <td>-0.843708</td>\n",
       "      <td>3.306177</td>\n",
       "      <td>50.395153</td>\n",
       "      <td>-1.510871</td>\n",
       "    </tr>\n",
       "    <tr>\n",
       "      <th>1999</th>\n",
       "      <td>5.625671</td>\n",
       "      <td>0.580752</td>\n",
       "      <td>11.886990</td>\n",
       "      <td>47.772195</td>\n",
       "      <td>4.305979</td>\n",
       "      <td>8.920464</td>\n",
       "      <td>-0.688904</td>\n",
       "      <td>-0.815285</td>\n",
       "      <td>6.053313</td>\n",
       "      <td>3.949115</td>\n",
       "      <td>...</td>\n",
       "      <td>10.905718</td>\n",
       "      <td>5.061115</td>\n",
       "      <td>62.614396</td>\n",
       "      <td>-0.496899</td>\n",
       "      <td>2.455352</td>\n",
       "      <td>16.968727</td>\n",
       "      <td>2.641793</td>\n",
       "      <td>6.987789</td>\n",
       "      <td>80.454408</td>\n",
       "      <td>1.163264</td>\n",
       "    </tr>\n",
       "  </tbody>\n",
       "</table>\n",
       "<p>2000 rows × 33 columns</p>\n",
       "</div>"
      ],
      "text/plain": [
       "      rec_yds_per_rec_pro  rec_per_g_pro  rec_yds_per_g_pro  catch_pct_pro  \\\n",
       "0               12.920178       2.506718          30.102957      49.719250   \n",
       "1               13.631427       1.027938          14.404005      67.128489   \n",
       "2               13.043600       7.166934          83.339870      69.020924   \n",
       "3               13.475311       1.534359           7.327607      67.998193   \n",
       "4               16.449291       3.632731          69.783382      60.629014   \n",
       "...                   ...            ...                ...            ...   \n",
       "1995            15.827375       0.981684          33.342295      63.452903   \n",
       "1996             8.354010       2.820466          22.487967      49.109317   \n",
       "1997             8.321823       2.050399          33.939478      32.779032   \n",
       "1998            15.762549       1.556822          35.566673      45.156703   \n",
       "1999             5.625671       0.580752          11.886990      47.772195   \n",
       "\n",
       "      rec_yds_per_tgt_pro  rush_yds_per_att_pro  rush_yds_per_g_pro  \\\n",
       "0                6.097599              2.516050            1.702839   \n",
       "1                8.866538             -0.320312           -1.147866   \n",
       "2               10.088185              5.971695           -0.813025   \n",
       "3                7.361610              1.272094            0.620708   \n",
       "4                9.871173              1.121441            2.447580   \n",
       "...                   ...                   ...                 ...   \n",
       "1995            11.565156             -1.916145            0.613330   \n",
       "1996             3.945074              0.934562            1.282902   \n",
       "1997             6.290951              0.635451           -0.310918   \n",
       "1998             6.644437             -2.820178           -0.012299   \n",
       "1999             4.305979              8.920464           -0.688904   \n",
       "\n",
       "      rush_att_per_g_pro  yds_per_touch_pro  season_count_pro  ...  \\\n",
       "0              -1.161315          13.503552          4.561261  ...   \n",
       "1               0.219630          14.021723          4.634700  ...   \n",
       "2               0.046359          14.938563          2.997772  ...   \n",
       "3              -1.358463          13.926447          0.777793  ...   \n",
       "4               0.773306          16.414860          9.838162  ...   \n",
       "...                  ...                ...               ...  ...   \n",
       "1995            1.680740          16.034245          3.045555  ...   \n",
       "1996            0.166285           8.301482          6.197101  ...   \n",
       "1997           -0.022197           7.539523          4.021361  ...   \n",
       "1998            0.763661          16.403174          3.018775  ...   \n",
       "1999           -0.815285           6.053313          3.949115  ...   \n",
       "\n",
       "      scrim_yds_per_att  rec_per_g  rec_yds_per_g  rec_td_per_g  \\\n",
       "0             13.594572   5.365196      88.521555      0.411062   \n",
       "1             15.968334   4.483120      80.355576     -0.160566   \n",
       "2             11.362909   5.707668      80.067826      1.690494   \n",
       "3              9.736818   2.378874      22.689172     -3.281119   \n",
       "4             13.707873   4.157653      71.996765      0.406409   \n",
       "...                 ...        ...            ...           ...   \n",
       "1995          14.364315   2.836295      50.787155      0.354783   \n",
       "1996          17.017755   3.927428      77.483794      0.610065   \n",
       "1997          12.611050   2.628443      81.454673      0.566019   \n",
       "1998          16.215372   1.918688      51.550231      2.019247   \n",
       "1999          10.905718   5.061115      62.614396     -0.496899   \n",
       "\n",
       "      rush_att_per_g  rush_yds_per_g  rush_td_per_g  scrim_att_per_g  \\\n",
       "0           2.336268        5.499654      -0.534142         6.263915   \n",
       "1          -0.104481        0.551911      -0.900498         5.226173   \n",
       "2           0.808875        0.304265       0.781420         5.139380   \n",
       "3           1.023816        5.567331       1.135430         3.102424   \n",
       "4           0.914378        8.171408      -1.541317         4.911633   \n",
       "...              ...             ...            ...              ...   \n",
       "1995       -0.376047        0.978344       0.828132         4.188590   \n",
       "1996       -0.330179        0.695940      -0.811871         4.845797   \n",
       "1997       -0.692465        2.366390      -1.645301         3.549630   \n",
       "1998       -2.132208        0.627170      -0.843708         3.306177   \n",
       "1999        2.455352       16.968727       2.641793         6.987789   \n",
       "\n",
       "      scrim_yds_per_g  scrim_td_per_g  \n",
       "0           94.216866       -0.508675  \n",
       "1           79.968721        0.241271  \n",
       "2           81.647464        0.770418  \n",
       "3           30.466355        0.987394  \n",
       "4           78.636446        0.250861  \n",
       "...               ...             ...  \n",
       "1995        49.828517        1.412072  \n",
       "1996        77.714471        1.016284  \n",
       "1997        85.612856        0.440606  \n",
       "1998        50.395153       -1.510871  \n",
       "1999        80.454408        1.163264  \n",
       "\n",
       "[2000 rows x 33 columns]"
      ]
     },
     "execution_count": 126,
     "metadata": {},
     "output_type": "execute_result"
    }
   ],
   "source": [
    "synthetic_data"
   ]
  },
  {
   "cell_type": "markdown",
   "metadata": {},
   "source": [
    "# Score and Tier the Synthetic Data"
   ]
  },
  {
   "cell_type": "code",
   "execution_count": 128,
   "metadata": {},
   "outputs": [],
   "source": [
    "from sklearn.decomposition import PCA"
   ]
  },
  {
   "cell_type": "code",
   "execution_count": 167,
   "metadata": {},
   "outputs": [],
   "source": [
    "pro_features = [feature for feature in synthetic_data.columns if feature.endswith('_pro')]\n",
    "pro_features.remove('season_count_pro')"
   ]
  },
  {
   "cell_type": "code",
   "execution_count": 142,
   "metadata": {},
   "outputs": [],
   "source": [
    "pca = PCA(n_components=1)\n",
    "pca_analysis = pd.DataFrame(\n",
    "    pca.fit_transform(synthetic_data[pro_features]), \n",
    "    columns=['PCA%i' % i for i in range(1)], \n",
    "    index=synthetic_data.index\n",
    ")"
   ]
  },
  {
   "cell_type": "code",
   "execution_count": 143,
   "metadata": {},
   "outputs": [],
   "source": [
    "synthetic_with_scores = synthetic_data.merge(pca_analysis, left_index=True, right_index=True)\n",
    "synthetic_with_scores['pro_score'] = synthetic_with_scores.PCA0\n",
    "synthetic_with_scores.drop('PCA0', axis=1, inplace=True)"
   ]
  },
  {
   "cell_type": "code",
   "execution_count": 144,
   "metadata": {},
   "outputs": [],
   "source": [
    "synthetic_with_scores.to_csv('./Synthetic_data_with_scores')"
   ]
  },
  {
   "cell_type": "code",
   "execution_count": 145,
   "metadata": {},
   "outputs": [
    {
     "data": {
      "text/plain": [
       "Index(['rec_yds_per_rec_pro', 'rec_per_g_pro', 'rec_yds_per_g_pro',\n",
       "       'catch_pct_pro', 'rec_yds_per_tgt_pro', 'rush_yds_per_att_pro',\n",
       "       'rush_yds_per_g_pro', 'rush_att_per_g_pro', 'yds_per_touch_pro',\n",
       "       'season_count_pro', 'targets_per_g_pro', 'touches_per_g_pro',\n",
       "       'yds_from_scrimmage_per_g_pro', 'rush_receive_td_per_g_pro',\n",
       "       'rec_td_per_g_pro', 'rush_first_down_per_g_pro', 'fumbles_per_g_pro',\n",
       "       'rush_td_per_g_pro', 'rec_first_down_per_g_pro', 'snap_percentage_pro',\n",
       "       'g', 'rec_yds_per_rec', 'rush_yds_per_att', 'scrim_yds_per_att',\n",
       "       'rec_per_g', 'rec_yds_per_g', 'rec_td_per_g', 'rush_att_per_g',\n",
       "       'rush_yds_per_g', 'rush_td_per_g', 'scrim_att_per_g', 'scrim_yds_per_g',\n",
       "       'scrim_td_per_g', 'pro_score'],\n",
       "      dtype='object')"
      ]
     },
     "execution_count": 145,
     "metadata": {},
     "output_type": "execute_result"
    }
   ],
   "source": [
    "synthetic_with_scores.columns"
   ]
  },
  {
   "cell_type": "markdown",
   "metadata": {},
   "source": [
    "# Train Model on Synthetic Data"
   ]
  },
  {
   "cell_type": "markdown",
   "metadata": {},
   "source": [
    "## Tier the Synthetic Data"
   ]
  },
  {
   "cell_type": "code",
   "execution_count": 190,
   "metadata": {},
   "outputs": [
    {
     "name": "stdout",
     "output_type": "stream",
     "text": [
      "0\n",
      "getting players 0 - 400\n",
      "1\n",
      "getting players 400 - 800\n",
      "2\n",
      "getting players 800 - 1200\n",
      "3\n",
      "getting players 1200 - 1600\n",
      "4\n",
      "getting players 1600 - 2000\n"
     ]
    }
   ],
   "source": [
    "TIERS = 5\n",
    "\n",
    "sorted_scores = synthetic_with_scores.sort_values(by='pro_score').reset_index()\n",
    "number_of_players = len(sorted_scores)\n",
    "increment = number_of_players // TIERS\n",
    "\n",
    "sorted_scores['tier'] = -1\n",
    "prev_idx = 0\n",
    "for tier_num, i in enumerate(range(0, number_of_players, increment)):\n",
    "    print(tier_num)\n",
    "    increment_end = prev_idx + increment\n",
    "    print(f'getting players {prev_idx} - {increment_end}')\n",
    "    if tier_num + 1 == TIERS:\n",
    "        sorted_scores.loc[prev_idx:, 'tier'] = tier_num\n",
    "    else:\n",
    "        sorted_scores.loc[prev_idx:increment_end, 'tier'] = tier_num\n",
    "\n",
    "    prev_idx = i + increment\n",
    "  \n",
    "target = sorted_scores"
   ]
  },
  {
   "cell_type": "code",
   "execution_count": 156,
   "metadata": {},
   "outputs": [],
   "source": [
    "target.to_csv('./TieredSynthetic_WR_Data.csv')"
   ]
  },
  {
   "cell_type": "markdown",
   "metadata": {},
   "source": [
    "## Train Synthetic Data"
   ]
  },
  {
   "cell_type": "code",
   "execution_count": 193,
   "metadata": {},
   "outputs": [],
   "source": [
    "training_features = [feat for feat in target.columns if not feat.endswith('_pro') and feat not in ['tier', 'index', 'pro_score']]"
   ]
  },
  {
   "cell_type": "code",
   "execution_count": 161,
   "metadata": {},
   "outputs": [],
   "source": [
    "synthetic_features = target[training_features]\n",
    "synthetic_target = target.tier"
   ]
  },
  {
   "cell_type": "code",
   "execution_count": 162,
   "metadata": {},
   "outputs": [],
   "source": [
    "from sklearn.neighbors import KNeighborsClassifier\n",
    "knn = KNeighborsClassifier(n_neighbors = 6).fit(synthetic_features, synthetic_target)"
   ]
  },
  {
   "cell_type": "markdown",
   "metadata": {},
   "source": [
    "# Test Model with real data"
   ]
  },
  {
   "cell_type": "markdown",
   "metadata": {},
   "source": [
    "## Score and Tier Natural Data"
   ]
  },
  {
   "cell_type": "code",
   "execution_count": 163,
   "metadata": {},
   "outputs": [
    {
     "data": {
      "text/plain": [
       "Index(['rec_yds_per_rec_pro', 'rec_per_g_pro', 'rec_yds_per_g_pro',\n",
       "       'catch_pct_pro', 'rec_yds_per_tgt_pro', 'rush_yds_per_att_pro',\n",
       "       'rush_yds_per_g_pro', 'rush_att_per_g_pro', 'yds_per_touch_pro',\n",
       "       'season_count_pro', 'targets_per_g_pro', 'touches_per_g_pro',\n",
       "       'yds_from_scrimmage_per_g_pro', 'rush_receive_td_per_g_pro',\n",
       "       'rec_td_per_g_pro', 'rush_first_down_per_g_pro', 'fumbles_per_g_pro',\n",
       "       'rush_td_per_g_pro', 'rec_first_down_per_g_pro', 'snap_percentage_pro',\n",
       "       'position_pro', 'college_id', 'playerId', 'g', 'rec_yds_per_rec',\n",
       "       'rush_yds_per_att', 'scrim_yds_per_att', 'rec_per_g', 'rec_yds_per_g',\n",
       "       'rec_td_per_g', 'rush_att_per_g', 'rush_yds_per_g', 'rush_td_per_g',\n",
       "       'scrim_att_per_g', 'scrim_yds_per_g', 'scrim_td_per_g'],\n",
       "      dtype='object')"
      ]
     },
     "execution_count": 163,
     "metadata": {},
     "output_type": "execute_result"
    }
   ],
   "source": [
    "combined_data.columns"
   ]
  },
  {
   "cell_type": "code",
   "execution_count": 170,
   "metadata": {},
   "outputs": [],
   "source": [
    "pro_features = [feature for feature in synthetic_data.columns if feature.endswith('_pro')]\n",
    "pro_features.remove('season_count_pro')"
   ]
  },
  {
   "cell_type": "code",
   "execution_count": 171,
   "metadata": {},
   "outputs": [],
   "source": [
    "pca = PCA(n_components=1)\n",
    "pca_analysis = pd.DataFrame(\n",
    "    pca.fit_transform(combined_data[pro_features]), \n",
    "    columns=['PCA%i' % i for i in range(1)], \n",
    "    index=combined_data.index\n",
    ")"
   ]
  },
  {
   "cell_type": "code",
   "execution_count": 172,
   "metadata": {},
   "outputs": [],
   "source": [
    "combined_data_with_scores = combined_data.merge(pca_analysis, left_index=True, right_index=True)\n",
    "combined_data_with_scores['pro_score'] = combined_data_with_scores.PCA0\n",
    "combined_data_with_scores.drop('PCA0', axis=1, inplace=True)"
   ]
  },
  {
   "cell_type": "code",
   "execution_count": 173,
   "metadata": {},
   "outputs": [],
   "source": [
    "combined_data_with_scores.to_csv('./Synthetic_data_with_scores')"
   ]
  },
  {
   "cell_type": "markdown",
   "metadata": {},
   "source": [
    "### Tier the players based on score"
   ]
  },
  {
   "cell_type": "code",
   "execution_count": 194,
   "metadata": {},
   "outputs": [
    {
     "name": "stdout",
     "output_type": "stream",
     "text": [
      "0\n",
      "getting players 0 - 91\n",
      "1\n",
      "getting players 91 - 182\n",
      "2\n",
      "getting players 182 - 273\n",
      "3\n",
      "getting players 273 - 364\n",
      "4\n",
      "getting players 364 - 455\n"
     ]
    }
   ],
   "source": [
    "TIERS = 5\n",
    "\n",
    "sorted_scores = combined_data_with_scores.sort_values(by='pro_score').reset_index()\n",
    "number_of_players = len(sorted_scores)\n",
    "increment = number_of_players // TIERS\n",
    "\n",
    "sorted_scores['tier'] = -1\n",
    "prev_idx = 0\n",
    "for tier_num, i in enumerate(range(0, number_of_players, increment)):\n",
    "    print(tier_num)\n",
    "    increment_end = prev_idx + increment\n",
    "    print(f'getting players {prev_idx} - {increment_end}')\n",
    "    if tier_num + 1 == TIERS:\n",
    "        sorted_scores.loc[prev_idx:, 'tier'] = tier_num\n",
    "    else:\n",
    "        sorted_scores.loc[prev_idx:increment_end, 'tier'] = tier_num\n",
    "\n",
    "    prev_idx = i + increment\n",
    "  \n",
    "target = sorted_scores"
   ]
  },
  {
   "cell_type": "code",
   "execution_count": 175,
   "metadata": {},
   "outputs": [],
   "source": [
    "target.to_csv('./Tiered_WR_Data.csv')"
   ]
  },
  {
   "cell_type": "markdown",
   "metadata": {},
   "source": [
    "## Test Model created from synthetic data"
   ]
  },
  {
   "cell_type": "code",
   "execution_count": 180,
   "metadata": {},
   "outputs": [
    {
     "data": {
      "text/plain": [
       "Index(['index', 'rec_yds_per_rec_pro', 'rec_per_g_pro', 'rec_yds_per_g_pro',\n",
       "       'catch_pct_pro', 'rec_yds_per_tgt_pro', 'rush_yds_per_att_pro',\n",
       "       'rush_yds_per_g_pro', 'rush_att_per_g_pro', 'yds_per_touch_pro',\n",
       "       'season_count_pro', 'targets_per_g_pro', 'touches_per_g_pro',\n",
       "       'yds_from_scrimmage_per_g_pro', 'rush_receive_td_per_g_pro',\n",
       "       'rec_td_per_g_pro', 'rush_first_down_per_g_pro', 'fumbles_per_g_pro',\n",
       "       'rush_td_per_g_pro', 'rec_first_down_per_g_pro', 'snap_percentage_pro',\n",
       "       'position_pro', 'college_id', 'playerId', 'g', 'rec_yds_per_rec',\n",
       "       'rush_yds_per_att', 'scrim_yds_per_att', 'rec_per_g', 'rec_yds_per_g',\n",
       "       'rec_td_per_g', 'rush_att_per_g', 'rush_yds_per_g', 'rush_td_per_g',\n",
       "       'scrim_att_per_g', 'scrim_yds_per_g', 'scrim_td_per_g', 'pro_score',\n",
       "       'tier'],\n",
       "      dtype='object')"
      ]
     },
     "execution_count": 180,
     "metadata": {},
     "output_type": "execute_result"
    }
   ],
   "source": [
    "target.columns"
   ]
  },
  {
   "cell_type": "code",
   "execution_count": 195,
   "metadata": {},
   "outputs": [
    {
     "data": {
      "text/plain": [
       "13"
      ]
     },
     "execution_count": 195,
     "metadata": {},
     "output_type": "execute_result"
    }
   ],
   "source": [
    "excludes = ['index', 'college_id', 'position_pro', 'playerId', 'pro_score', 'tier']\n",
    "training_features = [feat for feat in target.columns if not feat.endswith('_pro') and feat not in excludes]\n",
    "len(training_features)"
   ]
  },
  {
   "cell_type": "code",
   "execution_count": 196,
   "metadata": {},
   "outputs": [
    {
     "name": "stdout",
     "output_type": "stream",
     "text": [
      "0.8065934065934066\n"
     ]
    }
   ],
   "source": [
    "# accuracy on X_test\n",
    "test_features = target[training_features]\n",
    "test_target = target.tier\n",
    "accuracy = knn.score(test_features, test_target)\n",
    "print(accuracy)\n",
    " \n",
    "# # creating a confusion matrix\n",
    "# knn_predictions = knn.predict(X_test)\n",
    "# cm = confusion_matrix(y_test, knn_predictions)"
   ]
  },
  {
   "cell_type": "code",
   "execution_count": 197,
   "metadata": {},
   "outputs": [
    {
     "data": {
      "text/plain": [
       "455"
      ]
     },
     "execution_count": 197,
     "metadata": {},
     "output_type": "execute_result"
    }
   ],
   "source": [
    "len(target)"
   ]
  },
  {
   "cell_type": "markdown",
   "metadata": {},
   "source": [
    "# Determine Feature Importance"
   ]
  },
  {
   "cell_type": "code",
   "execution_count": 301,
   "metadata": {},
   "outputs": [
    {
     "name": "stdout",
     "output_type": "stream",
     "text": [
      "[[80  7  1  0  3]\n",
      " [ 9 74  3  4  1]\n",
      " [ 7  7 65  8  4]\n",
      " [ 5  5  2 74  5]\n",
      " [ 2  5  5  5 74]]\n"
     ]
    }
   ],
   "source": [
    "knn_predictions = knn.predict(test_features)\n",
    "cm = confusion_matrix(test_target, knn_predictions)\n",
    "print(cm)"
   ]
  },
  {
   "cell_type": "markdown",
   "metadata": {},
   "source": [
    "# Determine average draft position of each tier"
   ]
  },
  {
   "cell_type": "code",
   "execution_count": 212,
   "metadata": {},
   "outputs": [],
   "source": [
    "with open('../ProData/cleaned/draft_data/WR.json', 'r') as infile:\n",
    "    draft_data = json.load(infile)"
   ]
  },
  {
   "cell_type": "code",
   "execution_count": 204,
   "metadata": {},
   "outputs": [],
   "source": [
    "tiers_with_nfl_id = target[['tier', 'college_id']].merge(player_ids.reset_index(), left_on='college_id', right_on='college_id')\n",
    "\n",
    "tiers_with_nfl_id = tiers_with_nfl_id.drop('college_id', axis=1)"
   ]
  },
  {
   "cell_type": "code",
   "execution_count": 206,
   "metadata": {},
   "outputs": [],
   "source": [
    "tier_groups = tiers_with_nfl_id.groupby('tier')"
   ]
  },
  {
   "cell_type": "code",
   "execution_count": 219,
   "metadata": {},
   "outputs": [],
   "source": [
    "tier_to_draft_position_array = {}\n",
    "\n",
    "for tier, data in tier_groups:\n",
    "    draft_positions = [draft_data[player]['draft_pick'] for player in data.nfl_id]\n",
    "    tier_to_draft_position_array[tier] = draft_positions"
   ]
  },
  {
   "cell_type": "code",
   "execution_count": 220,
   "metadata": {},
   "outputs": [],
   "source": [
    "avg_draft_position_per_tier = {tier: np.mean(np.array(draft_positions)) \n",
    "                               for tier, draft_positions in tier_to_draft_position_array.items()}"
   ]
  },
  {
   "cell_type": "code",
   "execution_count": 221,
   "metadata": {},
   "outputs": [
    {
     "data": {
      "text/plain": [
       "{0: 155.96703296703296,\n",
       " 1: 136.87912087912088,\n",
       " 2: 118.23076923076923,\n",
       " 3: 80.46153846153847,\n",
       " 4: 57.81318681318681}"
      ]
     },
     "execution_count": 221,
     "metadata": {},
     "output_type": "execute_result"
    }
   ],
   "source": [
    "avg_draft_position_per_tier"
   ]
  },
  {
   "cell_type": "markdown",
   "metadata": {},
   "source": [
    "# Determine how accurate NFL is at drafting players into correct tier\n",
    "Given all WRs drafted in any draft, how often do NFL teams pick the player in the correct tier"
   ]
  },
  {
   "cell_type": "code",
   "execution_count": 302,
   "metadata": {},
   "outputs": [
    {
     "name": "stdout",
     "output_type": "stream",
     "text": [
      "last group\n"
     ]
    },
    {
     "data": {
      "text/plain": [
       "[(199, 256), (127, 197), (80, 126), (40, 79), (2, 39)]"
      ]
     },
     "execution_count": 302,
     "metadata": {},
     "output_type": "execute_result"
    }
   ],
   "source": [
    "# Find superset of draft positions of all NFL WRs from last 20 years\n",
    "all_draft_positions = sorted([draft_data[player]['draft_pick'] for player in tiers_with_nfl_id.nfl_id])\n",
    "tier_size = len(all_draft_positions) // TIERS\n",
    "\n",
    "tier_draft_range = []\n",
    "i = 0\n",
    "while i < len(all_draft_positions):\n",
    "    tier_start = all_draft_positions[i]\n",
    "    i += tier_size\n",
    "    \n",
    "    try:\n",
    "        tier_end = all_draft_positions[i]\n",
    "    except IndexError:\n",
    "        print('last group')\n",
    "        tier_end = all_draft_positions[-1]\n",
    "        tier_draft_range.append((tier_start, tier_end))\n",
    "        break\n",
    "    \n",
    "    # Check if next position is equal to current position\n",
    "    # then advance iterator until there is a change\n",
    "    if all_draft_positions[i+1] == tier_end:\n",
    "        i += 1\n",
    "        while all_draft_positions[i] == tier_end:\n",
    "            i += 1\n",
    "    \n",
    "    i += 1\n",
    "    tier_draft_range.append((tier_start, tier_end))\n",
    "    \n",
    "tier_draft_range = sorted(tier_draft_range, key=lambda x: -x[0])\n",
    "tier_draft_range"
   ]
  },
  {
   "cell_type": "code",
   "execution_count": 288,
   "metadata": {},
   "outputs": [],
   "source": [
    "# tier_draft_range = [(205, 300), (154, 204), (103, 153), (52, 102), (1, 51)]\n",
    "\n",
    "# returns 1 if player drafted in expected range, otherwise 0\n",
    "def find_clostest_tier_given_draft_position(tier, draft_position):\n",
    "    expected_draft_start, expected_draft_end = tier_draft_range[tier]\n",
    "    if draft_position >= expected_draft_start and draft_position <= expected_draft_end:\n",
    "        return 1\n",
    "    else:\n",
    "        return 0"
   ]
  },
  {
   "cell_type": "code",
   "execution_count": 289,
   "metadata": {},
   "outputs": [
    {
     "data": {
      "text/plain": [
       "0.3032967032967033"
      ]
     },
     "execution_count": 289,
     "metadata": {},
     "output_type": "execute_result"
    }
   ],
   "source": [
    "tier_and_player_id_tuples = tiers_with_nfl_id[['tier', 'nfl_id']].set_index('tier').to_records()\n",
    "draft_hits = []\n",
    "\n",
    "for tier, player_id in tier_and_player_id_tuples:\n",
    "    val = find_clostest_tier_given_draft_position(tier, draft_data[player_id]['draft_pick'])\n",
    "    draft_hits.append(val)\n",
    "    \n",
    "np.mean(np.array(draft_hits))"
   ]
  },
  {
   "cell_type": "markdown",
   "metadata": {},
   "source": [
    "# Draft accuracy by tier"
   ]
  },
  {
   "cell_type": "code",
   "execution_count": 290,
   "metadata": {},
   "outputs": [],
   "source": [
    "from collections import defaultdict"
   ]
  },
  {
   "cell_type": "code",
   "execution_count": 291,
   "metadata": {},
   "outputs": [
    {
     "name": "stdout",
     "output_type": "stream",
     "text": [
      "0 MaylVi00 123\n",
      "0 ReedJo03 151\n",
      "0 GandAn00 142\n",
      "0 KentJo20 210\n",
      "0 HallRo02 169\n",
      "0 PaytJo00 154\n",
      "0 PondWi00 199\n",
      "0 JohnMa04 229\n",
      "0 GilyMa00 99\n",
      "0 WillPa00 80\n",
      "0 DaviGe00 186\n",
      "0 DaviRo00 209\n",
      "0 WatkTo20 218\n",
      "0 PilaKe00 132\n",
      "0 SaunJa00 104\n",
      "0 SwaiBr00 217\n",
      "0 ReedDa00 156\n",
      "0 WinfJu00 187\n",
      "0 MitcCa00 177\n",
      "0 MaloJo00 128\n",
      "0 BakeDa01 227\n",
      "0 ChesJe00 139\n",
      "0 DorsKe01 224\n",
      "0 GreeSk20 125\n",
      "0 ClevTy00 252\n",
      "0 MaysLe00 202\n",
      "0 JoneDa02 226\n",
      "0 SampDe00 249\n",
      "0 WyliDe00 107\n",
      "0 EberJe00 235\n",
      "0 SweeLi00 53\n",
      "0 KaspKe00 190\n",
      "0 TurnPa00 87\n",
      "0 RobiRy00 118\n",
      "0 ClayKa00 184\n",
      "0 WhitJo02 244\n",
      "0 StreDe00 146\n",
      "0 HuntJa00 206\n",
      "0 HowrKe00 221\n",
      "0 PatmDe00 212\n",
      "0 MoraJo00 134\n",
      "0 YounWa00 226\n",
      "0 JohnRo03 123\n",
      "0 WhalRy00 167\n",
      "0 MoorJM00 133\n",
      "0 DickDo00 227\n",
      "0 MadiAd00 158\n",
      "0 RussCl00 87\n",
      "0 MitcMa00 243\n",
      "0 GibsSh00 166\n",
      "0 RobyCo00 68\n",
      "0 HighJo00 168\n",
      "0 HemiJu00 238\n",
      "0 GardTa00 231\n",
      "0 WillDe05 82\n",
      "0 ArceJJ00 57\n",
      "0 ColeCh00 70\n",
      "0 TaylJa00 168\n",
      "0 FranWi00 105\n",
      "0 BoycJo00 102\n",
      "0 HubbPa00 191\n",
      "0 JacoTa00 44\n",
      "0 AusbDa00 241\n",
      "0 RidgDa00 192\n",
      "0 DarbAm00 106\n",
      "0 StewAr00 79\n",
      "0 WilsTr00 78\n",
      "0 HayeWi00 143\n",
      "0 ThomDe02 34\n",
      "0 DaviCh02 128\n",
      "0 SmitJo00 214\n",
      "0 NorwKe00 123\n",
      "0 AbbrJa00 176\n",
      "0 AikeSa00 127\n",
      "0 FiguYa00 74\n",
      "0 CarrLe00 86\n",
      "0 CainDe00 185\n",
      "0 HerrRo00 185\n",
      "0 ClemTo00 231\n",
      "0 CoreCo00 199\n",
      "0 TyreDa00 211\n",
      "0 JameCe00 131\n",
      "0 ProcJa00 201\n",
      "0 StovMa00 90\n",
      "0 SuthVi00 136\n",
      "0 NewsKe00 222\n",
      "0 DarlDe00 82\n",
      "0 DossTa00 123\n",
      "0 HardJa00 41\n",
      "0 AdamJo01 104\n",
      "0 AlliAu00 146\n",
      "1 SmitDe04 37\n",
      "1 LukeTr00 171\n",
      "1 TaylCo00 197\n",
      "1 ScotGa00 99\n",
      "1 CoopPh00 117\n",
      "1 WrigJa03 239\n",
      "1 RobiBr00 36\n",
      "1 MumpKe00 175\n",
      "1 WimsJa00 224\n",
      "1 GreeRa00 139\n",
      "1 JackCh00 36\n",
      "1 PeakCh00 241\n",
      "1 BrowNo00 239\n",
      "1 HillKJ00 220\n",
      "1 ScotJa02 132\n",
      "1 FullCo00 171\n",
      "1 DaviTr03 163\n",
      "1 AtemMa00 228\n",
      "1 MoorCh00 107\n",
      "1 MartKe01 121\n",
      "1 IsabAn00 62\n",
      "1 TreaLa00 23\n",
      "1 StepSy20 234\n",
      "1 AustTe00 219\n",
      "1 HarrDw00 176\n",
      "1 UrsuJo00 236\n",
      "1 KingAn00 245\n",
      "1 MossSi00 44\n",
      "1 MurpTe00 58\n",
      "1 WarrPa00 225\n",
      "1 GodwTe00 237\n",
      "1 CoatSa00 87\n",
      "1 PricTa00 90\n",
      "1 ClowDa00 157\n",
      "1 JernJe00 83\n",
      "1 ReidWi00 95\n",
      "1 SwitRy00 133\n",
      "1 HollMa00 118\n",
      "1 WebbJe00 190\n",
      "1 WillJa01 175\n",
      "1 HawkLa00 126\n",
      "1 ToonNi00 122\n",
      "1 PerrTa00 190\n",
      "1 BrowJu00 186\n",
      "1 JohnBe00 45\n",
      "1 McMuBi00 95\n",
      "1 RobiAl00 178\n",
      "1 HamiCo00 197\n",
      "1 McKeIs00 172\n",
      "1 PaulNi00 155\n",
      "1 JarrDw00 45\n",
      "1 RatlDa00 175\n",
      "1 BrazLa00 206\n",
      "1 WaltTr00 165\n",
      "1 TaylTa00 72\n",
      "1 GranJa00 186\n",
      "1 ButlDe00 91\n",
      "1 KellMa01 51\n",
      "1 GermRe00 214\n",
      "1 WhitKe00 7\n",
      "1 CaldAn00 97\n",
      "1 BoykMi00 93\n",
      "1 QuinTr00 256\n",
      "1 BrouJo00 229\n",
      "1 St.BEq00 207\n",
      "1 ThorCr00 116\n",
      "1 HuffJo00 86\n",
      "1 HardJu00 107\n",
      "1 BaldJo00 26\n",
      "1 CartTi00 46\n",
      "1 LatiCo00 56\n",
      "1 CampMi02 218\n",
      "1 PoseDe00 68\n",
      "1 ParrRo00 55\n",
      "1 GranRy01 142\n",
      "1 AndeDa01 251\n",
      "1 PettAu00 78\n",
      "1 BennAr00 39\n",
      "1 RidlRi00 126\n",
      "1 CrinJu00 168\n",
      "1 WashKe00 65\n",
      "1 LouiRi00 114\n",
      "1 SwaiFr00 214\n",
      "1 KingTa00 161\n",
      "1 CaliTy00 60\n",
      "1 JohnCo01 165\n",
      "1 DugaRo00 66\n",
      "1 HuntJu00 34\n",
      "1 WattDa00 54\n",
      "1 McAdJa00 149\n",
      "1 UndeTi00 253\n",
      "2 NaanLe00 172\n",
      "2 RobiDe01 126\n",
      "2 HaddDr00 233\n",
      "2 StroSa00 233\n",
      "2 JohnOl00 247\n",
      "2 McCoQu00 236\n",
      "2 OsboKJ00 176\n",
      "2 ButlBr00 209\n",
      "2 ObomBe00 249\n",
      "2 WillDe03 111\n",
      "2 AromDe00 233\n",
      "2 HamiDa01 113\n",
      "2 BroyRy00 54\n",
      "2 ColbKe00 62\n",
      "2 HagaDe00 82\n",
      "2 WilsCe01 208\n",
      "2 JohnTy00 161\n",
      "2 GettDa00 198\n",
      "2 BerrBr00 210\n",
      "2 FarmDa00 103\n",
      "2 BurtKe00 128\n",
      "2 MitcFr00 25\n",
      "2 FergRo00 41\n",
      "2 WillDa04 77\n",
      "2 HixoDo00 130\n",
      "2 HeywDa00 7\n",
      "2 HarrNK00 32\n",
      "2 JoneT.00 189\n",
      "2 StucCh20 235\n",
      "2 DuveDe00 92\n",
      "2 WheaMa00 79\n",
      "2 DillJa00 144\n",
      "2 JohnKe07 174\n",
      "2 SharTa00 140\n",
      "2 TateAu00 253\n",
      "2 LeexCh00 242\n",
      "2 DorsPh00 29\n",
      "2 SchiCh00 226\n",
      "2 FordIs00 237\n",
      "2 WillRo05 136\n",
      "2 StroJa01 70\n",
      "2 SandAc00 101\n",
      "2 WillTr01 7\n",
      "2 AyerDe00 229\n",
      "2 AlfoMa00 238\n",
      "2 WilfEr00 120\n",
      "2 WynnMi00 116\n",
      "2 GaylTr00 111\n",
      "2 HansCh00 141\n",
      "2 MillSc01 208\n",
      "2 ReynJo00 117\n",
      "2 RossJo00 9\n",
      "2 FulgTr00 184\n",
      "2 WillMi03 10\n",
      "2 RogeCh01 2\n",
      "2 JoneBr02 96\n",
      "2 DurhKr00 107\n",
      "2 BrisDe00 191\n",
      "2 HiggRa00 172\n",
      "2 BrowVi00 82\n",
      "2 SalaGr00 112\n",
      "2 WhitDe00 69\n",
      "2 HillSt00 43\n",
      "2 DaviAn01 47\n",
      "2 BailSt01 92\n",
      "2 CallAn00 105\n",
      "2 MontTy01 94\n",
      "2 HarmKe00 206\n",
      "2 MinnMa00 77\n",
      "2 BradMa00 39\n",
      "2 McDoSh00 106\n",
      "2 DoctJo00 22\n",
      "2 FordJa01 108\n",
      "2 TerrDa00 8\n",
      "2 MurpLo00 124\n",
      "2 GonzAn00 32\n",
      "2 MoncDo00 90\n",
      "2 MorgQu00 33\n",
      "2 CoopRi00 159\n",
      "2 ShipJo00 84\n",
      "2 HankLe00 79\n",
      "2 DawsJa00 79\n",
      "2 DobsAa00 59\n",
      "2 AustTa00 8\n",
      "2 CaldRe00 48\n",
      "2 PattCo00 29\n",
      "2 DoucEa00 81\n",
      "2 BenjTr00 100\n",
      "2 DaviCr00 30\n",
      "2 JohnBr02 17\n",
      "2 WilsMa02 236\n",
      "3 WrigJa02 118\n",
      "3 ClayMi00 15\n",
      "3 WadeBo00 139\n",
      "3 BennEa00 70\n",
      "3 GoodMa00 78\n",
      "3 ColeCo00 15\n",
      "3 GiveCh00 96\n",
      "3 AvanJa00 109\n",
      "3 WashJa00 60\n",
      "3 GabrDo00 167\n",
      "3 HamlKJ00 46\n",
      "3 GageJu00 143\n",
      "3 EnunQu00 209\n",
      "3 ThomMi01 107\n",
      "3 MeacRo00 27\n",
      "3 JeffVa00 57\n",
      "3 DaviGa01 128\n",
      "3 GreeDo00 40\n",
      "3 CartDr00 163\n",
      "3 ReagJa00 21\n",
      "3 EdwaBr01 81\n",
      "3 ConlCh00 76\n",
      "3 WillRe00 9\n",
      "3 MitcMa01 112\n",
      "3 SmitTr03 91\n",
      "3 MassMo00 50\n",
      "3 CampPa00 59\n",
      "3 MillAn02 51\n",
      "3 WaltKe00 255\n",
      "3 GinnTe00 9\n",
      "3 DougHa00 84\n",
      "3 MimsDe00 59\n",
      "3 KerlJe00 153\n",
      "3 RichPa01 45\n",
      "3 ReedJo01 36\n",
      "3 PerrBr02 26\n",
      "3 MattJo00 42\n",
      "3 McCaJu00 124\n",
      "3 GardRo00 15\n",
      "3 PortJe00 47\n",
      "3 MattRi00 227\n",
      "3 HenrCh00 83\n",
      "3 MoorDe02 148\n",
      "3 CephQu00 166\n",
      "3 ValdMa00 174\n",
      "3 ParkSa00 105\n",
      "3 LeliAs00 19\n",
      "3 JenkMi00 29\n",
      "3 PinkTo00 36\n",
      "3 BrowRe01 35\n",
      "3 ArriAd00 237\n",
      "3 AverDo00 33\n",
      "3 TaylTr01 10\n",
      "3 LeexMa00 39\n",
      "3 GaffJa00 33\n",
      "3 SanuMo00 83\n",
      "3 NortDe00 32\n",
      "3 BerrBe00 78\n",
      "3 FloyMi00 13\n",
      "3 GibsBr00 194\n",
      "3 CurtKe00 74\n",
      "3 WestDe00 110\n",
      "3 WalkMi01 79\n",
      "3 PeopDo00 187\n",
      "3 CollAu00 127\n",
      "3 CotcJe00 108\n",
      "3 GiveDa00 253\n",
      "3 RoyaEd00 42\n",
      "3 StilKe00 144\n",
      "3 SmitSt02 51\n",
      "3 YounTi00 44\n",
      "3 HardMe00 56\n",
      "3 AghoNe00 20\n",
      "3 CoutKe00 103\n",
      "3 HackD.00 157\n",
      "3 WillTe01 74\n",
      "3 WarrPe00 4\n",
      "3 BreaSt00 142\n",
      "3 MannMa01 95\n",
      "3 ClayMa01 22\n",
      "3 RandRu00 63\n",
      "3 SmitTo02 58\n",
      "3 StalDo00 13\n",
      "3 RobiKo00 9\n",
      "3 BritKe00 30\n",
      "3 WalkJa00 20\n",
      "3 EdwaBr00 3\n",
      "3 RiceSi01 44\n",
      "3 BenjKe00 28\n",
      "3 JoneJa04 78\n",
      "3 LaFeBr00 78\n",
      "4 BurlNa00 71\n",
      "4 SlayDa01 171\n",
      "4 CharDJ00 61\n",
      "4 MoonDa00 173\n",
      "4 WillMi04 101\n",
      "4 JohnSt00 224\n",
      "4 HartBr00 108\n",
      "4 WallDa01 204\n",
      "4 BranDe00 65\n",
      "4 HousTJ00 204\n",
      "4 ShenLa00 42\n",
      "4 ChamCh00 52\n",
      "4 WrigKe01 20\n",
      "4 WillMi07 7\n",
      "4 RenfHu00 149\n",
      "4 EvanLe00 13\n",
      "4 WillRo04 7\n",
      "4 MossSa00 16\n",
      "4 GallMi00 81\n",
      "4 BryaMa00 118\n",
      "4 CrowJa00 105\n",
      "4 RuggHe00 12\n",
      "4 ParkDe01 14\n",
      "4 TateGo00 60\n",
      "4 DaviCo03 5\n",
      "4 BryaAn00 63\n",
      "4 HolmSa00 25\n",
      "4 BoydTy00 55\n",
      "4 DeckEr00 87\n",
      "4 NickHa01 29\n",
      "4 WallMi00 84\n",
      "4 JoneMa02 166\n",
      "4 BurrPl00 8\n",
      "4 WatkSa00 4\n",
      "4 KirkCh01 47\n",
      "4 SandEm00 82\n",
      "4 BrowMa04 25\n",
      "4 BoweDw00 23\n",
      "4 PittMi01 34\n",
      "4 JeudJe00 15\n",
      "4 ColeLa00 78\n",
      "4 LockTy00 69\n",
      "4 NelsJo00 36\n",
      "4 JennGr00 52\n",
      "4 JackDa00 80\n",
      "4 ShepSt00 40\n",
      "4 ClayCh01 49\n",
      "4 WoodRo02 41\n",
      "4 SmitJu00 62\n",
      "4 HiggTe00 33\n",
      "4 MaclJe00 19\n",
      "4 SuttCo00 40\n",
      "4 JohnDi01 66\n",
      "4 BryaDe01 24\n",
      "4 JeffAl00 45\n",
      "4 RobiAl02 61\n",
      "4 GollKe00 96\n",
      "4 LandJa00 63\n",
      "4 WhitRo00 27\n",
      "4 JackDe00 49\n",
      "4 ThomDe03 22\n",
      "4 JohnCh01 36\n",
      "4 GodwCh00 84\n",
      "4 FitzLa00 3\n",
      "4 MarsBr00 119\n",
      "4 CoopAm00 4\n",
      "4 WaynRe00 30\n",
      "4 SmitSt01 74\n",
      "4 RidlCa00 26\n",
      "4 CookBr00 20\n",
      "4 HiltT.00 92\n",
      "4 BoldAn00 54\n",
      "4 AdamDa01 53\n",
      "4 LambCe00 17\n",
      "4 MetcDK00 64\n",
      "4 BlacJu00 5\n",
      "4 McLaTe00 76\n",
      "4 BrowAJ00 51\n",
      "4 JohnAn02 3\n",
      "4 MoorD.00 24\n",
      "4 GreeA.00 4\n",
      "4 DiggSt00 146\n",
      "4 AlleKe00 76\n",
      "4 EvanMi00 7\n",
      "4 HopkDe00 27\n",
      "4 BeckOd00 12\n",
      "4 BrowAn04 195\n",
      "4 JeffJu00 22\n",
      "4 ThomMi05 47\n",
      "4 JohnCa00 2\n",
      "4 JoneJu02 6\n",
      "0 0.27472527472527475\n",
      "1 0.23076923076923078\n",
      "2 0.21978021978021978\n",
      "3 0.25274725274725274\n",
      "4 0.5384615384615384\n"
     ]
    }
   ],
   "source": [
    "tier_and_player_id_tuples = tiers_with_nfl_id[['tier', 'nfl_id']].set_index('tier').to_records()\n",
    "draft_hits = defaultdict(list)\n",
    "\n",
    "for tier, player_id in tier_and_player_id_tuples:\n",
    "    print(tier, player_id, draft_data[player_id]['draft_pick'])\n",
    "    val = find_clostest_tier_given_draft_position(tier, draft_data[player_id]['draft_pick'])\n",
    "    draft_hits[tier].append(val)\n",
    "    \n",
    "for tier, hits in draft_hits.items():\n",
    "    print(tier, np.mean(hits))"
   ]
  },
  {
   "cell_type": "markdown",
   "metadata": {},
   "source": [
    "# Draft Accuracy by Confusion Matrix"
   ]
  },
  {
   "cell_type": "code",
   "execution_count": 324,
   "metadata": {},
   "outputs": [],
   "source": [
    "def find_tier_given_draft_position(tier, draft_position):\n",
    "    for i, (expected_start, expected_end) in enumerate(tier_draft_range):\n",
    "        if draft_position >= expected_start and draft_position <= expected_end:\n",
    "            return i\n",
    "    return 0"
   ]
  },
  {
   "cell_type": "code",
   "execution_count": 325,
   "metadata": {},
   "outputs": [],
   "source": [
    "tier_and_player_id_tuples = tiers_with_nfl_id[['tier', 'nfl_id']].set_index('tier').to_records()\n",
    "draft_hits = defaultdict(list)\n",
    "\n",
    "for tier, player_id in tier_and_player_id_tuples:\n",
    "    val = find_tier_given_draft_position(tier, draft_data[player_id]['draft_pick'])\n",
    "    draft_hits[tier].append(val)"
   ]
  },
  {
   "cell_type": "code",
   "execution_count": 326,
   "metadata": {},
   "outputs": [],
   "source": [
    "from collections import Counter, OrderedDict"
   ]
  },
  {
   "cell_type": "code",
   "execution_count": 327,
   "metadata": {},
   "outputs": [
    {
     "name": "stdout",
     "output_type": "stream",
     "text": [
      "dict_items([(2, 20), (1, 32), (0, 29), (3, 9), (4, 1)])\n",
      "[(0, 29), (1, 32), (2, 20), (3, 9), (4, 1)]\n",
      "dict_items([(4, 8), (1, 26), (2, 20), (0, 21), (3, 16)])\n",
      "[(0, 21), (1, 26), (2, 20), (3, 16), (4, 8)]\n",
      "dict_items([(1, 15), (2, 25), (0, 20), (3, 14), (4, 17)])\n",
      "[(0, 20), (1, 15), (2, 25), (3, 14), (4, 17)]\n",
      "dict_items([(2, 16), (4, 28), (1, 15), (3, 27), (0, 5)])\n",
      "[(0, 5), (1, 15), (2, 16), (3, 27), (4, 28)]\n",
      "dict_items([(3, 30), (1, 6), (2, 13), (0, 3), (4, 39)])\n",
      "[(0, 3), (1, 6), (2, 13), (3, 30), (4, 39)]\n"
     ]
    },
    {
     "data": {
      "text/plain": [
       "{0: [29, 32, 20, 9, 1],\n",
       " 1: [21, 26, 20, 16, 8],\n",
       " 2: [20, 15, 25, 14, 17],\n",
       " 3: [5, 15, 16, 27, 28],\n",
       " 4: [3, 6, 13, 30, 39]}"
      ]
     },
     "execution_count": 327,
     "metadata": {},
     "output_type": "execute_result"
    }
   ],
   "source": [
    "confusion_mat = {}\n",
    "for tier, draft_tier_list in draft_hits.items():\n",
    "    draft_tiers = Counter(draft_tier_list).items()\n",
    "    print(draft_tiers)\n",
    "    draft_tiers = sorted(draft_tiers)\n",
    "    print(draft_tiers)\n",
    "    \n",
    "    confusion_mat[tier] = [values for _, values in draft_tiers]\n",
    "    \n",
    "confusion_mat"
   ]
  },
  {
   "cell_type": "code",
   "execution_count": null,
   "metadata": {},
   "outputs": [],
   "source": []
  }
 ],
 "metadata": {
  "celltoolbar": "Raw Cell Format",
  "interpreter": {
   "hash": "31f2aee4e71d21fbe5cf8b01ff0e069b9275f58929596ceb00d14d90e3e16cd6"
  },
  "kernelspec": {
   "display_name": "Python 3 (ipykernel)",
   "language": "python",
   "name": "python3"
  },
  "language_info": {
   "codemirror_mode": {
    "name": "ipython",
    "version": 3
   },
   "file_extension": ".py",
   "mimetype": "text/x-python",
   "name": "python",
   "nbconvert_exporter": "python",
   "pygments_lexer": "ipython3",
   "version": "3.9.10"
  }
 },
 "nbformat": 4,
 "nbformat_minor": 2
}
